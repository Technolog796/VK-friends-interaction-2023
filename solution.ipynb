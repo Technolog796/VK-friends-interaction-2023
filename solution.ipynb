{
 "cells": [
  {
   "cell_type": "markdown",
   "id": "1af0fcc0",
   "metadata": {},
   "source": [
    "## Библиотеки"
   ]
  },
  {
   "cell_type": "code",
   "execution_count": 1,
   "id": "61f933e7",
   "metadata": {},
   "outputs": [],
   "source": [
    "from catboost import CatBoostRegressor, Pool\n",
    "import numpy as np\n",
    "import pandas as pd\n",
    "from tqdm.auto import tqdm"
   ]
  },
  {
   "cell_type": "markdown",
   "id": "75a93c8b",
   "metadata": {},
   "source": [
    "## Утилиты"
   ]
  },
  {
   "cell_type": "markdown",
   "id": "8b704516",
   "metadata": {},
   "source": [
    "### Хранение графа"
   ]
  },
  {
   "cell_type": "code",
   "execution_count": 2,
   "id": "4e50844f",
   "metadata": {},
   "outputs": [],
   "source": [
    "class DiGraph:\n",
    "    def __init__(self) -> None:\n",
    "        self.max_v = -1\n",
    "        self.edges = []\n",
    "\n",
    "    def add_edge(self, u: int, v: int, x: float) -> None:\n",
    "        self.max_v = max(self.max_v, max(u, v))\n",
    "        self.edges.append((u, v, x))\n",
    "        \n",
    "    def get_n(self) -> int:\n",
    "        return self.max_v + 1\n",
    "\n",
    "    def get_m(self) -> int:\n",
    "        return len(self.edges)\n",
    "\n",
    "    def to_array(self) -> np.array:\n",
    "        g = np.zeros((self.max_v + 1, self.max_v + 1), np.float32)\n",
    "        for edge in self.edges:\n",
    "            g[edge[0]][edge[1]] = 1 + edge[2]\n",
    "        return g"
   ]
  },
  {
   "cell_type": "markdown",
   "id": "0d97a29c",
   "metadata": {},
   "source": [
    "### Чтение"
   ]
  },
  {
   "cell_type": "code",
   "execution_count": 3,
   "id": "051bba30",
   "metadata": {},
   "outputs": [],
   "source": [
    "def read_ego_net(ego_net_path):\n",
    "    cur_ego_id = -1\n",
    "    cur_ego_net = None\n",
    "    cur_ego_net_x1 = None\n",
    "    cur_ego_net_x2 = None\n",
    "    cur_ego_net_x3 = None\n",
    "    cur_ego_net_time = None\n",
    "    with open(ego_net_path, 'r') as ego_net_f:\n",
    "        ego_net_f.readline()\n",
    "        for line in ego_net_f:\n",
    "            line = line.split(',')\n",
    "            ego_id, u, v = int(line[0]), int(line[1]), int(line[2])\n",
    "            x2, x3 = float(line[5]), float(line[6])\n",
    "\n",
    "            if ego_id != cur_ego_id:\n",
    "                if cur_ego_id != -1:\n",
    "                    yield cur_ego_id, cur_ego_net, cur_ego_net_x1, cur_ego_net_x2, cur_ego_net_x3, cur_ego_net_time\n",
    "                assert cur_ego_id < ego_id\n",
    "                cur_ego_id = ego_id\n",
    "                cur_ego_net = DiGraph()\n",
    "                cur_ego_net_x1 = DiGraph()\n",
    "                cur_ego_net_x2 = DiGraph()\n",
    "                cur_ego_net_x3 = DiGraph()\n",
    "                cur_ego_net_time = DiGraph()\n",
    "            \n",
    "            cur_ego_net.add_edge(u, v, 0)\n",
    "            if line[4] == \"\":\n",
    "                cur_ego_net_x1.add_edge(u, v, -1)\n",
    "            else:\n",
    "                cur_ego_net_x1.add_edge(u, v, float(line[4]))\n",
    "            cur_ego_net_x2.add_edge(u, v, x2)\n",
    "            cur_ego_net_x3.add_edge(u, v, x3)\n",
    "            if line[3] == \"\":\n",
    "                cur_ego_net_time.add_edge(u, v, -1)\n",
    "            else:\n",
    "                cur_ego_net_time.add_edge(u, v, float(line[3]))\n",
    "\n",
    "        if cur_ego_id != -1:\n",
    "            yield cur_ego_id, cur_ego_net, cur_ego_net_x1, cur_ego_net_x2, cur_ego_net_x3, cur_ego_net_time"
   ]
  },
  {
   "cell_type": "markdown",
   "id": "b50af9eb",
   "metadata": {},
   "source": [
    "## Данные"
   ]
  },
  {
   "cell_type": "code",
   "execution_count": 4,
   "id": "fa66442e",
   "metadata": {},
   "outputs": [
    {
     "data": {
      "text/html": [
       "<div>\n",
       "<style scoped>\n",
       "    .dataframe tbody tr th:only-of-type {\n",
       "        vertical-align: middle;\n",
       "    }\n",
       "\n",
       "    .dataframe tbody tr th {\n",
       "        vertical-align: top;\n",
       "    }\n",
       "\n",
       "    .dataframe thead th {\n",
       "        text-align: right;\n",
       "    }\n",
       "</style>\n",
       "<table border=\"1\" class=\"dataframe\">\n",
       "  <thead>\n",
       "    <tr style=\"text-align: right;\">\n",
       "      <th></th>\n",
       "      <th>u</th>\n",
       "      <th>v</th>\n",
       "      <th>x1</th>\n",
       "    </tr>\n",
       "    <tr>\n",
       "      <th>ego_id</th>\n",
       "      <th></th>\n",
       "      <th></th>\n",
       "      <th></th>\n",
       "    </tr>\n",
       "  </thead>\n",
       "  <tbody>\n",
       "    <tr>\n",
       "      <th>0</th>\n",
       "      <td>131</td>\n",
       "      <td>84</td>\n",
       "      <td>5.669200e-07</td>\n",
       "    </tr>\n",
       "    <tr>\n",
       "      <th>0</th>\n",
       "      <td>135</td>\n",
       "      <td>164</td>\n",
       "      <td>6.246274e-02</td>\n",
       "    </tr>\n",
       "    <tr>\n",
       "      <th>0</th>\n",
       "      <td>47</td>\n",
       "      <td>15</td>\n",
       "      <td>0.000000e+00</td>\n",
       "    </tr>\n",
       "    <tr>\n",
       "      <th>0</th>\n",
       "      <td>5</td>\n",
       "      <td>4</td>\n",
       "      <td>4.962974e-02</td>\n",
       "    </tr>\n",
       "    <tr>\n",
       "      <th>0</th>\n",
       "      <td>176</td>\n",
       "      <td>219</td>\n",
       "      <td>1.237935e+00</td>\n",
       "    </tr>\n",
       "    <tr>\n",
       "      <th>...</th>\n",
       "      <td>...</td>\n",
       "      <td>...</td>\n",
       "      <td>...</td>\n",
       "    </tr>\n",
       "    <tr>\n",
       "      <th>1709396984692</th>\n",
       "      <td>3</td>\n",
       "      <td>5</td>\n",
       "      <td>2.307750e+00</td>\n",
       "    </tr>\n",
       "    <tr>\n",
       "      <th>1709396984692</th>\n",
       "      <td>1</td>\n",
       "      <td>5</td>\n",
       "      <td>3.729143e+00</td>\n",
       "    </tr>\n",
       "    <tr>\n",
       "      <th>1709396984692</th>\n",
       "      <td>1</td>\n",
       "      <td>7</td>\n",
       "      <td>4.286984e+00</td>\n",
       "    </tr>\n",
       "    <tr>\n",
       "      <th>1709396984692</th>\n",
       "      <td>5</td>\n",
       "      <td>11</td>\n",
       "      <td>3.500757e+00</td>\n",
       "    </tr>\n",
       "    <tr>\n",
       "      <th>1709396984692</th>\n",
       "      <td>3</td>\n",
       "      <td>1</td>\n",
       "      <td>5.773366e-02</td>\n",
       "    </tr>\n",
       "  </tbody>\n",
       "</table>\n",
       "<p>122280372 rows × 3 columns</p>\n",
       "</div>"
      ],
      "text/plain": [
       "                 u    v            x1\n",
       "ego_id                               \n",
       "0              131   84  5.669200e-07\n",
       "0              135  164  6.246274e-02\n",
       "0               47   15  0.000000e+00\n",
       "0                5    4  4.962974e-02\n",
       "0              176  219  1.237935e+00\n",
       "...            ...  ...           ...\n",
       "1709396984692    3    5  2.307750e+00\n",
       "1709396984692    1    5  3.729143e+00\n",
       "1709396984692    1    7  4.286984e+00\n",
       "1709396984692    5   11  3.500757e+00\n",
       "1709396984692    3    1  5.773366e-02\n",
       "\n",
       "[122280372 rows x 3 columns]"
      ]
     },
     "execution_count": 4,
     "metadata": {},
     "output_type": "execute_result"
    }
   ],
   "source": [
    "train = pd.read_csv(\n",
    "    './data/train.csv', index_col='ego_id', usecols=['ego_id', 'u', 'v', 'x1'], \n",
    "    dtype={'ego_id': 'int64', 'u': 'int32', 'v': 'int32', 'x1': 'float32'}\n",
    ")\n",
    "train"
   ]
  },
  {
   "cell_type": "code",
   "execution_count": 5,
   "id": "cc9cb809",
   "metadata": {},
   "outputs": [
    {
     "data": {
      "text/html": [
       "<div>\n",
       "<style scoped>\n",
       "    .dataframe tbody tr th:only-of-type {\n",
       "        vertical-align: middle;\n",
       "    }\n",
       "\n",
       "    .dataframe tbody tr th {\n",
       "        vertical-align: top;\n",
       "    }\n",
       "\n",
       "    .dataframe thead th {\n",
       "        text-align: right;\n",
       "    }\n",
       "</style>\n",
       "<table border=\"1\" class=\"dataframe\">\n",
       "  <thead>\n",
       "    <tr style=\"text-align: right;\">\n",
       "      <th></th>\n",
       "      <th>u</th>\n",
       "      <th>v</th>\n",
       "      <th>x1</th>\n",
       "    </tr>\n",
       "    <tr>\n",
       "      <th>ego_id</th>\n",
       "      <th></th>\n",
       "      <th></th>\n",
       "      <th></th>\n",
       "    </tr>\n",
       "  </thead>\n",
       "  <tbody>\n",
       "    <tr>\n",
       "      <th>8</th>\n",
       "      <td>20</td>\n",
       "      <td>19</td>\n",
       "      <td>3.839089e-04</td>\n",
       "    </tr>\n",
       "    <tr>\n",
       "      <th>8</th>\n",
       "      <td>131</td>\n",
       "      <td>125</td>\n",
       "      <td>4.034464e-01</td>\n",
       "    </tr>\n",
       "    <tr>\n",
       "      <th>8</th>\n",
       "      <td>73</td>\n",
       "      <td>56</td>\n",
       "      <td>8.554643e-05</td>\n",
       "    </tr>\n",
       "    <tr>\n",
       "      <th>8</th>\n",
       "      <td>0</td>\n",
       "      <td>4</td>\n",
       "      <td>2.886418e-01</td>\n",
       "    </tr>\n",
       "    <tr>\n",
       "      <th>8</th>\n",
       "      <td>63</td>\n",
       "      <td>73</td>\n",
       "      <td>4.281692e-07</td>\n",
       "    </tr>\n",
       "    <tr>\n",
       "      <th>...</th>\n",
       "      <td>...</td>\n",
       "      <td>...</td>\n",
       "      <td>...</td>\n",
       "    </tr>\n",
       "    <tr>\n",
       "      <th>1709396984676</th>\n",
       "      <td>89</td>\n",
       "      <td>0</td>\n",
       "      <td>1.167843e+00</td>\n",
       "    </tr>\n",
       "    <tr>\n",
       "      <th>1709396984676</th>\n",
       "      <td>84</td>\n",
       "      <td>87</td>\n",
       "      <td>1.179100e-06</td>\n",
       "    </tr>\n",
       "    <tr>\n",
       "      <th>1709396984676</th>\n",
       "      <td>8</td>\n",
       "      <td>18</td>\n",
       "      <td>1.175182e+00</td>\n",
       "    </tr>\n",
       "    <tr>\n",
       "      <th>1709396984676</th>\n",
       "      <td>33</td>\n",
       "      <td>20</td>\n",
       "      <td>5.511019e-01</td>\n",
       "    </tr>\n",
       "    <tr>\n",
       "      <th>1709396984676</th>\n",
       "      <td>3</td>\n",
       "      <td>1</td>\n",
       "      <td>1.422682e+00</td>\n",
       "    </tr>\n",
       "  </tbody>\n",
       "</table>\n",
       "<p>40548780 rows × 3 columns</p>\n",
       "</div>"
      ],
      "text/plain": [
       "                 u    v            x1\n",
       "ego_id                               \n",
       "8               20   19  3.839089e-04\n",
       "8              131  125  4.034464e-01\n",
       "8               73   56  8.554643e-05\n",
       "8                0    4  2.886418e-01\n",
       "8               63   73  4.281692e-07\n",
       "...            ...  ...           ...\n",
       "1709396984676   89    0  1.167843e+00\n",
       "1709396984676   84   87  1.179100e-06\n",
       "1709396984676    8   18  1.175182e+00\n",
       "1709396984676   33   20  5.511019e-01\n",
       "1709396984676    3    1  1.422682e+00\n",
       "\n",
       "[40548780 rows x 3 columns]"
      ]
     },
     "execution_count": 5,
     "metadata": {},
     "output_type": "execute_result"
    }
   ],
   "source": [
    "test = pd.read_csv(\n",
    "    './data/test.csv', index_col='ego_id', usecols=['ego_id', 'u', 'v', 'x1'], \n",
    "    dtype={'ego_id': 'int64', 'u': 'int32', 'v': 'int32', 'x1': 'float32'}\n",
    ")\n",
    "test"
   ]
  },
  {
   "cell_type": "code",
   "execution_count": 6,
   "id": "2399bd0d",
   "metadata": {},
   "outputs": [
    {
     "data": {
      "text/html": [
       "<div>\n",
       "<style scoped>\n",
       "    .dataframe tbody tr th:only-of-type {\n",
       "        vertical-align: middle;\n",
       "    }\n",
       "\n",
       "    .dataframe tbody tr th {\n",
       "        vertical-align: top;\n",
       "    }\n",
       "\n",
       "    .dataframe thead th {\n",
       "        text-align: right;\n",
       "    }\n",
       "</style>\n",
       "<table border=\"1\" class=\"dataframe\">\n",
       "  <thead>\n",
       "    <tr style=\"text-align: right;\">\n",
       "      <th></th>\n",
       "      <th>u</th>\n",
       "      <th>age</th>\n",
       "      <th>city_id</th>\n",
       "      <th>sex</th>\n",
       "      <th>school</th>\n",
       "      <th>university</th>\n",
       "    </tr>\n",
       "    <tr>\n",
       "      <th>ego_id</th>\n",
       "      <th></th>\n",
       "      <th></th>\n",
       "      <th></th>\n",
       "      <th></th>\n",
       "      <th></th>\n",
       "      <th></th>\n",
       "    </tr>\n",
       "  </thead>\n",
       "  <tbody>\n",
       "    <tr>\n",
       "      <th>0</th>\n",
       "      <td>227</td>\n",
       "      <td>68</td>\n",
       "      <td>-1</td>\n",
       "      <td>1</td>\n",
       "      <td>778293348</td>\n",
       "      <td>-1</td>\n",
       "    </tr>\n",
       "    <tr>\n",
       "      <th>0</th>\n",
       "      <td>45</td>\n",
       "      <td>38</td>\n",
       "      <td>237065842</td>\n",
       "      <td>1</td>\n",
       "      <td>82803468</td>\n",
       "      <td>238500268</td>\n",
       "    </tr>\n",
       "    <tr>\n",
       "      <th>0</th>\n",
       "      <td>142</td>\n",
       "      <td>60</td>\n",
       "      <td>237065842</td>\n",
       "      <td>1</td>\n",
       "      <td>196560139</td>\n",
       "      <td>-1</td>\n",
       "    </tr>\n",
       "    <tr>\n",
       "      <th>0</th>\n",
       "      <td>280</td>\n",
       "      <td>66</td>\n",
       "      <td>-1</td>\n",
       "      <td>2</td>\n",
       "      <td>963209731</td>\n",
       "      <td>720783270</td>\n",
       "    </tr>\n",
       "    <tr>\n",
       "      <th>0</th>\n",
       "      <td>41</td>\n",
       "      <td>18</td>\n",
       "      <td>-1</td>\n",
       "      <td>2</td>\n",
       "      <td>308862409</td>\n",
       "      <td>-1</td>\n",
       "    </tr>\n",
       "    <tr>\n",
       "      <th>...</th>\n",
       "      <td>...</td>\n",
       "      <td>...</td>\n",
       "      <td>...</td>\n",
       "      <td>...</td>\n",
       "      <td>...</td>\n",
       "      <td>...</td>\n",
       "    </tr>\n",
       "    <tr>\n",
       "      <th>1709396984692</th>\n",
       "      <td>2</td>\n",
       "      <td>16</td>\n",
       "      <td>492149712</td>\n",
       "      <td>2</td>\n",
       "      <td>769209871</td>\n",
       "      <td>-1</td>\n",
       "    </tr>\n",
       "    <tr>\n",
       "      <th>1709396984692</th>\n",
       "      <td>12</td>\n",
       "      <td>15</td>\n",
       "      <td>-1</td>\n",
       "      <td>1</td>\n",
       "      <td>-1</td>\n",
       "      <td>-1</td>\n",
       "    </tr>\n",
       "    <tr>\n",
       "      <th>1709396984692</th>\n",
       "      <td>18</td>\n",
       "      <td>23</td>\n",
       "      <td>-1</td>\n",
       "      <td>1</td>\n",
       "      <td>-1</td>\n",
       "      <td>-1</td>\n",
       "    </tr>\n",
       "    <tr>\n",
       "      <th>1709396984692</th>\n",
       "      <td>4</td>\n",
       "      <td>16</td>\n",
       "      <td>650683235</td>\n",
       "      <td>1</td>\n",
       "      <td>-1</td>\n",
       "      <td>-1</td>\n",
       "    </tr>\n",
       "    <tr>\n",
       "      <th>1709396984692</th>\n",
       "      <td>10</td>\n",
       "      <td>16</td>\n",
       "      <td>-1</td>\n",
       "      <td>1</td>\n",
       "      <td>-1</td>\n",
       "      <td>-1</td>\n",
       "    </tr>\n",
       "  </tbody>\n",
       "</table>\n",
       "<p>14930748 rows × 6 columns</p>\n",
       "</div>"
      ],
      "text/plain": [
       "                 u  age    city_id  sex     school  university\n",
       "ego_id                                                        \n",
       "0              227   68         -1    1  778293348          -1\n",
       "0               45   38  237065842    1   82803468   238500268\n",
       "0              142   60  237065842    1  196560139          -1\n",
       "0              280   66         -1    2  963209731   720783270\n",
       "0               41   18         -1    2  308862409          -1\n",
       "...            ...  ...        ...  ...        ...         ...\n",
       "1709396984692    2   16  492149712    2  769209871          -1\n",
       "1709396984692   12   15         -1    1         -1          -1\n",
       "1709396984692   18   23         -1    1         -1          -1\n",
       "1709396984692    4   16  650683235    1         -1          -1\n",
       "1709396984692   10   16         -1    1         -1          -1\n",
       "\n",
       "[14930748 rows x 6 columns]"
      ]
     },
     "execution_count": 6,
     "metadata": {},
     "output_type": "execute_result"
    }
   ],
   "source": [
    "attr_df = pd.read_csv('./data/attr.csv').set_index('ego_id')\n",
    "attr_df"
   ]
  },
  {
   "cell_type": "markdown",
   "id": "038f606c",
   "metadata": {},
   "source": [
    "## Создание признаков"
   ]
  },
  {
   "cell_type": "markdown",
   "id": "64f2bbee",
   "metadata": {},
   "source": [
    "### На основе эго-графа"
   ]
  },
  {
   "cell_type": "code",
   "execution_count": 7,
   "id": "ad8cd951",
   "metadata": {},
   "outputs": [],
   "source": [
    "def build_X(X, ego_net, ego_net_x1, ego_net_x2, ego_net_x3, ego_net_time):\n",
    "    vertex_cnt = ego_net_x2.get_n()\n",
    "    \n",
    "    vertex_cnt = ego_net.get_n()\n",
    "    edge_cnt = ego_net.get_m()\n",
    "    \n",
    "    X['vertex_cnt'] = vertex_cnt\n",
    "    X['edge_cnt'] = edge_cnt\n",
    "    X['edge-vertex_cnt'] = edge_cnt - vertex_cnt\n",
    "    X['density'] = 2 * edge_cnt / vertex_cnt / (vertex_cnt - 1)\n",
    "    \n",
    "    g = ego_net.to_array()\n",
    "    degree = g.sum(axis=1)\n",
    "    \n",
    "    X['u_neighbour_cnt'] = degree[X.u]\n",
    "    X['v_neighbour_cnt'] = degree[X.v]\n",
    "    \n",
    "    sc = g.dot(g.T).flatten()\n",
    "    X['SC'] = sc[X.u * vertex_cnt + X.v]\n",
    "    \n",
    "    degree = 1 + degree.reshape((-1, 1))\n",
    "        \n",
    "    aa = (g / degree).dot(g.T).flatten()\n",
    "    X['AA'] = aa[X.u * vertex_cnt + X.v]\n",
    "    aa = (g / (1 + np.sqrt(degree))).dot(g.T).flatten()\n",
    "    X['AA_sqrt'] = aa[X.u * vertex_cnt + X.v]\n",
    "    aa = (g / (1 + np.log(degree))).dot(g.T).flatten()\n",
    "    X['AA_log'] = aa[X.u * vertex_cnt + X.v]\n",
    "        \n",
    "    g = ego_net_x1.to_array()\n",
    "    \n",
    "    X['r_x1'] = g[X.v, X.u]\n",
    "    \n",
    "    g = ego_net_time.to_array()\n",
    "    \n",
    "    X['t'] = g[X.u, X.v]\n",
    "    X['r_t'] = g[X.v, X.u]\n",
    "    \n",
    "    X['u_time_0'] = g[X.u, 0]\n",
    "    X['v_time_0'] = g[X.v, 0]\n",
    "    \n",
    "    inv = g.copy()\n",
    "    inv[inv > 0] = 1 / inv[inv > 0]\n",
    "    inv_sum = inv.sum(axis=1)\n",
    "    X['u_t_sum'] = inv_sum[X.u]\n",
    "    X['v_t_sum'] = inv_sum[X.v]\n",
    "    \n",
    "    t_min = g.copy()\n",
    "    t_min[t_min == 0] = t_min.max()\n",
    "    X['min_time'] = t_min.min()\n",
    "    t_min = t_min.min(axis=1)\n",
    "    X['u_t_min'] = t_min[X.u]\n",
    "    X['v_t_min'] = t_min[X.v]\n",
    "    \n",
    "    sc = inv.dot(inv.T).flatten()\n",
    "    X['SC_time'] = sc[X.u * vertex_cnt + X.v]\n",
    "    \n",
    "    g = ego_net_x2.to_array()\n",
    "    \n",
    "    X['x2'] = g[X.u, X.v]\n",
    "    X['r_x2'] = g[X.v, X.u]\n",
    "    \n",
    "    x2_sum = g.sum(axis=1)\n",
    "    X['u_x2_sum'] = x2_sum[X.u]\n",
    "    X['v_x2_sum'] = x2_sum[X.v]\n",
    "    \n",
    "    x2_max = g.max(axis=1)\n",
    "    X['u_x2_max'] = x2_max[X.u]\n",
    "    X['v_x2_max'] = x2_max[X.v]\n",
    "    \n",
    "    sc = g.dot(g.T).flatten()\n",
    "    X['SC_x2'] = sc[X.u * vertex_cnt + X.v]\n",
    "    \n",
    "    g = ego_net_x3.to_array()\n",
    "    \n",
    "    X['x3'] = g[X.u, X.v]\n",
    "    X['r_x3'] = g[X.v, X.u]\n",
    "    \n",
    "    x3_sum = g.sum(axis=1)\n",
    "    X['u_x3_sum'] = x3_sum[X.u]\n",
    "    X['v_x3_sum'] = x3_sum[X.v]\n",
    "    \n",
    "    x3_max = g.max(axis=1)\n",
    "    X['u_x3_max'] = x3_max[X.u]\n",
    "    X['v_x3_max'] = x3_max[X.v]\n",
    "    \n",
    "    sc = g.dot(g.T).flatten()\n",
    "    X['SC_x3'] = sc[X.u * vertex_cnt + X.v]"
   ]
  },
  {
   "cell_type": "markdown",
   "id": "1d2e1803",
   "metadata": {},
   "source": [
    "### На основе атрибутов"
   ]
  },
  {
   "cell_type": "code",
   "execution_count": 8,
   "id": "3ee73822",
   "metadata": {},
   "outputs": [],
   "source": [
    "def add_attr(X, ego_id, ego_net):\n",
    "    cur_attr = attr_df.loc[ego_id].reset_index()\n",
    "    vertex_cnt = ego_net.get_n()\n",
    "    g = ego_net.to_array()\n",
    "        \n",
    "    age = np.full(300, -1, dtype=np.int32)\n",
    "    age[cur_attr.u] = cur_attr.age\n",
    "    age = age[:vertex_cnt]\n",
    "    \n",
    "    X['0_age'] = age[0]\n",
    "    X['u_age'] = age[X.u]\n",
    "    X['v_age'] = age[X.v]\n",
    "    X['age_diff'] = np.abs(X['u_age'] - X['v_age'])\n",
    "    X.loc[(X.u_age == -1) | (X.v_age == -1), 'age_diff'] = -1\n",
    "    \n",
    "    age = g * age\n",
    "    mask = (age > 0).sum(axis=1)\n",
    "    mask[mask==0] = 1\n",
    "    X['u_mean_age'] = age.sum(axis=1)[X.u] / mask[X.u]\n",
    "    X['v_mean_age'] = age.sum(axis=1)[X.v] / mask[X.v]\n",
    "    \n",
    "    sex = np.full(300, -1, dtype=np.int8)\n",
    "    sex[cur_attr.u] = cur_attr.sex\n",
    "    \n",
    "    X['0_sex'] = sex[0]\n",
    "    X['u_sex'] = sex[X.u]\n",
    "    X['v_sex'] = sex[X.v]\n",
    "    \n",
    "    city = np.full(300, -1, dtype=np.int32)\n",
    "    city[cur_attr.u] = cur_attr.city_id\n",
    "    X['is_city_eq'] = (city[X.u] == city[X.v]) & (city[X.u] != -1)\n",
    "    \n",
    "    school = np.full(300, -1, dtype=np.int32)\n",
    "    school[cur_attr.u] = cur_attr.school\n",
    "    X['is_school_eq'] = (school[X.u] == school[X.v]) & (school[X.u] != -1)\n",
    "    \n",
    "    university = np.full(300, -1, dtype=np.int32)\n",
    "    university[cur_attr.u] = cur_attr.university\n",
    "    X['is_university_eq'] = (university[X.u] == university[X.v]) & (university[X.u] != -1)"
   ]
  },
  {
   "cell_type": "markdown",
   "id": "33661255",
   "metadata": {},
   "source": [
    "### Создание таблиц"
   ]
  },
  {
   "cell_type": "code",
   "execution_count": 9,
   "id": "cd6f9cb8",
   "metadata": {},
   "outputs": [
    {
     "data": {
      "application/vnd.jupyter.widget-view+json": {
       "model_id": "3799906c9f9241c78d50f30b2f3dc306",
       "version_major": 2,
       "version_minor": 0
      },
      "text/plain": [
       "  0%|          | 0/61786 [00:00<?, ?it/s]"
      ]
     },
     "metadata": {},
     "output_type": "display_data"
    }
   ],
   "source": [
    "train_df = []\n",
    "for ego_id, ego_net, ego_net_x1, ego_net_x2, ego_net_x3, ego_net_time in \\\n",
    "tqdm(read_ego_net('./data/train.csv'), total=61786):\n",
    "    X = train.loc[ego_id].reset_index()\n",
    "    build_X(X, ego_net, ego_net_x1, ego_net_x2, ego_net_x3, ego_net_time)\n",
    "    add_attr(X, ego_id, ego_net)\n",
    "    train_df.append(X)"
   ]
  },
  {
   "cell_type": "code",
   "execution_count": 10,
   "id": "cfe8accc",
   "metadata": {},
   "outputs": [
    {
     "data": {
      "text/html": [
       "<div>\n",
       "<style scoped>\n",
       "    .dataframe tbody tr th:only-of-type {\n",
       "        vertical-align: middle;\n",
       "    }\n",
       "\n",
       "    .dataframe tbody tr th {\n",
       "        vertical-align: top;\n",
       "    }\n",
       "\n",
       "    .dataframe thead th {\n",
       "        text-align: right;\n",
       "    }\n",
       "</style>\n",
       "<table border=\"1\" class=\"dataframe\">\n",
       "  <thead>\n",
       "    <tr style=\"text-align: right;\">\n",
       "      <th></th>\n",
       "      <th>ego_id</th>\n",
       "      <th>u</th>\n",
       "      <th>v</th>\n",
       "      <th>x1</th>\n",
       "      <th>vertex_cnt</th>\n",
       "      <th>edge_cnt</th>\n",
       "      <th>edge-vertex_cnt</th>\n",
       "      <th>density</th>\n",
       "      <th>u_neighbour_cnt</th>\n",
       "      <th>v_neighbour_cnt</th>\n",
       "      <th>...</th>\n",
       "      <th>v_age</th>\n",
       "      <th>age_diff</th>\n",
       "      <th>u_mean_age</th>\n",
       "      <th>v_mean_age</th>\n",
       "      <th>0_sex</th>\n",
       "      <th>u_sex</th>\n",
       "      <th>v_sex</th>\n",
       "      <th>is_city_eq</th>\n",
       "      <th>is_school_eq</th>\n",
       "      <th>is_university_eq</th>\n",
       "    </tr>\n",
       "  </thead>\n",
       "  <tbody>\n",
       "    <tr>\n",
       "      <th>0</th>\n",
       "      <td>0</td>\n",
       "      <td>131</td>\n",
       "      <td>84</td>\n",
       "      <td>5.669200e-07</td>\n",
       "      <td>300</td>\n",
       "      <td>1642</td>\n",
       "      <td>1342</td>\n",
       "      <td>0.036611</td>\n",
       "      <td>7.0</td>\n",
       "      <td>10.0</td>\n",
       "      <td>...</td>\n",
       "      <td>50</td>\n",
       "      <td>12</td>\n",
       "      <td>39.285714</td>\n",
       "      <td>56.700000</td>\n",
       "      <td>1</td>\n",
       "      <td>1</td>\n",
       "      <td>1</td>\n",
       "      <td>True</td>\n",
       "      <td>False</td>\n",
       "      <td>False</td>\n",
       "    </tr>\n",
       "    <tr>\n",
       "      <th>1</th>\n",
       "      <td>0</td>\n",
       "      <td>135</td>\n",
       "      <td>164</td>\n",
       "      <td>6.246274e-02</td>\n",
       "      <td>300</td>\n",
       "      <td>1642</td>\n",
       "      <td>1342</td>\n",
       "      <td>0.036611</td>\n",
       "      <td>4.0</td>\n",
       "      <td>5.0</td>\n",
       "      <td>...</td>\n",
       "      <td>92</td>\n",
       "      <td>47</td>\n",
       "      <td>48.250000</td>\n",
       "      <td>37.800000</td>\n",
       "      <td>1</td>\n",
       "      <td>2</td>\n",
       "      <td>1</td>\n",
       "      <td>False</td>\n",
       "      <td>False</td>\n",
       "      <td>True</td>\n",
       "    </tr>\n",
       "    <tr>\n",
       "      <th>2</th>\n",
       "      <td>0</td>\n",
       "      <td>47</td>\n",
       "      <td>15</td>\n",
       "      <td>0.000000e+00</td>\n",
       "      <td>300</td>\n",
       "      <td>1642</td>\n",
       "      <td>1342</td>\n",
       "      <td>0.036611</td>\n",
       "      <td>3.0</td>\n",
       "      <td>3.0</td>\n",
       "      <td>...</td>\n",
       "      <td>42</td>\n",
       "      <td>1</td>\n",
       "      <td>41.000000</td>\n",
       "      <td>41.000000</td>\n",
       "      <td>1</td>\n",
       "      <td>2</td>\n",
       "      <td>2</td>\n",
       "      <td>False</td>\n",
       "      <td>False</td>\n",
       "      <td>False</td>\n",
       "    </tr>\n",
       "    <tr>\n",
       "      <th>3</th>\n",
       "      <td>0</td>\n",
       "      <td>5</td>\n",
       "      <td>4</td>\n",
       "      <td>4.962974e-02</td>\n",
       "      <td>300</td>\n",
       "      <td>1642</td>\n",
       "      <td>1342</td>\n",
       "      <td>0.036611</td>\n",
       "      <td>24.0</td>\n",
       "      <td>10.0</td>\n",
       "      <td>...</td>\n",
       "      <td>40</td>\n",
       "      <td>9</td>\n",
       "      <td>41.318182</td>\n",
       "      <td>41.800000</td>\n",
       "      <td>1</td>\n",
       "      <td>1</td>\n",
       "      <td>2</td>\n",
       "      <td>False</td>\n",
       "      <td>False</td>\n",
       "      <td>False</td>\n",
       "    </tr>\n",
       "    <tr>\n",
       "      <th>4</th>\n",
       "      <td>0</td>\n",
       "      <td>176</td>\n",
       "      <td>219</td>\n",
       "      <td>1.237935e+00</td>\n",
       "      <td>300</td>\n",
       "      <td>1642</td>\n",
       "      <td>1342</td>\n",
       "      <td>0.036611</td>\n",
       "      <td>15.0</td>\n",
       "      <td>18.0</td>\n",
       "      <td>...</td>\n",
       "      <td>21</td>\n",
       "      <td>0</td>\n",
       "      <td>26.933333</td>\n",
       "      <td>22.777778</td>\n",
       "      <td>1</td>\n",
       "      <td>1</td>\n",
       "      <td>1</td>\n",
       "      <td>True</td>\n",
       "      <td>False</td>\n",
       "      <td>False</td>\n",
       "    </tr>\n",
       "    <tr>\n",
       "      <th>...</th>\n",
       "      <td>...</td>\n",
       "      <td>...</td>\n",
       "      <td>...</td>\n",
       "      <td>...</td>\n",
       "      <td>...</td>\n",
       "      <td>...</td>\n",
       "      <td>...</td>\n",
       "      <td>...</td>\n",
       "      <td>...</td>\n",
       "      <td>...</td>\n",
       "      <td>...</td>\n",
       "      <td>...</td>\n",
       "      <td>...</td>\n",
       "      <td>...</td>\n",
       "      <td>...</td>\n",
       "      <td>...</td>\n",
       "      <td>...</td>\n",
       "      <td>...</td>\n",
       "      <td>...</td>\n",
       "      <td>...</td>\n",
       "      <td>...</td>\n",
       "    </tr>\n",
       "    <tr>\n",
       "      <th>1637</th>\n",
       "      <td>0</td>\n",
       "      <td>253</td>\n",
       "      <td>158</td>\n",
       "      <td>1.497307e-01</td>\n",
       "      <td>300</td>\n",
       "      <td>1642</td>\n",
       "      <td>1342</td>\n",
       "      <td>0.036611</td>\n",
       "      <td>4.0</td>\n",
       "      <td>4.0</td>\n",
       "      <td>...</td>\n",
       "      <td>40</td>\n",
       "      <td>26</td>\n",
       "      <td>37.000000</td>\n",
       "      <td>34.250000</td>\n",
       "      <td>1</td>\n",
       "      <td>1</td>\n",
       "      <td>1</td>\n",
       "      <td>True</td>\n",
       "      <td>False</td>\n",
       "      <td>False</td>\n",
       "    </tr>\n",
       "    <tr>\n",
       "      <th>1638</th>\n",
       "      <td>0</td>\n",
       "      <td>259</td>\n",
       "      <td>244</td>\n",
       "      <td>1.827714e+00</td>\n",
       "      <td>300</td>\n",
       "      <td>1642</td>\n",
       "      <td>1342</td>\n",
       "      <td>0.036611</td>\n",
       "      <td>10.0</td>\n",
       "      <td>11.0</td>\n",
       "      <td>...</td>\n",
       "      <td>25</td>\n",
       "      <td>4</td>\n",
       "      <td>35.000000</td>\n",
       "      <td>32.181818</td>\n",
       "      <td>1</td>\n",
       "      <td>1</td>\n",
       "      <td>2</td>\n",
       "      <td>False</td>\n",
       "      <td>False</td>\n",
       "      <td>False</td>\n",
       "    </tr>\n",
       "    <tr>\n",
       "      <th>1639</th>\n",
       "      <td>0</td>\n",
       "      <td>209</td>\n",
       "      <td>127</td>\n",
       "      <td>6.636844e-02</td>\n",
       "      <td>300</td>\n",
       "      <td>1642</td>\n",
       "      <td>1342</td>\n",
       "      <td>0.036611</td>\n",
       "      <td>19.0</td>\n",
       "      <td>21.0</td>\n",
       "      <td>...</td>\n",
       "      <td>21</td>\n",
       "      <td>1</td>\n",
       "      <td>25.526316</td>\n",
       "      <td>24.250000</td>\n",
       "      <td>1</td>\n",
       "      <td>2</td>\n",
       "      <td>1</td>\n",
       "      <td>True</td>\n",
       "      <td>False</td>\n",
       "      <td>True</td>\n",
       "    </tr>\n",
       "    <tr>\n",
       "      <th>1640</th>\n",
       "      <td>0</td>\n",
       "      <td>187</td>\n",
       "      <td>241</td>\n",
       "      <td>3.756446e+00</td>\n",
       "      <td>300</td>\n",
       "      <td>1642</td>\n",
       "      <td>1342</td>\n",
       "      <td>0.036611</td>\n",
       "      <td>10.0</td>\n",
       "      <td>18.0</td>\n",
       "      <td>...</td>\n",
       "      <td>21</td>\n",
       "      <td>0</td>\n",
       "      <td>21.600000</td>\n",
       "      <td>23.176471</td>\n",
       "      <td>1</td>\n",
       "      <td>1</td>\n",
       "      <td>1</td>\n",
       "      <td>False</td>\n",
       "      <td>False</td>\n",
       "      <td>False</td>\n",
       "    </tr>\n",
       "    <tr>\n",
       "      <th>1641</th>\n",
       "      <td>0</td>\n",
       "      <td>168</td>\n",
       "      <td>0</td>\n",
       "      <td>1.632408e-03</td>\n",
       "      <td>300</td>\n",
       "      <td>1642</td>\n",
       "      <td>1342</td>\n",
       "      <td>0.036611</td>\n",
       "      <td>13.0</td>\n",
       "      <td>193.0</td>\n",
       "      <td>...</td>\n",
       "      <td>43</td>\n",
       "      <td>2</td>\n",
       "      <td>23.250000</td>\n",
       "      <td>40.872222</td>\n",
       "      <td>1</td>\n",
       "      <td>2</td>\n",
       "      <td>1</td>\n",
       "      <td>False</td>\n",
       "      <td>False</td>\n",
       "      <td>False</td>\n",
       "    </tr>\n",
       "  </tbody>\n",
       "</table>\n",
       "<p>1642 rows × 51 columns</p>\n",
       "</div>"
      ],
      "text/plain": [
       "      ego_id    u    v            x1  vertex_cnt  edge_cnt  edge-vertex_cnt  \\\n",
       "0          0  131   84  5.669200e-07         300      1642             1342   \n",
       "1          0  135  164  6.246274e-02         300      1642             1342   \n",
       "2          0   47   15  0.000000e+00         300      1642             1342   \n",
       "3          0    5    4  4.962974e-02         300      1642             1342   \n",
       "4          0  176  219  1.237935e+00         300      1642             1342   \n",
       "...      ...  ...  ...           ...         ...       ...              ...   \n",
       "1637       0  253  158  1.497307e-01         300      1642             1342   \n",
       "1638       0  259  244  1.827714e+00         300      1642             1342   \n",
       "1639       0  209  127  6.636844e-02         300      1642             1342   \n",
       "1640       0  187  241  3.756446e+00         300      1642             1342   \n",
       "1641       0  168    0  1.632408e-03         300      1642             1342   \n",
       "\n",
       "       density  u_neighbour_cnt  v_neighbour_cnt  ...  v_age  age_diff  \\\n",
       "0     0.036611              7.0             10.0  ...     50        12   \n",
       "1     0.036611              4.0              5.0  ...     92        47   \n",
       "2     0.036611              3.0              3.0  ...     42         1   \n",
       "3     0.036611             24.0             10.0  ...     40         9   \n",
       "4     0.036611             15.0             18.0  ...     21         0   \n",
       "...        ...              ...              ...  ...    ...       ...   \n",
       "1637  0.036611              4.0              4.0  ...     40        26   \n",
       "1638  0.036611             10.0             11.0  ...     25         4   \n",
       "1639  0.036611             19.0             21.0  ...     21         1   \n",
       "1640  0.036611             10.0             18.0  ...     21         0   \n",
       "1641  0.036611             13.0            193.0  ...     43         2   \n",
       "\n",
       "      u_mean_age  v_mean_age  0_sex  u_sex  v_sex  is_city_eq  is_school_eq  \\\n",
       "0      39.285714   56.700000      1      1      1        True         False   \n",
       "1      48.250000   37.800000      1      2      1       False         False   \n",
       "2      41.000000   41.000000      1      2      2       False         False   \n",
       "3      41.318182   41.800000      1      1      2       False         False   \n",
       "4      26.933333   22.777778      1      1      1        True         False   \n",
       "...          ...         ...    ...    ...    ...         ...           ...   \n",
       "1637   37.000000   34.250000      1      1      1        True         False   \n",
       "1638   35.000000   32.181818      1      1      2       False         False   \n",
       "1639   25.526316   24.250000      1      2      1        True         False   \n",
       "1640   21.600000   23.176471      1      1      1       False         False   \n",
       "1641   23.250000   40.872222      1      2      1       False         False   \n",
       "\n",
       "      is_university_eq  \n",
       "0                False  \n",
       "1                 True  \n",
       "2                False  \n",
       "3                False  \n",
       "4                False  \n",
       "...                ...  \n",
       "1637             False  \n",
       "1638             False  \n",
       "1639              True  \n",
       "1640             False  \n",
       "1641             False  \n",
       "\n",
       "[1642 rows x 51 columns]"
      ]
     },
     "execution_count": 10,
     "metadata": {},
     "output_type": "execute_result"
    }
   ],
   "source": [
    "train_df = pd.concat(train_df)\n",
    "train_df"
   ]
  },
  {
   "cell_type": "code",
   "execution_count": null,
   "id": "2e7e6e70",
   "metadata": {},
   "outputs": [],
   "source": []
  },
  {
   "cell_type": "code",
   "execution_count": 11,
   "id": "913e1c58",
   "metadata": {},
   "outputs": [
    {
     "data": {
      "application/vnd.jupyter.widget-view+json": {
       "model_id": "1552244ee622458bb744457e2d6bd023",
       "version_major": 2,
       "version_minor": 0
      },
      "text/plain": [
       "  0%|          | 0/20596 [00:00<?, ?it/s]"
      ]
     },
     "metadata": {},
     "output_type": "display_data"
    }
   ],
   "source": [
    "test_df = []\n",
    "for ego_id, ego_net, ego_net_x1, ego_net_x2, ego_net_x3, ego_net_time in \\\n",
    "tqdm(read_ego_net('./data/test.csv'), total=20596):\n",
    "    X = test.loc[ego_id].reset_index()\n",
    "    build_X(X, ego_net, ego_net_x1, ego_net_x2, ego_net_x3, ego_net_time)\n",
    "    add_attr(X, ego_id, ego_net)\n",
    "    test_df.append(X)"
   ]
  },
  {
   "cell_type": "code",
   "execution_count": 12,
   "id": "0b63eed3",
   "metadata": {},
   "outputs": [
    {
     "data": {
      "text/html": [
       "<div>\n",
       "<style scoped>\n",
       "    .dataframe tbody tr th:only-of-type {\n",
       "        vertical-align: middle;\n",
       "    }\n",
       "\n",
       "    .dataframe tbody tr th {\n",
       "        vertical-align: top;\n",
       "    }\n",
       "\n",
       "    .dataframe thead th {\n",
       "        text-align: right;\n",
       "    }\n",
       "</style>\n",
       "<table border=\"1\" class=\"dataframe\">\n",
       "  <thead>\n",
       "    <tr style=\"text-align: right;\">\n",
       "      <th></th>\n",
       "      <th>ego_id</th>\n",
       "      <th>u</th>\n",
       "      <th>v</th>\n",
       "      <th>x1</th>\n",
       "      <th>vertex_cnt</th>\n",
       "      <th>edge_cnt</th>\n",
       "      <th>edge-vertex_cnt</th>\n",
       "      <th>density</th>\n",
       "      <th>u_neighbour_cnt</th>\n",
       "      <th>v_neighbour_cnt</th>\n",
       "      <th>...</th>\n",
       "      <th>v_age</th>\n",
       "      <th>age_diff</th>\n",
       "      <th>u_mean_age</th>\n",
       "      <th>v_mean_age</th>\n",
       "      <th>0_sex</th>\n",
       "      <th>u_sex</th>\n",
       "      <th>v_sex</th>\n",
       "      <th>is_city_eq</th>\n",
       "      <th>is_school_eq</th>\n",
       "      <th>is_university_eq</th>\n",
       "    </tr>\n",
       "  </thead>\n",
       "  <tbody>\n",
       "    <tr>\n",
       "      <th>0</th>\n",
       "      <td>8</td>\n",
       "      <td>20</td>\n",
       "      <td>19</td>\n",
       "      <td>3.839089e-04</td>\n",
       "      <td>194</td>\n",
       "      <td>1018</td>\n",
       "      <td>824</td>\n",
       "      <td>0.054377</td>\n",
       "      <td>12.0</td>\n",
       "      <td>7.0</td>\n",
       "      <td>...</td>\n",
       "      <td>37</td>\n",
       "      <td>0</td>\n",
       "      <td>36.500000</td>\n",
       "      <td>50.333333</td>\n",
       "      <td>2</td>\n",
       "      <td>2</td>\n",
       "      <td>2</td>\n",
       "      <td>True</td>\n",
       "      <td>False</td>\n",
       "      <td>False</td>\n",
       "    </tr>\n",
       "    <tr>\n",
       "      <th>1</th>\n",
       "      <td>8</td>\n",
       "      <td>131</td>\n",
       "      <td>125</td>\n",
       "      <td>4.034464e-01</td>\n",
       "      <td>194</td>\n",
       "      <td>1018</td>\n",
       "      <td>824</td>\n",
       "      <td>0.054377</td>\n",
       "      <td>6.0</td>\n",
       "      <td>3.0</td>\n",
       "      <td>...</td>\n",
       "      <td>38</td>\n",
       "      <td>3</td>\n",
       "      <td>33.500000</td>\n",
       "      <td>34.666667</td>\n",
       "      <td>2</td>\n",
       "      <td>2</td>\n",
       "      <td>2</td>\n",
       "      <td>False</td>\n",
       "      <td>False</td>\n",
       "      <td>False</td>\n",
       "    </tr>\n",
       "    <tr>\n",
       "      <th>2</th>\n",
       "      <td>8</td>\n",
       "      <td>73</td>\n",
       "      <td>56</td>\n",
       "      <td>8.554643e-05</td>\n",
       "      <td>194</td>\n",
       "      <td>1018</td>\n",
       "      <td>824</td>\n",
       "      <td>0.054377</td>\n",
       "      <td>10.0</td>\n",
       "      <td>12.0</td>\n",
       "      <td>...</td>\n",
       "      <td>36</td>\n",
       "      <td>22</td>\n",
       "      <td>36.222222</td>\n",
       "      <td>36.600000</td>\n",
       "      <td>2</td>\n",
       "      <td>2</td>\n",
       "      <td>2</td>\n",
       "      <td>False</td>\n",
       "      <td>False</td>\n",
       "      <td>False</td>\n",
       "    </tr>\n",
       "    <tr>\n",
       "      <th>3</th>\n",
       "      <td>8</td>\n",
       "      <td>0</td>\n",
       "      <td>4</td>\n",
       "      <td>2.886418e-01</td>\n",
       "      <td>194</td>\n",
       "      <td>1018</td>\n",
       "      <td>824</td>\n",
       "      <td>0.054377</td>\n",
       "      <td>122.0</td>\n",
       "      <td>6.0</td>\n",
       "      <td>...</td>\n",
       "      <td>37</td>\n",
       "      <td>1</td>\n",
       "      <td>37.557895</td>\n",
       "      <td>47.666667</td>\n",
       "      <td>2</td>\n",
       "      <td>2</td>\n",
       "      <td>1</td>\n",
       "      <td>False</td>\n",
       "      <td>True</td>\n",
       "      <td>False</td>\n",
       "    </tr>\n",
       "    <tr>\n",
       "      <th>4</th>\n",
       "      <td>8</td>\n",
       "      <td>63</td>\n",
       "      <td>73</td>\n",
       "      <td>4.281692e-07</td>\n",
       "      <td>194</td>\n",
       "      <td>1018</td>\n",
       "      <td>824</td>\n",
       "      <td>0.054377</td>\n",
       "      <td>8.0</td>\n",
       "      <td>10.0</td>\n",
       "      <td>...</td>\n",
       "      <td>58</td>\n",
       "      <td>19</td>\n",
       "      <td>48.857143</td>\n",
       "      <td>36.222222</td>\n",
       "      <td>2</td>\n",
       "      <td>2</td>\n",
       "      <td>2</td>\n",
       "      <td>False</td>\n",
       "      <td>False</td>\n",
       "      <td>False</td>\n",
       "    </tr>\n",
       "    <tr>\n",
       "      <th>...</th>\n",
       "      <td>...</td>\n",
       "      <td>...</td>\n",
       "      <td>...</td>\n",
       "      <td>...</td>\n",
       "      <td>...</td>\n",
       "      <td>...</td>\n",
       "      <td>...</td>\n",
       "      <td>...</td>\n",
       "      <td>...</td>\n",
       "      <td>...</td>\n",
       "      <td>...</td>\n",
       "      <td>...</td>\n",
       "      <td>...</td>\n",
       "      <td>...</td>\n",
       "      <td>...</td>\n",
       "      <td>...</td>\n",
       "      <td>...</td>\n",
       "      <td>...</td>\n",
       "      <td>...</td>\n",
       "      <td>...</td>\n",
       "      <td>...</td>\n",
       "    </tr>\n",
       "    <tr>\n",
       "      <th>1013</th>\n",
       "      <td>8</td>\n",
       "      <td>132</td>\n",
       "      <td>17</td>\n",
       "      <td>1.826740e+00</td>\n",
       "      <td>194</td>\n",
       "      <td>1018</td>\n",
       "      <td>824</td>\n",
       "      <td>0.054377</td>\n",
       "      <td>2.0</td>\n",
       "      <td>20.0</td>\n",
       "      <td>...</td>\n",
       "      <td>36</td>\n",
       "      <td>2</td>\n",
       "      <td>37.500000</td>\n",
       "      <td>35.789474</td>\n",
       "      <td>2</td>\n",
       "      <td>2</td>\n",
       "      <td>2</td>\n",
       "      <td>True</td>\n",
       "      <td>False</td>\n",
       "      <td>False</td>\n",
       "    </tr>\n",
       "    <tr>\n",
       "      <th>1014</th>\n",
       "      <td>8</td>\n",
       "      <td>29</td>\n",
       "      <td>14</td>\n",
       "      <td>NaN</td>\n",
       "      <td>194</td>\n",
       "      <td>1018</td>\n",
       "      <td>824</td>\n",
       "      <td>0.054377</td>\n",
       "      <td>6.0</td>\n",
       "      <td>10.0</td>\n",
       "      <td>...</td>\n",
       "      <td>36</td>\n",
       "      <td>-1</td>\n",
       "      <td>52.800000</td>\n",
       "      <td>51.200000</td>\n",
       "      <td>2</td>\n",
       "      <td>-1</td>\n",
       "      <td>1</td>\n",
       "      <td>False</td>\n",
       "      <td>False</td>\n",
       "      <td>False</td>\n",
       "    </tr>\n",
       "    <tr>\n",
       "      <th>1015</th>\n",
       "      <td>8</td>\n",
       "      <td>56</td>\n",
       "      <td>59</td>\n",
       "      <td>NaN</td>\n",
       "      <td>194</td>\n",
       "      <td>1018</td>\n",
       "      <td>824</td>\n",
       "      <td>0.054377</td>\n",
       "      <td>12.0</td>\n",
       "      <td>10.0</td>\n",
       "      <td>...</td>\n",
       "      <td>36</td>\n",
       "      <td>0</td>\n",
       "      <td>36.600000</td>\n",
       "      <td>46.400000</td>\n",
       "      <td>2</td>\n",
       "      <td>2</td>\n",
       "      <td>2</td>\n",
       "      <td>False</td>\n",
       "      <td>False</td>\n",
       "      <td>False</td>\n",
       "    </tr>\n",
       "    <tr>\n",
       "      <th>1016</th>\n",
       "      <td>8</td>\n",
       "      <td>14</td>\n",
       "      <td>11</td>\n",
       "      <td>NaN</td>\n",
       "      <td>194</td>\n",
       "      <td>1018</td>\n",
       "      <td>824</td>\n",
       "      <td>0.054377</td>\n",
       "      <td>10.0</td>\n",
       "      <td>10.0</td>\n",
       "      <td>...</td>\n",
       "      <td>18</td>\n",
       "      <td>18</td>\n",
       "      <td>51.200000</td>\n",
       "      <td>44.800000</td>\n",
       "      <td>2</td>\n",
       "      <td>1</td>\n",
       "      <td>1</td>\n",
       "      <td>True</td>\n",
       "      <td>False</td>\n",
       "      <td>False</td>\n",
       "    </tr>\n",
       "    <tr>\n",
       "      <th>1017</th>\n",
       "      <td>8</td>\n",
       "      <td>0</td>\n",
       "      <td>33</td>\n",
       "      <td>NaN</td>\n",
       "      <td>194</td>\n",
       "      <td>1018</td>\n",
       "      <td>824</td>\n",
       "      <td>0.054377</td>\n",
       "      <td>122.0</td>\n",
       "      <td>6.0</td>\n",
       "      <td>...</td>\n",
       "      <td>37</td>\n",
       "      <td>1</td>\n",
       "      <td>37.557895</td>\n",
       "      <td>36.666667</td>\n",
       "      <td>2</td>\n",
       "      <td>2</td>\n",
       "      <td>2</td>\n",
       "      <td>True</td>\n",
       "      <td>True</td>\n",
       "      <td>True</td>\n",
       "    </tr>\n",
       "  </tbody>\n",
       "</table>\n",
       "<p>1018 rows × 51 columns</p>\n",
       "</div>"
      ],
      "text/plain": [
       "      ego_id    u    v            x1  vertex_cnt  edge_cnt  edge-vertex_cnt  \\\n",
       "0          8   20   19  3.839089e-04         194      1018              824   \n",
       "1          8  131  125  4.034464e-01         194      1018              824   \n",
       "2          8   73   56  8.554643e-05         194      1018              824   \n",
       "3          8    0    4  2.886418e-01         194      1018              824   \n",
       "4          8   63   73  4.281692e-07         194      1018              824   \n",
       "...      ...  ...  ...           ...         ...       ...              ...   \n",
       "1013       8  132   17  1.826740e+00         194      1018              824   \n",
       "1014       8   29   14           NaN         194      1018              824   \n",
       "1015       8   56   59           NaN         194      1018              824   \n",
       "1016       8   14   11           NaN         194      1018              824   \n",
       "1017       8    0   33           NaN         194      1018              824   \n",
       "\n",
       "       density  u_neighbour_cnt  v_neighbour_cnt  ...  v_age  age_diff  \\\n",
       "0     0.054377             12.0              7.0  ...     37         0   \n",
       "1     0.054377              6.0              3.0  ...     38         3   \n",
       "2     0.054377             10.0             12.0  ...     36        22   \n",
       "3     0.054377            122.0              6.0  ...     37         1   \n",
       "4     0.054377              8.0             10.0  ...     58        19   \n",
       "...        ...              ...              ...  ...    ...       ...   \n",
       "1013  0.054377              2.0             20.0  ...     36         2   \n",
       "1014  0.054377              6.0             10.0  ...     36        -1   \n",
       "1015  0.054377             12.0             10.0  ...     36         0   \n",
       "1016  0.054377             10.0             10.0  ...     18        18   \n",
       "1017  0.054377            122.0              6.0  ...     37         1   \n",
       "\n",
       "      u_mean_age  v_mean_age  0_sex  u_sex  v_sex  is_city_eq  is_school_eq  \\\n",
       "0      36.500000   50.333333      2      2      2        True         False   \n",
       "1      33.500000   34.666667      2      2      2       False         False   \n",
       "2      36.222222   36.600000      2      2      2       False         False   \n",
       "3      37.557895   47.666667      2      2      1       False          True   \n",
       "4      48.857143   36.222222      2      2      2       False         False   \n",
       "...          ...         ...    ...    ...    ...         ...           ...   \n",
       "1013   37.500000   35.789474      2      2      2        True         False   \n",
       "1014   52.800000   51.200000      2     -1      1       False         False   \n",
       "1015   36.600000   46.400000      2      2      2       False         False   \n",
       "1016   51.200000   44.800000      2      1      1        True         False   \n",
       "1017   37.557895   36.666667      2      2      2        True          True   \n",
       "\n",
       "      is_university_eq  \n",
       "0                False  \n",
       "1                False  \n",
       "2                False  \n",
       "3                False  \n",
       "4                False  \n",
       "...                ...  \n",
       "1013             False  \n",
       "1014             False  \n",
       "1015             False  \n",
       "1016             False  \n",
       "1017              True  \n",
       "\n",
       "[1018 rows x 51 columns]"
      ]
     },
     "execution_count": 12,
     "metadata": {},
     "output_type": "execute_result"
    }
   ],
   "source": [
    "test_df = pd.concat(test_df)\n",
    "test_df"
   ]
  },
  {
   "cell_type": "code",
   "execution_count": 13,
   "id": "48d15552",
   "metadata": {},
   "outputs": [
    {
     "data": {
      "text/html": [
       "<div>\n",
       "<style scoped>\n",
       "    .dataframe tbody tr th:only-of-type {\n",
       "        vertical-align: middle;\n",
       "    }\n",
       "\n",
       "    .dataframe tbody tr th {\n",
       "        vertical-align: top;\n",
       "    }\n",
       "\n",
       "    .dataframe thead th {\n",
       "        text-align: right;\n",
       "    }\n",
       "</style>\n",
       "<table border=\"1\" class=\"dataframe\">\n",
       "  <thead>\n",
       "    <tr style=\"text-align: right;\">\n",
       "      <th></th>\n",
       "      <th>ego_id</th>\n",
       "      <th>u</th>\n",
       "      <th>v</th>\n",
       "      <th>x1</th>\n",
       "      <th>vertex_cnt</th>\n",
       "      <th>edge_cnt</th>\n",
       "      <th>edge-vertex_cnt</th>\n",
       "      <th>density</th>\n",
       "      <th>u_neighbour_cnt</th>\n",
       "      <th>v_neighbour_cnt</th>\n",
       "      <th>...</th>\n",
       "      <th>v_age</th>\n",
       "      <th>age_diff</th>\n",
       "      <th>u_mean_age</th>\n",
       "      <th>v_mean_age</th>\n",
       "      <th>0_sex</th>\n",
       "      <th>u_sex</th>\n",
       "      <th>v_sex</th>\n",
       "      <th>is_city_eq</th>\n",
       "      <th>is_school_eq</th>\n",
       "      <th>is_university_eq</th>\n",
       "    </tr>\n",
       "  </thead>\n",
       "  <tbody>\n",
       "    <tr>\n",
       "      <th>0</th>\n",
       "      <td>8</td>\n",
       "      <td>20</td>\n",
       "      <td>19</td>\n",
       "      <td>3.839089e-04</td>\n",
       "      <td>194</td>\n",
       "      <td>1018</td>\n",
       "      <td>824</td>\n",
       "      <td>0.054377</td>\n",
       "      <td>12.0</td>\n",
       "      <td>7.0</td>\n",
       "      <td>...</td>\n",
       "      <td>37</td>\n",
       "      <td>0</td>\n",
       "      <td>36.500000</td>\n",
       "      <td>50.333333</td>\n",
       "      <td>2</td>\n",
       "      <td>2</td>\n",
       "      <td>2</td>\n",
       "      <td>True</td>\n",
       "      <td>False</td>\n",
       "      <td>False</td>\n",
       "    </tr>\n",
       "    <tr>\n",
       "      <th>1</th>\n",
       "      <td>8</td>\n",
       "      <td>131</td>\n",
       "      <td>125</td>\n",
       "      <td>4.034464e-01</td>\n",
       "      <td>194</td>\n",
       "      <td>1018</td>\n",
       "      <td>824</td>\n",
       "      <td>0.054377</td>\n",
       "      <td>6.0</td>\n",
       "      <td>3.0</td>\n",
       "      <td>...</td>\n",
       "      <td>38</td>\n",
       "      <td>3</td>\n",
       "      <td>33.500000</td>\n",
       "      <td>34.666667</td>\n",
       "      <td>2</td>\n",
       "      <td>2</td>\n",
       "      <td>2</td>\n",
       "      <td>False</td>\n",
       "      <td>False</td>\n",
       "      <td>False</td>\n",
       "    </tr>\n",
       "    <tr>\n",
       "      <th>2</th>\n",
       "      <td>8</td>\n",
       "      <td>73</td>\n",
       "      <td>56</td>\n",
       "      <td>8.554643e-05</td>\n",
       "      <td>194</td>\n",
       "      <td>1018</td>\n",
       "      <td>824</td>\n",
       "      <td>0.054377</td>\n",
       "      <td>10.0</td>\n",
       "      <td>12.0</td>\n",
       "      <td>...</td>\n",
       "      <td>36</td>\n",
       "      <td>22</td>\n",
       "      <td>36.222222</td>\n",
       "      <td>36.600000</td>\n",
       "      <td>2</td>\n",
       "      <td>2</td>\n",
       "      <td>2</td>\n",
       "      <td>False</td>\n",
       "      <td>False</td>\n",
       "      <td>False</td>\n",
       "    </tr>\n",
       "    <tr>\n",
       "      <th>3</th>\n",
       "      <td>8</td>\n",
       "      <td>0</td>\n",
       "      <td>4</td>\n",
       "      <td>2.886418e-01</td>\n",
       "      <td>194</td>\n",
       "      <td>1018</td>\n",
       "      <td>824</td>\n",
       "      <td>0.054377</td>\n",
       "      <td>122.0</td>\n",
       "      <td>6.0</td>\n",
       "      <td>...</td>\n",
       "      <td>37</td>\n",
       "      <td>1</td>\n",
       "      <td>37.557895</td>\n",
       "      <td>47.666667</td>\n",
       "      <td>2</td>\n",
       "      <td>2</td>\n",
       "      <td>1</td>\n",
       "      <td>False</td>\n",
       "      <td>True</td>\n",
       "      <td>False</td>\n",
       "    </tr>\n",
       "    <tr>\n",
       "      <th>4</th>\n",
       "      <td>8</td>\n",
       "      <td>63</td>\n",
       "      <td>73</td>\n",
       "      <td>4.281692e-07</td>\n",
       "      <td>194</td>\n",
       "      <td>1018</td>\n",
       "      <td>824</td>\n",
       "      <td>0.054377</td>\n",
       "      <td>8.0</td>\n",
       "      <td>10.0</td>\n",
       "      <td>...</td>\n",
       "      <td>58</td>\n",
       "      <td>19</td>\n",
       "      <td>48.857143</td>\n",
       "      <td>36.222222</td>\n",
       "      <td>2</td>\n",
       "      <td>2</td>\n",
       "      <td>2</td>\n",
       "      <td>False</td>\n",
       "      <td>False</td>\n",
       "      <td>False</td>\n",
       "    </tr>\n",
       "    <tr>\n",
       "      <th>...</th>\n",
       "      <td>...</td>\n",
       "      <td>...</td>\n",
       "      <td>...</td>\n",
       "      <td>...</td>\n",
       "      <td>...</td>\n",
       "      <td>...</td>\n",
       "      <td>...</td>\n",
       "      <td>...</td>\n",
       "      <td>...</td>\n",
       "      <td>...</td>\n",
       "      <td>...</td>\n",
       "      <td>...</td>\n",
       "      <td>...</td>\n",
       "      <td>...</td>\n",
       "      <td>...</td>\n",
       "      <td>...</td>\n",
       "      <td>...</td>\n",
       "      <td>...</td>\n",
       "      <td>...</td>\n",
       "      <td>...</td>\n",
       "      <td>...</td>\n",
       "    </tr>\n",
       "    <tr>\n",
       "      <th>1009</th>\n",
       "      <td>8</td>\n",
       "      <td>140</td>\n",
       "      <td>113</td>\n",
       "      <td>6.380812e-06</td>\n",
       "      <td>194</td>\n",
       "      <td>1018</td>\n",
       "      <td>824</td>\n",
       "      <td>0.054377</td>\n",
       "      <td>3.0</td>\n",
       "      <td>3.0</td>\n",
       "      <td>...</td>\n",
       "      <td>36</td>\n",
       "      <td>-1</td>\n",
       "      <td>37.666667</td>\n",
       "      <td>34.500000</td>\n",
       "      <td>2</td>\n",
       "      <td>-1</td>\n",
       "      <td>2</td>\n",
       "      <td>False</td>\n",
       "      <td>False</td>\n",
       "      <td>False</td>\n",
       "    </tr>\n",
       "    <tr>\n",
       "      <th>1010</th>\n",
       "      <td>8</td>\n",
       "      <td>104</td>\n",
       "      <td>91</td>\n",
       "      <td>5.176676e-01</td>\n",
       "      <td>194</td>\n",
       "      <td>1018</td>\n",
       "      <td>824</td>\n",
       "      <td>0.054377</td>\n",
       "      <td>3.0</td>\n",
       "      <td>6.0</td>\n",
       "      <td>...</td>\n",
       "      <td>36</td>\n",
       "      <td>1</td>\n",
       "      <td>36.000000</td>\n",
       "      <td>33.750000</td>\n",
       "      <td>2</td>\n",
       "      <td>2</td>\n",
       "      <td>2</td>\n",
       "      <td>False</td>\n",
       "      <td>False</td>\n",
       "      <td>True</td>\n",
       "    </tr>\n",
       "    <tr>\n",
       "      <th>1011</th>\n",
       "      <td>8</td>\n",
       "      <td>121</td>\n",
       "      <td>41</td>\n",
       "      <td>2.224251e-02</td>\n",
       "      <td>194</td>\n",
       "      <td>1018</td>\n",
       "      <td>824</td>\n",
       "      <td>0.054377</td>\n",
       "      <td>7.0</td>\n",
       "      <td>10.0</td>\n",
       "      <td>...</td>\n",
       "      <td>41</td>\n",
       "      <td>7</td>\n",
       "      <td>38.428571</td>\n",
       "      <td>38.333333</td>\n",
       "      <td>2</td>\n",
       "      <td>1</td>\n",
       "      <td>1</td>\n",
       "      <td>False</td>\n",
       "      <td>False</td>\n",
       "      <td>False</td>\n",
       "    </tr>\n",
       "    <tr>\n",
       "      <th>1012</th>\n",
       "      <td>8</td>\n",
       "      <td>91</td>\n",
       "      <td>13</td>\n",
       "      <td>6.132724e-15</td>\n",
       "      <td>194</td>\n",
       "      <td>1018</td>\n",
       "      <td>824</td>\n",
       "      <td>0.054377</td>\n",
       "      <td>6.0</td>\n",
       "      <td>12.0</td>\n",
       "      <td>...</td>\n",
       "      <td>36</td>\n",
       "      <td>0</td>\n",
       "      <td>33.750000</td>\n",
       "      <td>50.583333</td>\n",
       "      <td>2</td>\n",
       "      <td>2</td>\n",
       "      <td>2</td>\n",
       "      <td>False</td>\n",
       "      <td>False</td>\n",
       "      <td>False</td>\n",
       "    </tr>\n",
       "    <tr>\n",
       "      <th>1013</th>\n",
       "      <td>8</td>\n",
       "      <td>132</td>\n",
       "      <td>17</td>\n",
       "      <td>1.826740e+00</td>\n",
       "      <td>194</td>\n",
       "      <td>1018</td>\n",
       "      <td>824</td>\n",
       "      <td>0.054377</td>\n",
       "      <td>2.0</td>\n",
       "      <td>20.0</td>\n",
       "      <td>...</td>\n",
       "      <td>36</td>\n",
       "      <td>2</td>\n",
       "      <td>37.500000</td>\n",
       "      <td>35.789474</td>\n",
       "      <td>2</td>\n",
       "      <td>2</td>\n",
       "      <td>2</td>\n",
       "      <td>True</td>\n",
       "      <td>False</td>\n",
       "      <td>False</td>\n",
       "    </tr>\n",
       "  </tbody>\n",
       "</table>\n",
       "<p>814 rows × 51 columns</p>\n",
       "</div>"
      ],
      "text/plain": [
       "      ego_id    u    v            x1  vertex_cnt  edge_cnt  edge-vertex_cnt  \\\n",
       "0          8   20   19  3.839089e-04         194      1018              824   \n",
       "1          8  131  125  4.034464e-01         194      1018              824   \n",
       "2          8   73   56  8.554643e-05         194      1018              824   \n",
       "3          8    0    4  2.886418e-01         194      1018              824   \n",
       "4          8   63   73  4.281692e-07         194      1018              824   \n",
       "...      ...  ...  ...           ...         ...       ...              ...   \n",
       "1009       8  140  113  6.380812e-06         194      1018              824   \n",
       "1010       8  104   91  5.176676e-01         194      1018              824   \n",
       "1011       8  121   41  2.224251e-02         194      1018              824   \n",
       "1012       8   91   13  6.132724e-15         194      1018              824   \n",
       "1013       8  132   17  1.826740e+00         194      1018              824   \n",
       "\n",
       "       density  u_neighbour_cnt  v_neighbour_cnt  ...  v_age  age_diff  \\\n",
       "0     0.054377             12.0              7.0  ...     37         0   \n",
       "1     0.054377              6.0              3.0  ...     38         3   \n",
       "2     0.054377             10.0             12.0  ...     36        22   \n",
       "3     0.054377            122.0              6.0  ...     37         1   \n",
       "4     0.054377              8.0             10.0  ...     58        19   \n",
       "...        ...              ...              ...  ...    ...       ...   \n",
       "1009  0.054377              3.0              3.0  ...     36        -1   \n",
       "1010  0.054377              3.0              6.0  ...     36         1   \n",
       "1011  0.054377              7.0             10.0  ...     41         7   \n",
       "1012  0.054377              6.0             12.0  ...     36         0   \n",
       "1013  0.054377              2.0             20.0  ...     36         2   \n",
       "\n",
       "      u_mean_age  v_mean_age  0_sex  u_sex  v_sex  is_city_eq  is_school_eq  \\\n",
       "0      36.500000   50.333333      2      2      2        True         False   \n",
       "1      33.500000   34.666667      2      2      2       False         False   \n",
       "2      36.222222   36.600000      2      2      2       False         False   \n",
       "3      37.557895   47.666667      2      2      1       False          True   \n",
       "4      48.857143   36.222222      2      2      2       False         False   \n",
       "...          ...         ...    ...    ...    ...         ...           ...   \n",
       "1009   37.666667   34.500000      2     -1      2       False         False   \n",
       "1010   36.000000   33.750000      2      2      2       False         False   \n",
       "1011   38.428571   38.333333      2      1      1       False         False   \n",
       "1012   33.750000   50.583333      2      2      2       False         False   \n",
       "1013   37.500000   35.789474      2      2      2        True         False   \n",
       "\n",
       "      is_university_eq  \n",
       "0                False  \n",
       "1                False  \n",
       "2                False  \n",
       "3                False  \n",
       "4                False  \n",
       "...                ...  \n",
       "1009             False  \n",
       "1010              True  \n",
       "1011             False  \n",
       "1012             False  \n",
       "1013             False  \n",
       "\n",
       "[814 rows x 51 columns]"
      ]
     },
     "execution_count": 13,
     "metadata": {},
     "output_type": "execute_result"
    }
   ],
   "source": [
    "val_df = test_df[test_df.x1.notna()].copy()\n",
    "val_df"
   ]
  },
  {
   "cell_type": "code",
   "execution_count": 14,
   "id": "29538496",
   "metadata": {},
   "outputs": [],
   "source": [
    "sub = pd.read_csv('./data/submission.csv')\n",
    "sub_values = set()\n",
    "for ego_id, u, v in zip(sub.ego_id, sub.u, sub.v):\n",
    "    sub_values.add((ego_id, u, v))"
   ]
  },
  {
   "cell_type": "code",
   "execution_count": 15,
   "id": "d71c65fd",
   "metadata": {},
   "outputs": [],
   "source": [
    "mask = []\n",
    "for ego_id, u, v in zip(test_df.ego_id, test_df.u, test_df.v):\n",
    "    mask.append((ego_id, u, v) in sub_values)"
   ]
  },
  {
   "cell_type": "code",
   "execution_count": 16,
   "id": "48fdf88c",
   "metadata": {},
   "outputs": [
    {
     "data": {
      "text/html": [
       "<div>\n",
       "<style scoped>\n",
       "    .dataframe tbody tr th:only-of-type {\n",
       "        vertical-align: middle;\n",
       "    }\n",
       "\n",
       "    .dataframe tbody tr th {\n",
       "        vertical-align: top;\n",
       "    }\n",
       "\n",
       "    .dataframe thead th {\n",
       "        text-align: right;\n",
       "    }\n",
       "</style>\n",
       "<table border=\"1\" class=\"dataframe\">\n",
       "  <thead>\n",
       "    <tr style=\"text-align: right;\">\n",
       "      <th></th>\n",
       "      <th>ego_id</th>\n",
       "      <th>u</th>\n",
       "      <th>v</th>\n",
       "      <th>x1</th>\n",
       "      <th>vertex_cnt</th>\n",
       "      <th>edge_cnt</th>\n",
       "      <th>edge-vertex_cnt</th>\n",
       "      <th>density</th>\n",
       "      <th>u_neighbour_cnt</th>\n",
       "      <th>v_neighbour_cnt</th>\n",
       "      <th>...</th>\n",
       "      <th>v_age</th>\n",
       "      <th>age_diff</th>\n",
       "      <th>u_mean_age</th>\n",
       "      <th>v_mean_age</th>\n",
       "      <th>0_sex</th>\n",
       "      <th>u_sex</th>\n",
       "      <th>v_sex</th>\n",
       "      <th>is_city_eq</th>\n",
       "      <th>is_school_eq</th>\n",
       "      <th>is_university_eq</th>\n",
       "    </tr>\n",
       "  </thead>\n",
       "  <tbody>\n",
       "    <tr>\n",
       "      <th>120</th>\n",
       "      <td>8</td>\n",
       "      <td>7</td>\n",
       "      <td>16</td>\n",
       "      <td>NaN</td>\n",
       "      <td>194</td>\n",
       "      <td>1018</td>\n",
       "      <td>824</td>\n",
       "      <td>0.054377</td>\n",
       "      <td>12.0</td>\n",
       "      <td>8.0</td>\n",
       "      <td>...</td>\n",
       "      <td>36</td>\n",
       "      <td>1</td>\n",
       "      <td>54.666667</td>\n",
       "      <td>36.375000</td>\n",
       "      <td>2</td>\n",
       "      <td>1</td>\n",
       "      <td>1</td>\n",
       "      <td>False</td>\n",
       "      <td>False</td>\n",
       "      <td>False</td>\n",
       "    </tr>\n",
       "    <tr>\n",
       "      <th>141</th>\n",
       "      <td>8</td>\n",
       "      <td>8</td>\n",
       "      <td>29</td>\n",
       "      <td>NaN</td>\n",
       "      <td>194</td>\n",
       "      <td>1018</td>\n",
       "      <td>824</td>\n",
       "      <td>0.054377</td>\n",
       "      <td>13.0</td>\n",
       "      <td>6.0</td>\n",
       "      <td>...</td>\n",
       "      <td>-1</td>\n",
       "      <td>-1</td>\n",
       "      <td>43.727273</td>\n",
       "      <td>52.800000</td>\n",
       "      <td>2</td>\n",
       "      <td>1</td>\n",
       "      <td>-1</td>\n",
       "      <td>False</td>\n",
       "      <td>False</td>\n",
       "      <td>False</td>\n",
       "    </tr>\n",
       "    <tr>\n",
       "      <th>142</th>\n",
       "      <td>8</td>\n",
       "      <td>75</td>\n",
       "      <td>0</td>\n",
       "      <td>NaN</td>\n",
       "      <td>194</td>\n",
       "      <td>1018</td>\n",
       "      <td>824</td>\n",
       "      <td>0.054377</td>\n",
       "      <td>6.0</td>\n",
       "      <td>122.0</td>\n",
       "      <td>...</td>\n",
       "      <td>36</td>\n",
       "      <td>1</td>\n",
       "      <td>35.750000</td>\n",
       "      <td>37.557895</td>\n",
       "      <td>2</td>\n",
       "      <td>1</td>\n",
       "      <td>2</td>\n",
       "      <td>True</td>\n",
       "      <td>False</td>\n",
       "      <td>True</td>\n",
       "    </tr>\n",
       "    <tr>\n",
       "      <th>183</th>\n",
       "      <td>8</td>\n",
       "      <td>0</td>\n",
       "      <td>151</td>\n",
       "      <td>NaN</td>\n",
       "      <td>194</td>\n",
       "      <td>1018</td>\n",
       "      <td>824</td>\n",
       "      <td>0.054377</td>\n",
       "      <td>122.0</td>\n",
       "      <td>5.0</td>\n",
       "      <td>...</td>\n",
       "      <td>18</td>\n",
       "      <td>18</td>\n",
       "      <td>37.557895</td>\n",
       "      <td>38.600000</td>\n",
       "      <td>2</td>\n",
       "      <td>2</td>\n",
       "      <td>2</td>\n",
       "      <td>True</td>\n",
       "      <td>False</td>\n",
       "      <td>False</td>\n",
       "    </tr>\n",
       "    <tr>\n",
       "      <th>297</th>\n",
       "      <td>8</td>\n",
       "      <td>8</td>\n",
       "      <td>20</td>\n",
       "      <td>NaN</td>\n",
       "      <td>194</td>\n",
       "      <td>1018</td>\n",
       "      <td>824</td>\n",
       "      <td>0.054377</td>\n",
       "      <td>13.0</td>\n",
       "      <td>12.0</td>\n",
       "      <td>...</td>\n",
       "      <td>37</td>\n",
       "      <td>84</td>\n",
       "      <td>43.727273</td>\n",
       "      <td>36.500000</td>\n",
       "      <td>2</td>\n",
       "      <td>1</td>\n",
       "      <td>2</td>\n",
       "      <td>False</td>\n",
       "      <td>False</td>\n",
       "      <td>False</td>\n",
       "    </tr>\n",
       "    <tr>\n",
       "      <th>302</th>\n",
       "      <td>8</td>\n",
       "      <td>152</td>\n",
       "      <td>65</td>\n",
       "      <td>NaN</td>\n",
       "      <td>194</td>\n",
       "      <td>1018</td>\n",
       "      <td>824</td>\n",
       "      <td>0.054377</td>\n",
       "      <td>15.0</td>\n",
       "      <td>16.0</td>\n",
       "      <td>...</td>\n",
       "      <td>46</td>\n",
       "      <td>22</td>\n",
       "      <td>36.000000</td>\n",
       "      <td>38.866667</td>\n",
       "      <td>2</td>\n",
       "      <td>2</td>\n",
       "      <td>2</td>\n",
       "      <td>True</td>\n",
       "      <td>False</td>\n",
       "      <td>False</td>\n",
       "    </tr>\n",
       "    <tr>\n",
       "      <th>317</th>\n",
       "      <td>8</td>\n",
       "      <td>5</td>\n",
       "      <td>4</td>\n",
       "      <td>NaN</td>\n",
       "      <td>194</td>\n",
       "      <td>1018</td>\n",
       "      <td>824</td>\n",
       "      <td>0.054377</td>\n",
       "      <td>9.0</td>\n",
       "      <td>6.0</td>\n",
       "      <td>...</td>\n",
       "      <td>37</td>\n",
       "      <td>0</td>\n",
       "      <td>33.875000</td>\n",
       "      <td>47.666667</td>\n",
       "      <td>2</td>\n",
       "      <td>1</td>\n",
       "      <td>1</td>\n",
       "      <td>False</td>\n",
       "      <td>False</td>\n",
       "      <td>False</td>\n",
       "    </tr>\n",
       "    <tr>\n",
       "      <th>347</th>\n",
       "      <td>8</td>\n",
       "      <td>55</td>\n",
       "      <td>0</td>\n",
       "      <td>NaN</td>\n",
       "      <td>194</td>\n",
       "      <td>1018</td>\n",
       "      <td>824</td>\n",
       "      <td>0.054377</td>\n",
       "      <td>11.0</td>\n",
       "      <td>122.0</td>\n",
       "      <td>...</td>\n",
       "      <td>36</td>\n",
       "      <td>82</td>\n",
       "      <td>38.444444</td>\n",
       "      <td>37.557895</td>\n",
       "      <td>2</td>\n",
       "      <td>2</td>\n",
       "      <td>2</td>\n",
       "      <td>False</td>\n",
       "      <td>False</td>\n",
       "      <td>False</td>\n",
       "    </tr>\n",
       "    <tr>\n",
       "      <th>456</th>\n",
       "      <td>8</td>\n",
       "      <td>46</td>\n",
       "      <td>110</td>\n",
       "      <td>NaN</td>\n",
       "      <td>194</td>\n",
       "      <td>1018</td>\n",
       "      <td>824</td>\n",
       "      <td>0.054377</td>\n",
       "      <td>6.0</td>\n",
       "      <td>4.0</td>\n",
       "      <td>...</td>\n",
       "      <td>32</td>\n",
       "      <td>24</td>\n",
       "      <td>38.666667</td>\n",
       "      <td>33.666667</td>\n",
       "      <td>2</td>\n",
       "      <td>2</td>\n",
       "      <td>1</td>\n",
       "      <td>True</td>\n",
       "      <td>False</td>\n",
       "      <td>True</td>\n",
       "    </tr>\n",
       "    <tr>\n",
       "      <th>461</th>\n",
       "      <td>8</td>\n",
       "      <td>74</td>\n",
       "      <td>159</td>\n",
       "      <td>NaN</td>\n",
       "      <td>194</td>\n",
       "      <td>1018</td>\n",
       "      <td>824</td>\n",
       "      <td>0.054377</td>\n",
       "      <td>13.0</td>\n",
       "      <td>3.0</td>\n",
       "      <td>...</td>\n",
       "      <td>18</td>\n",
       "      <td>23</td>\n",
       "      <td>37.545455</td>\n",
       "      <td>31.000000</td>\n",
       "      <td>2</td>\n",
       "      <td>2</td>\n",
       "      <td>2</td>\n",
       "      <td>False</td>\n",
       "      <td>False</td>\n",
       "      <td>False</td>\n",
       "    </tr>\n",
       "    <tr>\n",
       "      <th>529</th>\n",
       "      <td>8</td>\n",
       "      <td>13</td>\n",
       "      <td>7</td>\n",
       "      <td>NaN</td>\n",
       "      <td>194</td>\n",
       "      <td>1018</td>\n",
       "      <td>824</td>\n",
       "      <td>0.054377</td>\n",
       "      <td>12.0</td>\n",
       "      <td>12.0</td>\n",
       "      <td>...</td>\n",
       "      <td>37</td>\n",
       "      <td>1</td>\n",
       "      <td>50.583333</td>\n",
       "      <td>54.666667</td>\n",
       "      <td>2</td>\n",
       "      <td>2</td>\n",
       "      <td>1</td>\n",
       "      <td>True</td>\n",
       "      <td>True</td>\n",
       "      <td>False</td>\n",
       "    </tr>\n",
       "    <tr>\n",
       "      <th>560</th>\n",
       "      <td>8</td>\n",
       "      <td>54</td>\n",
       "      <td>58</td>\n",
       "      <td>NaN</td>\n",
       "      <td>194</td>\n",
       "      <td>1018</td>\n",
       "      <td>824</td>\n",
       "      <td>0.054377</td>\n",
       "      <td>14.0</td>\n",
       "      <td>9.0</td>\n",
       "      <td>...</td>\n",
       "      <td>37</td>\n",
       "      <td>2</td>\n",
       "      <td>42.500000</td>\n",
       "      <td>37.000000</td>\n",
       "      <td>2</td>\n",
       "      <td>2</td>\n",
       "      <td>2</td>\n",
       "      <td>True</td>\n",
       "      <td>False</td>\n",
       "      <td>False</td>\n",
       "    </tr>\n",
       "    <tr>\n",
       "      <th>609</th>\n",
       "      <td>8</td>\n",
       "      <td>11</td>\n",
       "      <td>0</td>\n",
       "      <td>NaN</td>\n",
       "      <td>194</td>\n",
       "      <td>1018</td>\n",
       "      <td>824</td>\n",
       "      <td>0.054377</td>\n",
       "      <td>10.0</td>\n",
       "      <td>122.0</td>\n",
       "      <td>...</td>\n",
       "      <td>36</td>\n",
       "      <td>18</td>\n",
       "      <td>44.800000</td>\n",
       "      <td>37.557895</td>\n",
       "      <td>2</td>\n",
       "      <td>1</td>\n",
       "      <td>2</td>\n",
       "      <td>True</td>\n",
       "      <td>False</td>\n",
       "      <td>False</td>\n",
       "    </tr>\n",
       "    <tr>\n",
       "      <th>654</th>\n",
       "      <td>8</td>\n",
       "      <td>1</td>\n",
       "      <td>24</td>\n",
       "      <td>NaN</td>\n",
       "      <td>194</td>\n",
       "      <td>1018</td>\n",
       "      <td>824</td>\n",
       "      <td>0.054377</td>\n",
       "      <td>11.0</td>\n",
       "      <td>12.0</td>\n",
       "      <td>...</td>\n",
       "      <td>36</td>\n",
       "      <td>84</td>\n",
       "      <td>42.800000</td>\n",
       "      <td>44.363636</td>\n",
       "      <td>2</td>\n",
       "      <td>1</td>\n",
       "      <td>2</td>\n",
       "      <td>False</td>\n",
       "      <td>False</td>\n",
       "      <td>False</td>\n",
       "    </tr>\n",
       "    <tr>\n",
       "      <th>857</th>\n",
       "      <td>8</td>\n",
       "      <td>131</td>\n",
       "      <td>106</td>\n",
       "      <td>NaN</td>\n",
       "      <td>194</td>\n",
       "      <td>1018</td>\n",
       "      <td>824</td>\n",
       "      <td>0.054377</td>\n",
       "      <td>6.0</td>\n",
       "      <td>6.0</td>\n",
       "      <td>...</td>\n",
       "      <td>35</td>\n",
       "      <td>0</td>\n",
       "      <td>33.500000</td>\n",
       "      <td>35.666667</td>\n",
       "      <td>2</td>\n",
       "      <td>2</td>\n",
       "      <td>2</td>\n",
       "      <td>False</td>\n",
       "      <td>False</td>\n",
       "      <td>False</td>\n",
       "    </tr>\n",
       "    <tr>\n",
       "      <th>870</th>\n",
       "      <td>8</td>\n",
       "      <td>64</td>\n",
       "      <td>57</td>\n",
       "      <td>NaN</td>\n",
       "      <td>194</td>\n",
       "      <td>1018</td>\n",
       "      <td>824</td>\n",
       "      <td>0.054377</td>\n",
       "      <td>3.0</td>\n",
       "      <td>7.0</td>\n",
       "      <td>...</td>\n",
       "      <td>27</td>\n",
       "      <td>8</td>\n",
       "      <td>35.333333</td>\n",
       "      <td>38.333333</td>\n",
       "      <td>2</td>\n",
       "      <td>2</td>\n",
       "      <td>2</td>\n",
       "      <td>False</td>\n",
       "      <td>False</td>\n",
       "      <td>False</td>\n",
       "    </tr>\n",
       "    <tr>\n",
       "      <th>938</th>\n",
       "      <td>8</td>\n",
       "      <td>0</td>\n",
       "      <td>93</td>\n",
       "      <td>NaN</td>\n",
       "      <td>194</td>\n",
       "      <td>1018</td>\n",
       "      <td>824</td>\n",
       "      <td>0.054377</td>\n",
       "      <td>122.0</td>\n",
       "      <td>3.0</td>\n",
       "      <td>...</td>\n",
       "      <td>36</td>\n",
       "      <td>0</td>\n",
       "      <td>37.557895</td>\n",
       "      <td>36.666667</td>\n",
       "      <td>2</td>\n",
       "      <td>2</td>\n",
       "      <td>2</td>\n",
       "      <td>True</td>\n",
       "      <td>False</td>\n",
       "      <td>False</td>\n",
       "    </tr>\n",
       "    <tr>\n",
       "      <th>976</th>\n",
       "      <td>8</td>\n",
       "      <td>94</td>\n",
       "      <td>179</td>\n",
       "      <td>NaN</td>\n",
       "      <td>194</td>\n",
       "      <td>1018</td>\n",
       "      <td>824</td>\n",
       "      <td>0.054377</td>\n",
       "      <td>3.0</td>\n",
       "      <td>0.0</td>\n",
       "      <td>...</td>\n",
       "      <td>43</td>\n",
       "      <td>11</td>\n",
       "      <td>41.000000</td>\n",
       "      <td>0.000000</td>\n",
       "      <td>2</td>\n",
       "      <td>1</td>\n",
       "      <td>2</td>\n",
       "      <td>False</td>\n",
       "      <td>False</td>\n",
       "      <td>False</td>\n",
       "    </tr>\n",
       "    <tr>\n",
       "      <th>1006</th>\n",
       "      <td>8</td>\n",
       "      <td>0</td>\n",
       "      <td>143</td>\n",
       "      <td>NaN</td>\n",
       "      <td>194</td>\n",
       "      <td>1018</td>\n",
       "      <td>824</td>\n",
       "      <td>0.054377</td>\n",
       "      <td>122.0</td>\n",
       "      <td>3.0</td>\n",
       "      <td>...</td>\n",
       "      <td>43</td>\n",
       "      <td>7</td>\n",
       "      <td>37.557895</td>\n",
       "      <td>38.333333</td>\n",
       "      <td>2</td>\n",
       "      <td>2</td>\n",
       "      <td>2</td>\n",
       "      <td>True</td>\n",
       "      <td>False</td>\n",
       "      <td>False</td>\n",
       "    </tr>\n",
       "    <tr>\n",
       "      <th>1016</th>\n",
       "      <td>8</td>\n",
       "      <td>14</td>\n",
       "      <td>11</td>\n",
       "      <td>NaN</td>\n",
       "      <td>194</td>\n",
       "      <td>1018</td>\n",
       "      <td>824</td>\n",
       "      <td>0.054377</td>\n",
       "      <td>10.0</td>\n",
       "      <td>10.0</td>\n",
       "      <td>...</td>\n",
       "      <td>18</td>\n",
       "      <td>18</td>\n",
       "      <td>51.200000</td>\n",
       "      <td>44.800000</td>\n",
       "      <td>2</td>\n",
       "      <td>1</td>\n",
       "      <td>1</td>\n",
       "      <td>True</td>\n",
       "      <td>False</td>\n",
       "      <td>False</td>\n",
       "    </tr>\n",
       "  </tbody>\n",
       "</table>\n",
       "<p>20 rows × 51 columns</p>\n",
       "</div>"
      ],
      "text/plain": [
       "      ego_id    u    v  x1  vertex_cnt  edge_cnt  edge-vertex_cnt   density  \\\n",
       "120        8    7   16 NaN         194      1018              824  0.054377   \n",
       "141        8    8   29 NaN         194      1018              824  0.054377   \n",
       "142        8   75    0 NaN         194      1018              824  0.054377   \n",
       "183        8    0  151 NaN         194      1018              824  0.054377   \n",
       "297        8    8   20 NaN         194      1018              824  0.054377   \n",
       "302        8  152   65 NaN         194      1018              824  0.054377   \n",
       "317        8    5    4 NaN         194      1018              824  0.054377   \n",
       "347        8   55    0 NaN         194      1018              824  0.054377   \n",
       "456        8   46  110 NaN         194      1018              824  0.054377   \n",
       "461        8   74  159 NaN         194      1018              824  0.054377   \n",
       "529        8   13    7 NaN         194      1018              824  0.054377   \n",
       "560        8   54   58 NaN         194      1018              824  0.054377   \n",
       "609        8   11    0 NaN         194      1018              824  0.054377   \n",
       "654        8    1   24 NaN         194      1018              824  0.054377   \n",
       "857        8  131  106 NaN         194      1018              824  0.054377   \n",
       "870        8   64   57 NaN         194      1018              824  0.054377   \n",
       "938        8    0   93 NaN         194      1018              824  0.054377   \n",
       "976        8   94  179 NaN         194      1018              824  0.054377   \n",
       "1006       8    0  143 NaN         194      1018              824  0.054377   \n",
       "1016       8   14   11 NaN         194      1018              824  0.054377   \n",
       "\n",
       "      u_neighbour_cnt  v_neighbour_cnt  ...  v_age  age_diff  u_mean_age  \\\n",
       "120              12.0              8.0  ...     36         1   54.666667   \n",
       "141              13.0              6.0  ...     -1        -1   43.727273   \n",
       "142               6.0            122.0  ...     36         1   35.750000   \n",
       "183             122.0              5.0  ...     18        18   37.557895   \n",
       "297              13.0             12.0  ...     37        84   43.727273   \n",
       "302              15.0             16.0  ...     46        22   36.000000   \n",
       "317               9.0              6.0  ...     37         0   33.875000   \n",
       "347              11.0            122.0  ...     36        82   38.444444   \n",
       "456               6.0              4.0  ...     32        24   38.666667   \n",
       "461              13.0              3.0  ...     18        23   37.545455   \n",
       "529              12.0             12.0  ...     37         1   50.583333   \n",
       "560              14.0              9.0  ...     37         2   42.500000   \n",
       "609              10.0            122.0  ...     36        18   44.800000   \n",
       "654              11.0             12.0  ...     36        84   42.800000   \n",
       "857               6.0              6.0  ...     35         0   33.500000   \n",
       "870               3.0              7.0  ...     27         8   35.333333   \n",
       "938             122.0              3.0  ...     36         0   37.557895   \n",
       "976               3.0              0.0  ...     43        11   41.000000   \n",
       "1006            122.0              3.0  ...     43         7   37.557895   \n",
       "1016             10.0             10.0  ...     18        18   51.200000   \n",
       "\n",
       "      v_mean_age  0_sex  u_sex  v_sex  is_city_eq  is_school_eq  \\\n",
       "120    36.375000      2      1      1       False         False   \n",
       "141    52.800000      2      1     -1       False         False   \n",
       "142    37.557895      2      1      2        True         False   \n",
       "183    38.600000      2      2      2        True         False   \n",
       "297    36.500000      2      1      2       False         False   \n",
       "302    38.866667      2      2      2        True         False   \n",
       "317    47.666667      2      1      1       False         False   \n",
       "347    37.557895      2      2      2       False         False   \n",
       "456    33.666667      2      2      1        True         False   \n",
       "461    31.000000      2      2      2       False         False   \n",
       "529    54.666667      2      2      1        True          True   \n",
       "560    37.000000      2      2      2        True         False   \n",
       "609    37.557895      2      1      2        True         False   \n",
       "654    44.363636      2      1      2       False         False   \n",
       "857    35.666667      2      2      2       False         False   \n",
       "870    38.333333      2      2      2       False         False   \n",
       "938    36.666667      2      2      2        True         False   \n",
       "976     0.000000      2      1      2       False         False   \n",
       "1006   38.333333      2      2      2        True         False   \n",
       "1016   44.800000      2      1      1        True         False   \n",
       "\n",
       "      is_university_eq  \n",
       "120              False  \n",
       "141              False  \n",
       "142               True  \n",
       "183              False  \n",
       "297              False  \n",
       "302              False  \n",
       "317              False  \n",
       "347              False  \n",
       "456               True  \n",
       "461              False  \n",
       "529              False  \n",
       "560              False  \n",
       "609              False  \n",
       "654              False  \n",
       "857              False  \n",
       "870              False  \n",
       "938              False  \n",
       "976              False  \n",
       "1006             False  \n",
       "1016             False  \n",
       "\n",
       "[20 rows x 51 columns]"
      ]
     },
     "execution_count": 16,
     "metadata": {},
     "output_type": "execute_result"
    }
   ],
   "source": [
    "test_df = test_df[mask].drop_duplicates(subset=['ego_id', 'u', 'v']).copy()\n",
    "test_df"
   ]
  },
  {
   "cell_type": "code",
   "execution_count": 17,
   "id": "296596a0",
   "metadata": {},
   "outputs": [],
   "source": [
    "del train, test"
   ]
  },
  {
   "cell_type": "code",
   "execution_count": 18,
   "id": "3a3b7351",
   "metadata": {},
   "outputs": [
    {
     "data": {
      "text/plain": [
       "0"
      ]
     },
     "execution_count": 18,
     "metadata": {},
     "output_type": "execute_result"
    }
   ],
   "source": [
    "import gc\n",
    "gc.collect()"
   ]
  },
  {
   "cell_type": "code",
   "execution_count": null,
   "id": "8d9a22b7",
   "metadata": {},
   "outputs": [],
   "source": []
  },
  {
   "cell_type": "code",
   "execution_count": 19,
   "id": "4f6e6b9b",
   "metadata": {},
   "outputs": [
    {
     "data": {
      "text/plain": [
       "(0.666723, 0.43647254)"
      ]
     },
     "execution_count": 19,
     "metadata": {},
     "output_type": "execute_result"
    }
   ],
   "source": [
    "train_df['x1'].mean(), val_df['x1'].mean()"
   ]
  },
  {
   "cell_type": "markdown",
   "id": "29b3af28",
   "metadata": {},
   "source": [
    "## Обучение модели"
   ]
  },
  {
   "cell_type": "code",
   "execution_count": 20,
   "id": "d5bd53dd",
   "metadata": {},
   "outputs": [],
   "source": [
    "train_pool = Pool(\n",
    "    data=train_df.drop(['ego_id', 'u', 'v', 'x1'], axis=1),\n",
    "    label=train_df['x1']\n",
    ")\n",
    "\n",
    "val_pool = Pool(\n",
    "    data=val_df.drop(['ego_id', 'u', 'v', 'x1'], axis=1),\n",
    "    label=val_df['x1']\n",
    ")"
   ]
  },
  {
   "cell_type": "code",
   "execution_count": 21,
   "id": "ca2b6c34",
   "metadata": {},
   "outputs": [],
   "source": [
    "params = {\n",
    "    'task_type': 'CPU',\n",
    "    'loss_function': 'RMSE',\n",
    "    'iterations': 300,\n",
    "    'max_depth': 5,\n",
    "}"
   ]
  },
  {
   "cell_type": "code",
   "execution_count": 22,
   "id": "ff30ecad",
   "metadata": {},
   "outputs": [
    {
     "data": {
      "application/vnd.jupyter.widget-view+json": {
       "model_id": "4212f981b19348388e959909ed75ebcb",
       "version_major": 2,
       "version_minor": 0
      },
      "text/plain": [
       "MetricVisualizer(layout=Layout(align_self='stretch', height='500px'))"
      ]
     },
     "metadata": {},
     "output_type": "display_data"
    },
    {
     "data": {
      "text/plain": [
       "<catboost.core.CatBoostRegressor at 0x180135206a0>"
      ]
     },
     "execution_count": 22,
     "metadata": {},
     "output_type": "execute_result"
    }
   ],
   "source": [
    "model_cb = CatBoostRegressor(**params, random_seed=56)\n",
    "model_cb.fit(train_pool, eval_set=val_pool, plot=True, verbose=False, use_best_model=True)"
   ]
  },
  {
   "cell_type": "code",
   "execution_count": 23,
   "id": "3929180f",
   "metadata": {},
   "outputs": [
    {
     "data": {
      "text/html": [
       "<div>\n",
       "<style scoped>\n",
       "    .dataframe tbody tr th:only-of-type {\n",
       "        vertical-align: middle;\n",
       "    }\n",
       "\n",
       "    .dataframe tbody tr th {\n",
       "        vertical-align: top;\n",
       "    }\n",
       "\n",
       "    .dataframe thead th {\n",
       "        text-align: right;\n",
       "    }\n",
       "</style>\n",
       "<table border=\"1\" class=\"dataframe\">\n",
       "  <thead>\n",
       "    <tr style=\"text-align: right;\">\n",
       "      <th></th>\n",
       "      <th>Feature Id</th>\n",
       "      <th>Importances</th>\n",
       "    </tr>\n",
       "  </thead>\n",
       "  <tbody>\n",
       "    <tr>\n",
       "      <th>0</th>\n",
       "      <td>x2</td>\n",
       "      <td>58.101831</td>\n",
       "    </tr>\n",
       "    <tr>\n",
       "      <th>1</th>\n",
       "      <td>r_x1</td>\n",
       "      <td>9.028127</td>\n",
       "    </tr>\n",
       "    <tr>\n",
       "      <th>2</th>\n",
       "      <td>t</td>\n",
       "      <td>5.680937</td>\n",
       "    </tr>\n",
       "    <tr>\n",
       "      <th>3</th>\n",
       "      <td>v_x2_max</td>\n",
       "      <td>2.850402</td>\n",
       "    </tr>\n",
       "    <tr>\n",
       "      <th>4</th>\n",
       "      <td>r_t</td>\n",
       "      <td>2.097052</td>\n",
       "    </tr>\n",
       "  </tbody>\n",
       "</table>\n",
       "</div>"
      ],
      "text/plain": [
       "  Feature Id  Importances\n",
       "0         x2    58.101831\n",
       "1       r_x1     9.028127\n",
       "2          t     5.680937\n",
       "3   v_x2_max     2.850402\n",
       "4        r_t     2.097052"
      ]
     },
     "execution_count": 23,
     "metadata": {},
     "output_type": "execute_result"
    }
   ],
   "source": [
    "model_cb.get_feature_importance(prettified=True).head()"
   ]
  },
  {
   "cell_type": "code",
   "execution_count": 24,
   "id": "b1263005",
   "metadata": {},
   "outputs": [
    {
     "data": {
      "text/plain": [
       "0.3556318460448743"
      ]
     },
     "execution_count": 24,
     "metadata": {},
     "output_type": "execute_result"
    }
   ],
   "source": [
    "1 - np.min(model_cb.evals_result_['validation']['RMSE'])"
   ]
  },
  {
   "cell_type": "markdown",
   "id": "b7e4abea",
   "metadata": {},
   "source": [
    "## Предсказание"
   ]
  },
  {
   "cell_type": "code",
   "execution_count": 25,
   "id": "a331f0a1",
   "metadata": {},
   "outputs": [],
   "source": [
    "x1_pred = model_cb.predict(test_df)\n",
    "x1_pred[x1_pred<0] = 0\n",
    "x1_pred[x1_pred>50] = 50\n",
    "test_df['x1'] = x1_pred"
   ]
  },
  {
   "cell_type": "code",
   "execution_count": 26,
   "id": "9a06270e",
   "metadata": {},
   "outputs": [],
   "source": [
    "test_df = pd.merge(test_df[['ego_id', 'u', 'v', 'x1']], sub[['ego_id', 'u', 'v']], on = ['ego_id', 'u', 'v'], how='right')\n",
    "test_df.to_csv('./submit.csv', index=False)"
   ]
  },
  {
   "cell_type": "code",
   "execution_count": null,
   "id": "f0746f71",
   "metadata": {},
   "outputs": [],
   "source": []
  }
 ],
 "metadata": {
  "finalized": {
   "timestamp": 1684602747018,
   "trusted": true
  },
  "kernelspec": {
   "display_name": "Python 3 (ipykernel)",
   "language": "python",
   "name": "python3"
  },
  "language_info": {
   "codemirror_mode": {
    "name": "ipython",
    "version": 3
   },
   "file_extension": ".py",
   "mimetype": "text/x-python",
   "name": "python",
   "nbconvert_exporter": "python",
   "pygments_lexer": "ipython3",
   "version": "3.8.13"
  },
  "widgets": {
   "application/vnd.jupyter.widget-state+json": {
    "state": {
     "03fc2396825f4c5aa06fa6784a24947b": {
      "model_module": "@jupyter-widgets/controls",
      "model_module_version": "1.5.0",
      "model_name": "DescriptionStyleModel",
      "state": {
       "description_width": ""
      }
     },
     "0617cca8f61f4935a085810cae01c923": {
      "model_module": "@jupyter-widgets/controls",
      "model_module_version": "1.5.0",
      "model_name": "FloatProgressModel",
      "state": {
       "bar_style": "danger",
       "layout": "IPY_MODEL_15a2e777bcb549dca1e6034930d40185",
       "max": 61786,
       "style": "IPY_MODEL_5795caf1bddd4e9f823baf8d726fab90"
      }
     },
     "0626eb23ed704442b4215e173ac44f24": {
      "model_module": "@jupyter-widgets/controls",
      "model_module_version": "1.5.0",
      "model_name": "DescriptionStyleModel",
      "state": {
       "description_width": ""
      }
     },
     "13c2374ec8d94ec1b6527ba5307b3ab5": {
      "model_module": "@jupyter-widgets/controls",
      "model_module_version": "1.5.0",
      "model_name": "HTMLModel",
      "state": {
       "layout": "IPY_MODEL_2bf16e28bcbe4fda91bf8584c79fce20",
       "style": "IPY_MODEL_4ac7ea524b0746a09a6589df6746516d",
       "value": "  0%"
      }
     },
     "1552244ee622458bb744457e2d6bd023": {
      "model_module": "@jupyter-widgets/controls",
      "model_module_version": "1.5.0",
      "model_name": "HBoxModel",
      "state": {
       "children": [
        "IPY_MODEL_9d25a560bf44434a9bb76694eedb0298",
        "IPY_MODEL_a7f945555d3e489286ba14d0f67ed853",
        "IPY_MODEL_ddb5b37678634d89b2ceb40cda2ce770"
       ],
       "layout": "IPY_MODEL_7edfa68ae03c414cb0c31bb8db1d2f0f"
      }
     },
     "15a2e777bcb549dca1e6034930d40185": {
      "model_module": "@jupyter-widgets/base",
      "model_module_version": "1.2.0",
      "model_name": "LayoutModel",
      "state": {}
     },
     "1c1c7aac0f75495a9d6fdc84c985ab0e": {
      "model_module": "@jupyter-widgets/controls",
      "model_module_version": "1.5.0",
      "model_name": "HTMLModel",
      "state": {
       "layout": "IPY_MODEL_1ca636e3e4b94e469a2579bd76a71c9e",
       "style": "IPY_MODEL_03fc2396825f4c5aa06fa6784a24947b",
       "value": "  0%"
      }
     },
     "1ca636e3e4b94e469a2579bd76a71c9e": {
      "model_module": "@jupyter-widgets/base",
      "model_module_version": "1.2.0",
      "model_name": "LayoutModel",
      "state": {}
     },
     "1fa7c64404d0479d87f3365167d20694": {
      "model_module": "@jupyter-widgets/controls",
      "model_module_version": "1.5.0",
      "model_name": "HTMLModel",
      "state": {
       "layout": "IPY_MODEL_be5e9992ec094fc686c0869374dd9645",
       "style": "IPY_MODEL_0626eb23ed704442b4215e173ac44f24",
       "value": "  0%"
      }
     },
     "202de81bde524d1eada9ec95e4e98ef5": {
      "model_module": "@jupyter-widgets/base",
      "model_module_version": "1.2.0",
      "model_name": "LayoutModel",
      "state": {}
     },
     "27aabceeacf9426680cd1e6b4d037e9d": {
      "model_module": "@jupyter-widgets/controls",
      "model_module_version": "1.5.0",
      "model_name": "DescriptionStyleModel",
      "state": {
       "description_width": ""
      }
     },
     "2bf16e28bcbe4fda91bf8584c79fce20": {
      "model_module": "@jupyter-widgets/base",
      "model_module_version": "1.2.0",
      "model_name": "LayoutModel",
      "state": {}
     },
     "31e043c427a54e9583a86785437ae252": {
      "model_module": "@jupyter-widgets/controls",
      "model_module_version": "1.5.0",
      "model_name": "HTMLModel",
      "state": {
       "layout": "IPY_MODEL_6ea5e1ede6cb43f586cd02b218c69533",
       "style": "IPY_MODEL_a92bbfa087554c0995e247b6a6d295d4",
       "value": " 0/61786 [00:00&lt;?, ?it/s]"
      }
     },
     "32242e86ee78415593d4637735b7d848": {
      "model_module": "@jupyter-widgets/controls",
      "model_module_version": "1.5.0",
      "model_name": "DescriptionStyleModel",
      "state": {
       "description_width": ""
      }
     },
     "366722ade00a443ea0bebd39d2d3e97e": {
      "model_module": "@jupyter-widgets/controls",
      "model_module_version": "1.5.0",
      "model_name": "HBoxModel",
      "state": {
       "children": [
        "IPY_MODEL_13c2374ec8d94ec1b6527ba5307b3ab5",
        "IPY_MODEL_685093632c384169acb53aa2a5d8cf69",
        "IPY_MODEL_831aa90dec14421b84f3f94318cae4ec"
       ],
       "layout": "IPY_MODEL_beead367f40b4433b6c3a10caeb52628"
      }
     },
     "3799906c9f9241c78d50f30b2f3dc306": {
      "model_module": "@jupyter-widgets/controls",
      "model_module_version": "1.5.0",
      "model_name": "HBoxModel",
      "state": {
       "children": [
        "IPY_MODEL_df049841a7814e8883c6bb9eaa95950d",
        "IPY_MODEL_4bc176ce98914842873acda08d713ae3",
        "IPY_MODEL_4872701763ce4cdf90ea70e40ea8c839"
       ],
       "layout": "IPY_MODEL_3e247d5b09504630822ced1c2765cf01"
      }
     },
     "3e247d5b09504630822ced1c2765cf01": {
      "model_module": "@jupyter-widgets/base",
      "model_module_version": "1.2.0",
      "model_name": "LayoutModel",
      "state": {}
     },
     "4212f981b19348388e959909ed75ebcb": {
      "model_module": "catboost-widget",
      "model_module_version": "^1.0.0",
      "model_name": "CatboostWidgetModel",
      "state": {
       "_model_module_version": "^1.0.0",
       "_view_module_version": "^1.0.0",
       "data": {
        "catboost_info": {
         "content": {
          "data": {
           "iterations": [
            {
             "iteration": 0,
             "learn": [
              1.205373338
             ],
             "passed_time": 0.05153978451,
             "remaining_time": 15.41039557,
             "test": [
              0.92027728
             ]
            },
            {
             "iteration": 1,
             "learn": [
              1.15224132
             ],
             "passed_time": 0.0530776803,
             "remaining_time": 7.908574365,
             "test": [
              0.8896573344
             ]
            },
            {
             "iteration": 2,
             "learn": [
              1.108126214
             ],
             "passed_time": 0.05459916354,
             "remaining_time": 5.405317191,
             "test": [
              0.8684169792
             ]
            },
            {
             "iteration": 3,
             "learn": [
              1.053624238
             ],
             "passed_time": 0.0559706421,
             "remaining_time": 4.141827515,
             "test": [
              0.8321919121
             ]
            },
            {
             "iteration": 4,
             "learn": [
              1.015213779
             ],
             "passed_time": 0.0573704323,
             "remaining_time": 3.384855506,
             "test": [
              0.8128143179
             ]
            },
            {
             "iteration": 5,
             "learn": [
              0.9810406
             ],
             "passed_time": 0.05887555304,
             "remaining_time": 2.884902099,
             "test": [
              0.7951517024
             ]
            },
            {
             "iteration": 6,
             "learn": [
              0.9518993114
             ],
             "passed_time": 0.06044094985,
             "remaining_time": 2.529885472,
             "test": [
              0.7800469895
             ]
            },
            {
             "iteration": 7,
             "learn": [
              0.921082089
             ],
             "passed_time": 0.06190412852,
             "remaining_time": 2.259500691,
             "test": [
              0.7597601839
             ]
            },
            {
             "iteration": 8,
             "learn": [
              0.8902337203
             ],
             "passed_time": 0.06341776576,
             "remaining_time": 2.05050776,
             "test": [
              0.7398784359
             ]
            },
            {
             "iteration": 9,
             "learn": [
              0.8726853089
             ],
             "passed_time": 0.06492852081,
             "remaining_time": 1.882927103,
             "test": [
              0.7344177654
             ]
            },
            {
             "iteration": 10,
             "learn": [
              0.8497481447
             ],
             "passed_time": 0.06656218482,
             "remaining_time": 1.748770128,
             "test": [
              0.7257325218
             ]
            },
            {
             "iteration": 11,
             "learn": [
              0.8295202921
             ],
             "passed_time": 0.06807235941,
             "remaining_time": 1.633736626,
             "test": [
              0.7137719808
             ]
            },
            {
             "iteration": 12,
             "learn": [
              0.8073167383
             ],
             "passed_time": 0.06967373374,
             "remaining_time": 1.53818166,
             "test": [
              0.7017986051
             ]
            },
            {
             "iteration": 13,
             "learn": [
              0.7938868119
             ],
             "passed_time": 0.07137560489,
             "remaining_time": 1.458101643,
             "test": [
              0.6967448721
             ]
            },
            {
             "iteration": 14,
             "learn": [
              0.7793645169
             ],
             "passed_time": 0.07308670811,
             "remaining_time": 1.388647454,
             "test": [
              0.6925447135
             ]
            },
            {
             "iteration": 15,
             "learn": [
              0.7681215949
             ],
             "passed_time": 0.07506915826,
             "remaining_time": 1.332477559,
             "test": [
              0.6878456891
             ]
            },
            {
             "iteration": 16,
             "learn": [
              0.755337221
             ],
             "passed_time": 0.07675375542,
             "remaining_time": 1.277724281,
             "test": [
              0.6805657357
             ]
            },
            {
             "iteration": 17,
             "learn": [
              0.7407935814
             ],
             "passed_time": 0.07846251184,
             "remaining_time": 1.229246019,
             "test": [
              0.6749377258
             ]
            },
            {
             "iteration": 18,
             "learn": [
              0.7324064142
             ],
             "passed_time": 0.08001560557,
             "remaining_time": 1.183388693,
             "test": [
              0.6720198844
             ]
            },
            {
             "iteration": 19,
             "learn": [
              0.7251307739
             ],
             "passed_time": 0.08149944003,
             "remaining_time": 1.14099216,
             "test": [
              0.6708896763
             ]
            },
            {
             "iteration": 20,
             "learn": [
              0.7188398976
             ],
             "passed_time": 0.08292188755,
             "remaining_time": 1.101676506,
             "test": [
              0.6691668831
             ]
            },
            {
             "iteration": 21,
             "learn": [
              0.7093711972
             ],
             "passed_time": 0.0844002178,
             "remaining_time": 1.066511843,
             "test": [
              0.6637354018
             ]
            },
            {
             "iteration": 22,
             "learn": [
              0.7046748086
             ],
             "passed_time": 0.08582780926,
             "remaining_time": 1.033665355,
             "test": [
              0.6628408307
             ]
            },
            {
             "iteration": 23,
             "learn": [
              0.6984345876
             ],
             "passed_time": 0.08737914533,
             "remaining_time": 1.004860171,
             "test": [
              0.6614814901
             ]
            },
            {
             "iteration": 24,
             "learn": [
              0.6900377042
             ],
             "passed_time": 0.08898013936,
             "remaining_time": 0.978781533,
             "test": [
              0.6610729721
             ]
            },
            {
             "iteration": 25,
             "learn": [
              0.6808606486
             ],
             "passed_time": 0.09049040403,
             "remaining_time": 0.9536296424,
             "test": [
              0.6578356699
             ]
            },
            {
             "iteration": 26,
             "learn": [
              0.6767477442
             ],
             "passed_time": 0.0919852469,
             "remaining_time": 0.930073052,
             "test": [
              0.656369224
             ]
            },
            {
             "iteration": 27,
             "learn": [
              0.6735478089
             ],
             "passed_time": 0.09349967475,
             "remaining_time": 0.9082825547,
             "test": [
              0.6560023797
             ]
            },
            {
             "iteration": 28,
             "learn": [
              0.6692072826
             ],
             "passed_time": 0.09494568029,
             "remaining_time": 0.8872510123,
             "test": [
              0.6564384364
             ]
            },
            {
             "iteration": 29,
             "learn": [
              0.6633912721
             ],
             "passed_time": 0.09641098058,
             "remaining_time": 0.8676988252,
             "test": [
              0.6547662871
             ]
            },
            {
             "iteration": 30,
             "learn": [
              0.6581419735
             ],
             "passed_time": 0.0978733186,
             "remaining_time": 0.8492878291,
             "test": [
              0.6563987852
             ]
            },
            {
             "iteration": 31,
             "learn": [
              0.6551144309
             ],
             "passed_time": 0.09940106663,
             "remaining_time": 0.8324839331,
             "test": [
              0.6565186816
             ]
            },
            {
             "iteration": 32,
             "learn": [
              0.6488671483
             ],
             "passed_time": 0.1009144387,
             "remaining_time": 0.8164895493,
             "test": [
              0.6542691433
             ]
            },
            {
             "iteration": 33,
             "learn": [
              0.6415784114
             ],
             "passed_time": 0.1024212907,
             "remaining_time": 0.8012959804,
             "test": [
              0.654967269
             ]
            },
            {
             "iteration": 34,
             "learn": [
              0.6369656566
             ],
             "passed_time": 0.1040163402,
             "remaining_time": 0.7875522902,
             "test": [
              0.6535772802
             ]
            },
            {
             "iteration": 35,
             "learn": [
              0.6331925338
             ],
             "passed_time": 0.1055030769,
             "remaining_time": 0.7736892306,
             "test": [
              0.6551445537
             ]
            },
            {
             "iteration": 36,
             "learn": [
              0.6300064731
             ],
             "passed_time": 0.1069496629,
             "remaining_time": 0.7602097659,
             "test": [
              0.6556213356
             ]
            },
            {
             "iteration": 37,
             "learn": [
              0.6245956124
             ],
             "passed_time": 0.1083927362,
             "remaining_time": 0.7473393915,
             "test": [
              0.6550297864
             ]
            },
            {
             "iteration": 38,
             "learn": [
              0.6194170987
             ],
             "passed_time": 0.1099454533,
             "remaining_time": 0.7357888028,
             "test": [
              0.6525398649
             ]
            },
            {
             "iteration": 39,
             "learn": [
              0.6144480599
             ],
             "passed_time": 0.1114136945,
             "remaining_time": 0.7241890144,
             "test": [
              0.651148376
             ]
            },
            {
             "iteration": 40,
             "learn": [
              0.6124504254
             ],
             "passed_time": 0.1128314985,
             "remaining_time": 0.7127648319,
             "test": [
              0.6509191423
             ]
            },
            {
             "iteration": 41,
             "learn": [
              0.6092362988
             ],
             "passed_time": 0.1142279361,
             "remaining_time": 0.7016858934,
             "test": [
              0.6509193646
             ]
            },
            {
             "iteration": 42,
             "learn": [
              0.6079589433
             ],
             "passed_time": 0.1158050482,
             "remaining_time": 0.6921371487,
             "test": [
              0.6506292929
             ]
            },
            {
             "iteration": 43,
             "learn": [
              0.6038969145
             ],
             "passed_time": 0.1173154675,
             "remaining_time": 0.6825627199,
             "test": [
              0.6489120006
             ]
            },
            {
             "iteration": 44,
             "learn": [
              0.5998565399
             ],
             "passed_time": 0.1188457775,
             "remaining_time": 0.6734594057,
             "test": [
              0.6485724397
             ]
            },
            {
             "iteration": 45,
             "learn": [
              0.5959875807
             ],
             "passed_time": 0.1203449136,
             "remaining_time": 0.6645132187,
             "test": [
              0.648797986
             ]
            },
            {
             "iteration": 46,
             "learn": [
              0.5936416552
             ],
             "passed_time": 0.1218545278,
             "remaining_time": 0.6559403305,
             "test": [
              0.6489888925
             ]
            },
            {
             "iteration": 47,
             "learn": [
              0.5883302236
             ],
             "passed_time": 0.1233216495,
             "remaining_time": 0.6474386598,
             "test": [
              0.6492932122
             ]
            },
            {
             "iteration": 48,
             "learn": [
              0.5871388743
             ],
             "passed_time": 0.1247530138,
             "remaining_time": 0.6390409484,
             "test": [
              0.6489366348
             ]
            },
            {
             "iteration": 49,
             "learn": [
              0.5857222846
             ],
             "passed_time": 0.1261563067,
             "remaining_time": 0.6307815335,
             "test": [
              0.6490199876
             ]
            },
            {
             "iteration": 50,
             "learn": [
              0.5824669556
             ],
             "passed_time": 0.127591494,
             "remaining_time": 0.6229467059,
             "test": [
              0.6486203791
             ]
            },
            {
             "iteration": 51,
             "learn": [
              0.5794019059
             ],
             "passed_time": 0.1290915408,
             "remaining_time": 0.6156673485,
             "test": [
              0.648161123
             ]
            },
            {
             "iteration": 52,
             "learn": [
              0.5755291482
             ],
             "passed_time": 0.1306816465,
             "remaining_time": 0.6090257867,
             "test": [
              0.6472919255
             ]
            },
            {
             "iteration": 53,
             "learn": [
              0.5730856002
             ],
             "passed_time": 0.1321062857,
             "remaining_time": 0.6018175239,
             "test": [
              0.6468040913
             ]
            },
            {
             "iteration": 54,
             "learn": [
              0.5708438847
             ],
             "passed_time": 0.133531055,
             "remaining_time": 0.5948201542,
             "test": [
              0.6464156911
             ]
            },
            {
             "iteration": 55,
             "learn": [
              0.5689951069
             ],
             "passed_time": 0.1349413032,
             "remaining_time": 0.5879585355,
             "test": [
              0.646676236
             ]
            },
            {
             "iteration": 56,
             "learn": [
              0.567074004
             ],
             "passed_time": 0.1364882509,
             "remaining_time": 0.5818709646,
             "test": [
              0.646937254
             ]
            },
            {
             "iteration": 57,
             "learn": [
              0.5660553737
             ],
             "passed_time": 0.1379876773,
             "remaining_time": 0.5757416881,
             "test": [
              0.6466628997
             ]
            },
            {
             "iteration": 58,
             "learn": [
              0.5627201007
             ],
             "passed_time": 0.1394598028,
             "remaining_time": 0.5696578387,
             "test": [
              0.6448219263
             ]
            },
            {
             "iteration": 59,
             "learn": [
              0.5605419678
             ],
             "passed_time": 0.1409970481,
             "remaining_time": 0.5639881925,
             "test": [
              0.644368154
             ]
            },
            {
             "iteration": 60,
             "learn": [
              0.5590800679
             ],
             "passed_time": 0.1425097602,
             "remaining_time": 0.5583579129,
             "test": [
              0.6444531278
             ]
            },
            {
             "iteration": 61,
             "learn": [
              0.557052439
             ],
             "passed_time": 0.1439729889,
             "remaining_time": 0.5526705058,
             "test": [
              0.6456278118
             ]
            },
            {
             "iteration": 62,
             "learn": [
              0.5566899572
             ],
             "passed_time": 0.1453708376,
             "remaining_time": 0.5468712463,
             "test": [
              0.6455384412
             ]
            },
            {
             "iteration": 63,
             "learn": [
              0.5552072988
             ],
             "passed_time": 0.1468410016,
             "remaining_time": 0.5414761935,
             "test": [
              0.6454763399
             ]
            },
            {
             "iteration": 64,
             "learn": [
              0.5533318038
             ],
             "passed_time": 0.1484195535,
             "remaining_time": 0.5365937703,
             "test": [
              0.6456821207
             ]
            },
            {
             "iteration": 65,
             "learn": [
              0.5507615666
             ],
             "passed_time": 0.1499319948,
             "remaining_time": 0.5315770726,
             "test": [
              0.6446832411
             ]
            },
            {
             "iteration": 66,
             "learn": [
              0.5481033188
             ],
             "passed_time": 0.1513497087,
             "remaining_time": 0.5263355542,
             "test": [
              0.6473845355
             ]
            },
            {
             "iteration": 67,
             "learn": [
              0.5443776918
             ],
             "passed_time": 0.1527942231,
             "remaining_time": 0.5212979377,
             "test": [
              0.6510099247
             ]
            },
            {
             "iteration": 68,
             "learn": [
              0.5414860053
             ],
             "passed_time": 0.1542492856,
             "remaining_time": 0.5163997822,
             "test": [
              0.6505757095
             ]
            },
            {
             "iteration": 69,
             "learn": [
              0.5389530997
             ],
             "passed_time": 0.1557597504,
             "remaining_time": 0.5117820371,
             "test": [
              0.6503525427
             ]
            },
            {
             "iteration": 70,
             "learn": [
              0.5378366405
             ],
             "passed_time": 0.1572345279,
             "remaining_time": 0.5071367169,
             "test": [
              0.649818215
             ]
            },
            {
             "iteration": 71,
             "learn": [
              0.5346892501
             ],
             "passed_time": 0.1587048621,
             "remaining_time": 0.5025653966,
             "test": [
              0.6498207225
             ]
            },
            {
             "iteration": 72,
             "learn": [
              0.533201152
             ],
             "passed_time": 0.1601593241,
             "remaining_time": 0.498029679,
             "test": [
              0.6500908861
             ]
            },
            {
             "iteration": 73,
             "learn": [
              0.5326776891
             ],
             "passed_time": 0.1615858047,
             "remaining_time": 0.4934917819,
             "test": [
              0.650310258
             ]
            },
            {
             "iteration": 74,
             "learn": [
              0.5288700123
             ],
             "passed_time": 0.1630198411,
             "remaining_time": 0.4890595232,
             "test": [
              0.6512737473
             ]
            },
            {
             "iteration": 75,
             "learn": [
              0.528016097
             ],
             "passed_time": 0.1644579806,
             "remaining_time": 0.4847182586,
             "test": [
              0.6513829573
             ]
            },
            {
             "iteration": 76,
             "learn": [
              0.527544423
             ],
             "passed_time": 0.1659552553,
             "remaining_time": 0.4806236616,
             "test": [
              0.6512780465
             ]
            },
            {
             "iteration": 77,
             "learn": [
              0.5253588096
             ],
             "passed_time": 0.1674015411,
             "remaining_time": 0.47645054,
             "test": [
              0.6524980504
             ]
            },
            {
             "iteration": 78,
             "learn": [
              0.5233544319
             ],
             "passed_time": 0.1688869568,
             "remaining_time": 0.472455917,
             "test": [
              0.6533155434
             ]
            },
            {
             "iteration": 79,
             "learn": [
              0.5226584945
             ],
             "passed_time": 0.1703179508,
             "remaining_time": 0.4683743647,
             "test": [
              0.6533802286
             ]
            },
            {
             "iteration": 80,
             "learn": [
              0.5206721558
             ],
             "passed_time": 0.1717477239,
             "remaining_time": 0.4643549573,
             "test": [
              0.6532647538
             ]
            },
            {
             "iteration": 81,
             "learn": [
              0.5199623432
             ],
             "passed_time": 0.1731820706,
             "remaining_time": 0.4604108705,
             "test": [
              0.6535146925
             ]
            },
            {
             "iteration": 82,
             "learn": [
              0.5183437753
             ],
             "passed_time": 0.1746757212,
             "remaining_time": 0.4566823073,
             "test": [
              0.6542127942
             ]
            },
            {
             "iteration": 83,
             "learn": [
              0.5162746127
             ],
             "passed_time": 0.176229279,
             "remaining_time": 0.4531610031,
             "test": [
              0.6556509666
             ]
            },
            {
             "iteration": 84,
             "learn": [
              0.5159606991
             ],
             "passed_time": 0.1777521346,
             "remaining_time": 0.4496083404,
             "test": [
              0.6558946964
             ]
            },
            {
             "iteration": 85,
             "learn": [
              0.5151123334
             ],
             "passed_time": 0.1793232458,
             "remaining_time": 0.4462229604,
             "test": [
              0.6558180375
             ]
            },
            {
             "iteration": 86,
             "learn": [
              0.5124209101
             ],
             "passed_time": 0.1809906055,
             "remaining_time": 0.4431149308,
             "test": [
              0.6577324919
             ]
            },
            {
             "iteration": 87,
             "learn": [
              0.5098285479
             ],
             "passed_time": 0.1828393577,
             "remaining_time": 0.4404766344,
             "test": [
              0.6568501935
             ]
            },
            {
             "iteration": 88,
             "learn": [
              0.5066813836
             ],
             "passed_time": 0.1847662222,
             "remaining_time": 0.4380412683,
             "test": [
              0.6571223783
             ]
            },
            {
             "iteration": 89,
             "learn": [
              0.5059180408
             ],
             "passed_time": 0.1866130136,
             "remaining_time": 0.4354303651,
             "test": [
              0.657593768
             ]
            },
            {
             "iteration": 90,
             "learn": [
              0.5034651557
             ],
             "passed_time": 0.1881978508,
             "remaining_time": 0.4322346244,
             "test": [
              0.66142709
             ]
            },
            {
             "iteration": 91,
             "learn": [
              0.5016261894
             ],
             "passed_time": 0.1897747414,
             "remaining_time": 0.4290559371,
             "test": [
              0.6627487802
             ]
            },
            {
             "iteration": 92,
             "learn": [
              0.4995498024
             ],
             "passed_time": 0.1912878032,
             "remaining_time": 0.4257696265,
             "test": [
              0.6627742564
             ]
            },
            {
             "iteration": 93,
             "learn": [
              0.4973649043
             ],
             "passed_time": 0.1927813551,
             "remaining_time": 0.4224782889,
             "test": [
              0.6629536197
             ]
            },
            {
             "iteration": 94,
             "learn": [
              0.4938953399
             ],
             "passed_time": 0.1944956358,
             "remaining_time": 0.4197011087,
             "test": [
              0.6624335176
             ]
            },
            {
             "iteration": 95,
             "learn": [
              0.493430869
             ],
             "passed_time": 0.1958840473,
             "remaining_time": 0.4162536004,
             "test": [
              0.6624915321
             ]
            },
            {
             "iteration": 96,
             "learn": [
              0.4914861896
             ],
             "passed_time": 0.1973416567,
             "remaining_time": 0.412993364,
             "test": [
              0.6620571143
             ]
            },
            {
             "iteration": 97,
             "learn": [
              0.4911817565
             ],
             "passed_time": 0.1989089444,
             "remaining_time": 0.4099959874,
             "test": [
              0.6623549247
             ]
            },
            {
             "iteration": 98,
             "learn": [
              0.4891760254
             ],
             "passed_time": 0.2004302275,
             "remaining_time": 0.4069340982,
             "test": [
              0.6630600055
             ]
            },
            {
             "iteration": 99,
             "learn": [
              0.488977575
             ],
             "passed_time": 0.201823873,
             "remaining_time": 0.403647746,
             "test": [
              0.663323676
             ]
            },
            {
             "iteration": 100,
             "learn": [
              0.487015002
             ],
             "passed_time": 0.2033292239,
             "remaining_time": 0.4006189659,
             "test": [
              0.6633495266
             ]
            },
            {
             "iteration": 101,
             "learn": [
              0.4847568898
             ],
             "passed_time": 0.2048258668,
             "remaining_time": 0.3976031533,
             "test": [
              0.6637403761
             ]
            },
            {
             "iteration": 102,
             "learn": [
              0.4825609122
             ],
             "passed_time": 0.2062783987,
             "remaining_time": 0.3945324713,
             "test": [
              0.6653681677
             ]
            },
            {
             "iteration": 103,
             "learn": [
              0.4805011644
             ],
             "passed_time": 0.2080134397,
             "remaining_time": 0.3920253286,
             "test": [
              0.6652041183
             ]
            },
            {
             "iteration": 104,
             "learn": [
              0.4799740256
             ],
             "passed_time": 0.2095614574,
             "remaining_time": 0.3891855638,
             "test": [
              0.6656174258
             ]
            },
            {
             "iteration": 105,
             "learn": [
              0.4785773807
             ],
             "passed_time": 0.2111057794,
             "remaining_time": 0.3863634077,
             "test": [
              0.6658141064
             ]
            },
            {
             "iteration": 106,
             "learn": [
              0.4763941064
             ],
             "passed_time": 0.212670816,
             "remaining_time": 0.3836024999,
             "test": [
              0.66560594
             ]
            },
            {
             "iteration": 107,
             "learn": [
              0.4745594231
             ],
             "passed_time": 0.2141818813,
             "remaining_time": 0.3807677889,
             "test": [
              0.6664766079
             ]
            },
            {
             "iteration": 108,
             "learn": [
              0.4741257205
             ],
             "passed_time": 0.2156236736,
             "remaining_time": 0.3778359785,
             "test": [
              0.6676540968
             ]
            },
            {
             "iteration": 109,
             "learn": [
              0.4727007912
             ],
             "passed_time": 0.2171591675,
             "remaining_time": 0.3750931075,
             "test": [
              0.6674716698
             ]
            },
            {
             "iteration": 110,
             "learn": [
              0.4709951122
             ],
             "passed_time": 0.2188358845,
             "remaining_time": 0.3726124519,
             "test": [
              0.6673003139
             ]
            },
            {
             "iteration": 111,
             "learn": [
              0.4694446811
             ],
             "passed_time": 0.2218637044,
             "remaining_time": 0.3724140752,
             "test": [
              0.6683248423
             ]
            },
            {
             "iteration": 112,
             "learn": [
              0.4678255544
             ],
             "passed_time": 0.2233558051,
             "remaining_time": 0.3696242085,
             "test": [
              0.6684787931
             ]
            },
            {
             "iteration": 113,
             "learn": [
              0.4675062796
             ],
             "passed_time": 0.2248264845,
             "remaining_time": 0.366822159,
             "test": [
              0.6690177434
             ]
            },
            {
             "iteration": 114,
             "learn": [
              0.4663533746
             ],
             "passed_time": 0.2265256136,
             "remaining_time": 0.3644107697,
             "test": [
              0.6693713103
             ]
            },
            {
             "iteration": 115,
             "learn": [
              0.4641471013
             ],
             "passed_time": 0.2282485959,
             "remaining_time": 0.3620494969,
             "test": [
              0.6697401606
             ]
            },
            {
             "iteration": 116,
             "learn": [
              0.4627986696
             ],
             "passed_time": 0.2297996317,
             "remaining_time": 0.3594301932,
             "test": [
              0.6692706088
             ]
            },
            {
             "iteration": 117,
             "learn": [
              0.461254741
             ],
             "passed_time": 0.2313490864,
             "remaining_time": 0.3568265569,
             "test": [
              0.6698590921
             ]
            },
            {
             "iteration": 118,
             "learn": [
              0.459816689
             ],
             "passed_time": 0.2328682879,
             "remaining_time": 0.3541946227,
             "test": [
              0.6704187196
             ]
            },
            {
             "iteration": 119,
             "learn": [
              0.4595680178
             ],
             "passed_time": 0.2342620134,
             "remaining_time": 0.3513930201,
             "test": [
              0.6703957222
             ]
            },
            {
             "iteration": 120,
             "learn": [
              0.4581654223
             ],
             "passed_time": 0.2357725783,
             "remaining_time": 0.3487875332,
             "test": [
              0.6706928176
             ]
            },
            {
             "iteration": 121,
             "learn": [
              0.4565739849
             ],
             "passed_time": 0.2373614268,
             "remaining_time": 0.3463142128,
             "test": [
              0.6721010164
             ]
            },
            {
             "iteration": 122,
             "learn": [
              0.4563404606
             ],
             "passed_time": 0.2389041512,
             "remaining_time": 0.3437889006,
             "test": [
              0.6720730248
             ]
            },
            {
             "iteration": 123,
             "learn": [
              0.4545000042
             ],
             "passed_time": 0.2404430878,
             "remaining_time": 0.3412740601,
             "test": [
              0.6720061679
             ]
            },
            {
             "iteration": 124,
             "learn": [
              0.4533180293
             ],
             "passed_time": 0.2419302161,
             "remaining_time": 0.3387023026,
             "test": [
              0.6723236332
             ]
            },
            {
             "iteration": 125,
             "learn": [
              0.4515949463
             ],
             "passed_time": 0.2435282029,
             "remaining_time": 0.3363008516,
             "test": [
              0.6720506511
             ]
            },
            {
             "iteration": 126,
             "learn": [
              0.450137654
             ],
             "passed_time": 0.2451255836,
             "remaining_time": 0.3339112281,
             "test": [
              0.6719901419
             ]
            },
            {
             "iteration": 127,
             "learn": [
              0.4485446269
             ],
             "passed_time": 0.2466751989,
             "remaining_time": 0.3314697985,
             "test": [
              0.6718379536
             ]
            },
            {
             "iteration": 128,
             "learn": [
              0.4465085132
             ],
             "passed_time": 0.2484009383,
             "remaining_time": 0.3292756624,
             "test": [
              0.6713374516
             ]
            },
            {
             "iteration": 129,
             "learn": [
              0.4454620605
             ],
             "passed_time": 0.2499654089,
             "remaining_time": 0.3268778424,
             "test": [
              0.6715341055
             ]
            },
            {
             "iteration": 130,
             "learn": [
              0.4441115808
             ],
             "passed_time": 0.2516465684,
             "remaining_time": 0.3246432829,
             "test": [
              0.6717371078
             ]
            },
            {
             "iteration": 131,
             "learn": [
              0.4418155967
             ],
             "passed_time": 0.2532327511,
             "remaining_time": 0.3222962287,
             "test": [
              0.672071986
             ]
            },
            {
             "iteration": 132,
             "learn": [
              0.4404180042
             ],
             "passed_time": 0.2547284747,
             "remaining_time": 0.3198470321,
             "test": [
              0.6722035076
             ]
            },
            {
             "iteration": 133,
             "learn": [
              0.4400919067
             ],
             "passed_time": 0.2561211694,
             "remaining_time": 0.3172844338,
             "test": [
              0.6722721741
             ]
            },
            {
             "iteration": 134,
             "learn": [
              0.4381599192
             ],
             "passed_time": 0.2576720251,
             "remaining_time": 0.3149324752,
             "test": [
              0.6721310734
             ]
            },
            {
             "iteration": 135,
             "learn": [
              0.4368665093
             ],
             "passed_time": 0.2592556609,
             "remaining_time": 0.3126318264,
             "test": [
              0.6726757538
             ]
            },
            {
             "iteration": 136,
             "learn": [
              0.4362721743
             ],
             "passed_time": 0.2607143761,
             "remaining_time": 0.3101930169,
             "test": [
              0.6728337881
             ]
            },
            {
             "iteration": 137,
             "learn": [
              0.4359871036
             ],
             "passed_time": 0.2621756033,
             "remaining_time": 0.3077713604,
             "test": [
              0.67289841
             ]
            },
            {
             "iteration": 138,
             "learn": [
              0.4341784308
             ],
             "passed_time": 0.2636873791,
             "remaining_time": 0.3054220722,
             "test": [
              0.6717926357
             ]
            },
            {
             "iteration": 139,
             "learn": [
              0.432929312
             ],
             "passed_time": 0.2653027542,
             "remaining_time": 0.3032031476,
             "test": [
              0.6714335238
             ]
            },
            {
             "iteration": 140,
             "learn": [
              0.4327175311
             ],
             "passed_time": 0.2667929835,
             "remaining_time": 0.3008516623,
             "test": [
              0.6714016296
             ]
            },
            {
             "iteration": 141,
             "learn": [
              0.4307055082
             ],
             "passed_time": 0.2683825688,
             "remaining_time": 0.2986228583,
             "test": [
              0.671929494
             ]
            },
            {
             "iteration": 142,
             "learn": [
              0.4294168832
             ],
             "passed_time": 0.269903892,
             "remaining_time": 0.2963280492,
             "test": [
              0.6716767851
             ]
            },
            {
             "iteration": 143,
             "learn": [
              0.42789591
             ],
             "passed_time": 0.2715910519,
             "remaining_time": 0.2942236395,
             "test": [
              0.672152033
             ]
            },
            {
             "iteration": 144,
             "learn": [
              0.4269715439
             ],
             "passed_time": 0.2731145667,
             "remaining_time": 0.291950054,
             "test": [
              0.6720589854
             ]
            },
            {
             "iteration": 145,
             "learn": [
              0.425594403
             ],
             "passed_time": 0.2745329511,
             "remaining_time": 0.2895758525,
             "test": [
              0.6720288971
             ]
            },
            {
             "iteration": 146,
             "learn": [
              0.4242289574
             ],
             "passed_time": 0.2760837654,
             "remaining_time": 0.2873524905,
             "test": [
              0.6718807077
             ]
            },
            {
             "iteration": 147,
             "learn": [
              0.4233866223
             ],
             "passed_time": 0.2777545491,
             "remaining_time": 0.2852614288,
             "test": [
              0.671711193
             ]
            },
            {
             "iteration": 148,
             "learn": [
              0.4222797839
             ],
             "passed_time": 0.2796131851,
             "remaining_time": 0.2833663823,
             "test": [
              0.671732072
             ]
            },
            {
             "iteration": 149,
             "learn": [
              0.4206650879
             ],
             "passed_time": 0.2813301315,
             "remaining_time": 0.2813301315,
             "test": [
              0.6712520516
             ]
            },
            {
             "iteration": 150,
             "learn": [
              0.4194862751
             ],
             "passed_time": 0.2829596487,
             "remaining_time": 0.2792118388,
             "test": [
              0.6716934778
             ]
            },
            {
             "iteration": 151,
             "learn": [
              0.4180488507
             ],
             "passed_time": 0.2845981264,
             "remaining_time": 0.277108702,
             "test": [
              0.6718724356
             ]
            },
            {
             "iteration": 152,
             "learn": [
              0.4168905644
             ],
             "passed_time": 0.2860778677,
             "remaining_time": 0.2748591278,
             "test": [
              0.6718867378
             ]
            },
            {
             "iteration": 153,
             "learn": [
              0.415692958
             ],
             "passed_time": 0.2876411115,
             "remaining_time": 0.2726987161,
             "test": [
              0.6721578513
             ]
            },
            {
             "iteration": 154,
             "learn": [
              0.4150944813
             ],
             "passed_time": 0.2891061179,
             "remaining_time": 0.2704541103,
             "test": [
              0.6726454947
             ]
            },
            {
             "iteration": 155,
             "learn": [
              0.4140777848
             ],
             "passed_time": 0.2906183491,
             "remaining_time": 0.2682630915,
             "test": [
              0.6727083364
             ]
            },
            {
             "iteration": 156,
             "learn": [
              0.412231229
             ],
             "passed_time": 0.2920785455,
             "remaining_time": 0.2660333249,
             "test": [
              0.6747830209
             ]
            },
            {
             "iteration": 157,
             "learn": [
              0.4120757918
             ],
             "passed_time": 0.2935426949,
             "remaining_time": 0.2638168524,
             "test": [
              0.6747589507
             ]
            },
            {
             "iteration": 158,
             "learn": [
              0.4114004523
             ],
             "passed_time": 0.2951606119,
             "remaining_time": 0.261746203,
             "test": [
              0.6745439222
             ]
            },
            {
             "iteration": 159,
             "learn": [
              0.4094152853
             ],
             "passed_time": 0.2966765509,
             "remaining_time": 0.259591982,
             "test": [
              0.674733593
             ]
            },
            {
             "iteration": 160,
             "learn": [
              0.4080925106
             ],
             "passed_time": 0.2982400112,
             "remaining_time": 0.2574867177,
             "test": [
              0.6741115538
             ]
            },
            {
             "iteration": 161,
             "learn": [
              0.4075141846
             ],
             "passed_time": 0.2998395291,
             "remaining_time": 0.2554188581,
             "test": [
              0.6741321066
             ]
            },
            {
             "iteration": 162,
             "learn": [
              0.4059017107
             ],
             "passed_time": 0.3013325506,
             "remaining_time": 0.2532672358,
             "test": [
              0.6738758274
             ]
            },
            {
             "iteration": 163,
             "learn": [
              0.4045592776
             ],
             "passed_time": 0.3028793932,
             "remaining_time": 0.2511682773,
             "test": [
              0.6738799976
             ]
            },
            {
             "iteration": 164,
             "learn": [
              0.4044148316
             ],
             "passed_time": 0.3043716191,
             "remaining_time": 0.2490313247,
             "test": [
              0.6738551456
             ]
            },
            {
             "iteration": 165,
             "learn": [
              0.403287716
             ],
             "passed_time": 0.306343927,
             "remaining_time": 0.247289676,
             "test": [
              0.6732180837
             ]
            },
            {
             "iteration": 166,
             "learn": [
              0.4031583876
             ],
             "passed_time": 0.3080129275,
             "remaining_time": 0.2453037087,
             "test": [
              0.6731933349
             ]
            },
            {
             "iteration": 167,
             "learn": [
              0.4019007914
             ],
             "passed_time": 0.3098437765,
             "remaining_time": 0.2434486815,
             "test": [
              0.6749791485
             ]
            },
            {
             "iteration": 168,
             "learn": [
              0.400274825
             ],
             "passed_time": 0.3115619214,
             "remaining_time": 0.2415065781,
             "test": [
              0.6751913855
             ]
            },
            {
             "iteration": 169,
             "learn": [
              0.3992491082
             ],
             "passed_time": 0.3131718623,
             "remaining_time": 0.2394843653,
             "test": [
              0.6754410728
             ]
            },
            {
             "iteration": 170,
             "learn": [
              0.398236233
             ],
             "passed_time": 0.3146428569,
             "remaining_time": 0.2373621552,
             "test": [
              0.6750472533
             ]
            },
            {
             "iteration": 171,
             "learn": [
              0.3981237173
             ],
             "passed_time": 0.3160451691,
             "remaining_time": 0.2351964049,
             "test": [
              0.6750251452
             ]
            },
            {
             "iteration": 172,
             "learn": [
              0.3969677849
             ],
             "passed_time": 0.3175431243,
             "remaining_time": 0.2331096924,
             "test": [
              0.6747952569
             ]
            },
            {
             "iteration": 173,
             "learn": [
              0.3956251053
             ],
             "passed_time": 0.3190451427,
             "remaining_time": 0.2310326895,
             "test": [
              0.6747739819
             ]
            },
            {
             "iteration": 174,
             "learn": [
              0.3946788708
             ],
             "passed_time": 0.3206241499,
             "remaining_time": 0.2290172499,
             "test": [
              0.6745635827
             ]
            },
            {
             "iteration": 175,
             "learn": [
              0.3935235409
             ],
             "passed_time": 0.3220703456,
             "remaining_time": 0.226913198,
             "test": [
              0.674929925
             ]
            },
            {
             "iteration": 176,
             "learn": [
              0.3931247757
             ],
             "passed_time": 0.3235029809,
             "remaining_time": 0.2248071562,
             "test": [
              0.6749039626
             ]
            },
            {
             "iteration": 177,
             "learn": [
              0.3913512167
             ],
             "passed_time": 0.3250062402,
             "remaining_time": 0.222757086,
             "test": [
              0.6744436619
             ]
            },
            {
             "iteration": 178,
             "learn": [
              0.3901284692
             ],
             "passed_time": 0.3265416541,
             "remaining_time": 0.2207348611,
             "test": [
              0.6749512491
             ]
            },
            {
             "iteration": 179,
             "learn": [
              0.3892157103
             ],
             "passed_time": 0.3280514484,
             "remaining_time": 0.2187009656,
             "test": [
              0.6752633507
             ]
            },
            {
             "iteration": 180,
             "learn": [
              0.3882348749
             ],
             "passed_time": 0.3295479125,
             "remaining_time": 0.2166640972,
             "test": [
              0.6755947189
             ]
            },
            {
             "iteration": 181,
             "learn": [
              0.3868899385
             ],
             "passed_time": 0.3310228202,
             "remaining_time": 0.2146191911,
             "test": [
              0.6772753839
             ]
            },
            {
             "iteration": 182,
             "learn": [
              0.3858059364
             ],
             "passed_time": 0.3326062608,
             "remaining_time": 0.2126499044,
             "test": [
              0.6774186996
             ]
            },
            {
             "iteration": 183,
             "learn": [
              0.3847383521
             ],
             "passed_time": 0.3340917865,
             "remaining_time": 0.2106230828,
             "test": [
              0.6778191927
             ]
            },
            {
             "iteration": 184,
             "learn": [
              0.3845711605
             ],
             "passed_time": 0.3355498012,
             "remaining_time": 0.2085850116,
             "test": [
              0.6777890388
             ]
            },
            {
             "iteration": 185,
             "learn": [
              0.3836836821
             ],
             "passed_time": 0.3371843546,
             "remaining_time": 0.2066613786,
             "test": [
              0.6795927224
             ]
            },
            {
             "iteration": 186,
             "learn": [
              0.3828851754
             ],
             "passed_time": 0.3387377981,
             "remaining_time": 0.2046918245,
             "test": [
              0.6798750319
             ]
            },
            {
             "iteration": 187,
             "learn": [
              0.3814258761
             ],
             "passed_time": 0.3403009237,
             "remaining_time": 0.2027324652,
             "test": [
              0.6800076053
             ]
            },
            {
             "iteration": 188,
             "learn": [
              0.380144524
             ],
             "passed_time": 0.3418614818,
             "remaining_time": 0.2007757909,
             "test": [
              0.6798400871
             ]
            },
            {
             "iteration": 189,
             "learn": [
              0.3792370143
             ],
             "passed_time": 0.3434662687,
             "remaining_time": 0.1988488924,
             "test": [
              0.6803162543
             ]
            },
            {
             "iteration": 190,
             "learn": [
              0.3780973855
             ],
             "passed_time": 0.3450403967,
             "remaining_time": 0.1969078704,
             "test": [
              0.6802269122
             ]
            },
            {
             "iteration": 191,
             "learn": [
              0.3768419267
             ],
             "passed_time": 0.3466368928,
             "remaining_time": 0.1949832522,
             "test": [
              0.6801457454
             ]
            },
            {
             "iteration": 192,
             "learn": [
              0.3758441637
             ],
             "passed_time": 0.3481834702,
             "remaining_time": 0.1930343592,
             "test": [
              0.6793838501
             ]
            },
            {
             "iteration": 193,
             "learn": [
              0.3748134283
             ],
             "passed_time": 0.3498357822,
             "remaining_time": 0.1911473862,
             "test": [
              0.679116906
             ]
            },
            {
             "iteration": 194,
             "learn": [
              0.3738477895
             ],
             "passed_time": 0.3512773543,
             "remaining_time": 0.1891493446,
             "test": [
              0.6799720075
             ]
            },
            {
             "iteration": 195,
             "learn": [
              0.3737818857
             ],
             "passed_time": 0.3527016846,
             "remaining_time": 0.1871478327,
             "test": [
              0.6799711228
             ]
            },
            {
             "iteration": 196,
             "learn": [
              0.3728659744
             ],
             "passed_time": 0.3542771391,
             "remaining_time": 0.1852311946,
             "test": [
              0.6801798035
             ]
            },
            {
             "iteration": 197,
             "learn": [
              0.3720142054
             ],
             "passed_time": 0.3557099346,
             "remaining_time": 0.1832445117,
             "test": [
              0.6798709032
             ]
            },
            {
             "iteration": 198,
             "learn": [
              0.3711725668
             ],
             "passed_time": 0.3572103717,
             "remaining_time": 0.1812977264,
             "test": [
              0.6816943352
             ]
            },
            {
             "iteration": 199,
             "learn": [
              0.3702470164
             ],
             "passed_time": 0.3586391041,
             "remaining_time": 0.179319552,
             "test": [
              0.6834254395
             ]
            },
            {
             "iteration": 200,
             "learn": [
              0.369859089
             ],
             "passed_time": 0.3600558072,
             "remaining_time": 0.17734092,
             "test": [
              0.6833403152
             ]
            },
            {
             "iteration": 201,
             "learn": [
              0.3684326604
             ],
             "passed_time": 0.3616541729,
             "remaining_time": 0.1754559849,
             "test": [
              0.6834233639
             ]
            },
            {
             "iteration": 202,
             "learn": [
              0.3679290615
             ],
             "passed_time": 0.3631383539,
             "remaining_time": 0.173519312,
             "test": [
              0.6837886433
             ]
            },
            {
             "iteration": 203,
             "learn": [
              0.3669711347
             ],
             "passed_time": 0.3647164004,
             "remaining_time": 0.1716312473,
             "test": [
              0.6838934397
             ]
            },
            {
             "iteration": 204,
             "learn": [
              0.3658410019
             ],
             "passed_time": 0.3661853535,
             "remaining_time": 0.1696956516,
             "test": [
              0.6837987122
             ]
            },
            {
             "iteration": 205,
             "learn": [
              0.3647978795
             ],
             "passed_time": 0.3676962086,
             "remaining_time": 0.1677837068,
             "test": [
              0.683740923
             ]
            },
            {
             "iteration": 206,
             "learn": [
              0.3632020083
             ],
             "passed_time": 0.3692441121,
             "remaining_time": 0.1658922822,
             "test": [
              0.6835183636
             ]
            },
            {
             "iteration": 207,
             "learn": [
              0.363129113
             ],
             "passed_time": 0.3706280101,
             "remaining_time": 0.1639316199,
             "test": [
              0.6835172577
             ]
            },
            {
             "iteration": 208,
             "learn": [
              0.3621648781
             ],
             "passed_time": 0.3720506378,
             "remaining_time": 0.1619933399,
             "test": [
              0.6835757614
             ]
            },
            {
             "iteration": 209,
             "learn": [
              0.3615381497
             ],
             "passed_time": 0.3734579337,
             "remaining_time": 0.1600534002,
             "test": [
              0.6835271393
             ]
            },
            {
             "iteration": 210,
             "learn": [
              0.3606458493
             ],
             "passed_time": 0.3748920201,
             "remaining_time": 0.1581298094,
             "test": [
              0.6837085815
             ]
            },
            {
             "iteration": 211,
             "learn": [
              0.3596649245
             ],
             "passed_time": 0.3764031455,
             "remaining_time": 0.1562428151,
             "test": [
              0.6833558091
             ]
            },
            {
             "iteration": 212,
             "learn": [
              0.3587475259
             ],
             "passed_time": 0.3778510925,
             "remaining_time": 0.1543335448,
             "test": [
              0.6837349495
             ]
            },
            {
             "iteration": 213,
             "learn": [
              0.3585563493
             ],
             "passed_time": 0.3792151154,
             "remaining_time": 0.1523948594,
             "test": [
              0.6837744226
             ]
            },
            {
             "iteration": 214,
             "learn": [
              0.3580256313
             ],
             "passed_time": 0.380675642,
             "remaining_time": 0.1504996724,
             "test": [
              0.6836975489
             ]
            },
            {
             "iteration": 215,
             "learn": [
              0.3573305413
             ],
             "passed_time": 0.3822184615,
             "remaining_time": 0.1486405128,
             "test": [
              0.6843341661
             ]
            },
            {
             "iteration": 216,
             "learn": [
              0.3567208313
             ],
             "passed_time": 0.3837039873,
             "remaining_time": 0.1467623546,
             "test": [
              0.6844374281
             ]
            },
            {
             "iteration": 217,
             "learn": [
              0.3557384662
             ],
             "passed_time": 0.3851761829,
             "remaining_time": 0.1448827844,
             "test": [
              0.6847232729
             ]
            },
            {
             "iteration": 218,
             "learn": [
              0.3550039238
             ],
             "passed_time": 0.3867044063,
             "remaining_time": 0.1430276571,
             "test": [
              0.684790113
             ]
            },
            {
             "iteration": 219,
             "learn": [
              0.3538837963
             ],
             "passed_time": 0.3883667672,
             "remaining_time": 0.141224279,
             "test": [
              0.6850128548
             ]
            },
            {
             "iteration": 220,
             "learn": [
              0.353301803
             ],
             "passed_time": 0.3900901093,
             "remaining_time": 0.1394439757,
             "test": [
              0.6849309882
             ]
            },
            {
             "iteration": 221,
             "learn": [
              0.3525506098
             ],
             "passed_time": 0.3916230818,
             "remaining_time": 0.137597299,
             "test": [
              0.6854884839
             ]
            },
            {
             "iteration": 222,
             "learn": [
              0.3520818726
             ],
             "passed_time": 0.3931408822,
             "remaining_time": 0.135748197,
             "test": [
              0.6854441726
             ]
            },
            {
             "iteration": 223,
             "learn": [
              0.3520355979
             ],
             "passed_time": 0.3946742746,
             "remaining_time": 0.1339073432,
             "test": [
              0.6854441773
             ]
            },
            {
             "iteration": 224,
             "learn": [
              0.3514363686
             ],
             "passed_time": 0.3963550046,
             "remaining_time": 0.1321183349,
             "test": [
              0.6853923601
             ]
            },
            {
             "iteration": 225,
             "learn": [
              0.3511621946
             ],
             "passed_time": 0.3979700794,
             "remaining_time": 0.1303087871,
             "test": [
              0.6853988594
             ]
            },
            {
             "iteration": 226,
             "learn": [
              0.34997355
             ],
             "passed_time": 0.3994326376,
             "remaining_time": 0.1284519055,
             "test": [
              0.6854849596
             ]
            },
            {
             "iteration": 227,
             "learn": [
              0.349045314
             ],
             "passed_time": 0.4008681351,
             "remaining_time": 0.1265899374,
             "test": [
              0.6850688636
             ]
            },
            {
             "iteration": 228,
             "learn": [
              0.3482212161
             ],
             "passed_time": 0.4023960532,
             "remaining_time": 0.1247603484,
             "test": [
              0.6854887546
             ]
            },
            {
             "iteration": 229,
             "learn": [
              0.3471165725
             ],
             "passed_time": 0.403839707,
             "remaining_time": 0.1229077369,
             "test": [
              0.6855331963
             ]
            },
            {
             "iteration": 230,
             "learn": [
              0.3461902014
             ],
             "passed_time": 0.4052604018,
             "remaining_time": 0.1210518083,
             "test": [
              0.6856136808
             ]
            },
            {
             "iteration": 231,
             "learn": [
              0.3451832148
             ],
             "passed_time": 0.4067708751,
             "remaining_time": 0.1192259461,
             "test": [
              0.6855926744
             ]
            },
            {
             "iteration": 232,
             "learn": [
              0.3443533747
             ],
             "passed_time": 0.4082621481,
             "remaining_time": 0.1173972701,
             "test": [
              0.6862940568
             ]
            },
            {
             "iteration": 233,
             "learn": [
              0.3429709838
             ],
             "passed_time": 0.4097634159,
             "remaining_time": 0.1155742968,
             "test": [
              0.6862376694
             ]
            },
            {
             "iteration": 234,
             "learn": [
              0.3421700533
             ],
             "passed_time": 0.4112427369,
             "remaining_time": 0.1137479911,
             "test": [
              0.686353449
             ]
            },
            {
             "iteration": 235,
             "learn": [
              0.3413140242
             ],
             "passed_time": 0.4127962547,
             "remaining_time": 0.111944747,
             "test": [
              0.6864744918
             ]
            },
            {
             "iteration": 236,
             "learn": [
              0.3406916236
             ],
             "passed_time": 0.4142804694,
             "remaining_time": 0.1101251881,
             "test": [
              0.6875937223
             ]
            },
            {
             "iteration": 237,
             "learn": [
              0.3401496064
             ],
             "passed_time": 0.4157139253,
             "remaining_time": 0.1082952243,
             "test": [
              0.6877059206
             ]
            },
            {
             "iteration": 238,
             "learn": [
              0.3393105531
             ],
             "passed_time": 0.4172294891,
             "remaining_time": 0.1064895349,
             "test": [
              0.687877581
             ]
            },
            {
             "iteration": 239,
             "learn": [
              0.3387649771
             ],
             "passed_time": 0.4186609785,
             "remaining_time": 0.1046652446,
             "test": [
              0.688578796
             ]
            },
            {
             "iteration": 240,
             "learn": [
              0.3383134564
             ],
             "passed_time": 0.4200749295,
             "remaining_time": 0.1028399205,
             "test": [
              0.6884380716
             ]
            },
            {
             "iteration": 241,
             "learn": [
              0.3373316504
             ],
             "passed_time": 0.4216270762,
             "remaining_time": 0.1010511174,
             "test": [
              0.688539049
             ]
            },
            {
             "iteration": 242,
             "learn": [
              0.3365362883
             ],
             "passed_time": 0.4231490949,
             "remaining_time": 0.09925719509,
             "test": [
              0.6888423658
             ]
            },
            {
             "iteration": 243,
             "learn": [
              0.3357822019
             ],
             "passed_time": 0.4246203197,
             "remaining_time": 0.09745384386,
             "test": [
              0.689317496
             ]
            },
            {
             "iteration": 244,
             "learn": [
              0.3352657675
             ],
             "passed_time": 0.4262185916,
             "remaining_time": 0.09568172465,
             "test": [
              0.6895963534
             ]
            },
            {
             "iteration": 245,
             "learn": [
              0.3342713865
             ],
             "passed_time": 0.4277106024,
             "remaining_time": 0.0938876932,
             "test": [
              0.6897687432
             ]
            },
            {
             "iteration": 246,
             "learn": [
              0.3336873534
             ],
             "passed_time": 0.4291791451,
             "remaining_time": 0.09209107163,
             "test": [
              0.68939713
             ]
            },
            {
             "iteration": 247,
             "learn": [
              0.3329965613
             ],
             "passed_time": 0.4307046514,
             "remaining_time": 0.09030903982,
             "test": [
              0.6893615457
             ]
            },
            {
             "iteration": 248,
             "learn": [
              0.3325316114
             ],
             "passed_time": 0.4321913681,
             "remaining_time": 0.08852112359,
             "test": [
              0.6908394954
             ]
            },
            {
             "iteration": 249,
             "learn": [
              0.3316052021
             ],
             "passed_time": 0.4336492627,
             "remaining_time": 0.08672985255,
             "test": [
              0.6917742658
             ]
            },
            {
             "iteration": 250,
             "learn": [
              0.3304867167
             ],
             "passed_time": 0.4352517979,
             "remaining_time": 0.0849694745,
             "test": [
              0.6919613208
             ]
            },
            {
             "iteration": 251,
             "learn": [
              0.3294025279
             ],
             "passed_time": 0.4367352421,
             "remaining_time": 0.08318766516,
             "test": [
              0.6921568838
             ]
            },
            {
             "iteration": 252,
             "learn": [
              0.328485849
             ],
             "passed_time": 0.4381721407,
             "remaining_time": 0.08139956764,
             "test": [
              0.6923213136
             ]
            },
            {
             "iteration": 253,
             "learn": [
              0.3281964723
             ],
             "passed_time": 0.4395933573,
             "remaining_time": 0.07961139541,
             "test": [
              0.6924820602
             ]
            },
            {
             "iteration": 254,
             "learn": [
              0.3272884619
             ],
             "passed_time": 0.4411274101,
             "remaining_time": 0.07784601355,
             "test": [
              0.6929962663
             ]
            },
            {
             "iteration": 255,
             "learn": [
              0.326753526
             ],
             "passed_time": 0.442518934,
             "remaining_time": 0.07605794178,
             "test": [
              0.6931123484
             ]
            },
            {
             "iteration": 256,
             "learn": [
              0.3262722851
             ],
             "passed_time": 0.4439973443,
             "remaining_time": 0.07428749341,
             "test": [
              0.6930400869
             ]
            },
            {
             "iteration": 257,
             "learn": [
              0.3255340034
             ],
             "passed_time": 0.4454012677,
             "remaining_time": 0.07250718311,
             "test": [
              0.6929685812
             ]
            },
            {
             "iteration": 258,
             "learn": [
              0.3248686945
             ],
             "passed_time": 0.446810395,
             "remaining_time": 0.07073060307,
             "test": [
              0.6927254198
             ]
            },
            {
             "iteration": 259,
             "learn": [
              0.324004427
             ],
             "passed_time": 0.4482856929,
             "remaining_time": 0.06896702968,
             "test": [
              0.692705457
             ]
            },
            {
             "iteration": 260,
             "learn": [
              0.3235173945
             ],
             "passed_time": 0.4497823472,
             "remaining_time": 0.06720885648,
             "test": [
              0.6926736029
             ]
            },
            {
             "iteration": 261,
             "learn": [
              0.3224650831
             ],
             "passed_time": 0.4512785912,
             "remaining_time": 0.06545262009,
             "test": [
              0.6932657046
             ]
            },
            {
             "iteration": 262,
             "learn": [
              0.3212640894
             ],
             "passed_time": 0.4526879387,
             "remaining_time": 0.06368613586,
             "test": [
              0.6931872764
             ]
            },
            {
             "iteration": 263,
             "learn": [
              0.3205856067
             ],
             "passed_time": 0.4541056526,
             "remaining_time": 0.06192349808,
             "test": [
              0.6931902557
             ]
            },
            {
             "iteration": 264,
             "learn": [
              0.3199462394
             ],
             "passed_time": 0.4555294011,
             "remaining_time": 0.06016426052,
             "test": [
              0.693063734
             ]
            },
            {
             "iteration": 265,
             "learn": [
              0.3192481959
             ],
             "passed_time": 0.4569329141,
             "remaining_time": 0.05840495895,
             "test": [
              0.6931031615
             ]
            },
            {
             "iteration": 266,
             "learn": [
              0.3182646637
             ],
             "passed_time": 0.4583994254,
             "remaining_time": 0.05665610875,
             "test": [
              0.6928456112
             ]
            },
            {
             "iteration": 267,
             "learn": [
              0.3171300794
             ],
             "passed_time": 0.4598461014,
             "remaining_time": 0.05490699718,
             "test": [
              0.6932138926
             ]
            },
            {
             "iteration": 268,
             "learn": [
              0.3161415862
             ],
             "passed_time": 0.4612727121,
             "remaining_time": 0.05315782184,
             "test": [
              0.6933033639
             ]
            },
            {
             "iteration": 269,
             "learn": [
              0.3155667754
             ],
             "passed_time": 0.4627410047,
             "remaining_time": 0.05141566719,
             "test": [
              0.6934902066
             ]
            },
            {
             "iteration": 270,
             "learn": [
              0.3147130118
             ],
             "passed_time": 0.464201141,
             "remaining_time": 0.04967466085,
             "test": [
              0.6935789443
             ]
            },
            {
             "iteration": 271,
             "learn": [
              0.3138790178
             ],
             "passed_time": 0.4658283551,
             "remaining_time": 0.04795291891,
             "test": [
              0.693207137
             ]
            },
            {
             "iteration": 272,
             "learn": [
              0.3130864443
             ],
             "passed_time": 0.4671927983,
             "remaining_time": 0.04620588115,
             "test": [
              0.693445612
             ]
            },
            {
             "iteration": 273,
             "learn": [
              0.3120551927
             ],
             "passed_time": 0.4686152758,
             "remaining_time": 0.04446714296,
             "test": [
              0.6930932219
             ]
            },
            {
             "iteration": 274,
             "learn": [
              0.3112743994
             ],
             "passed_time": 0.4700627925,
             "remaining_time": 0.04273298114,
             "test": [
              0.6932920776
             ]
            },
            {
             "iteration": 275,
             "learn": [
              0.3106571923
             ],
             "passed_time": 0.4714673564,
             "remaining_time": 0.04099716142,
             "test": [
              0.6935494807
             ]
            },
            {
             "iteration": 276,
             "learn": [
              0.3097063641
             ],
             "passed_time": 0.4729774409,
             "remaining_time": 0.03927249509,
             "test": [
              0.6935684128
             ]
            },
            {
             "iteration": 277,
             "learn": [
              0.3088396173
             ],
             "passed_time": 0.474455521,
             "remaining_time": 0.03754683979,
             "test": [
              0.693982442
             ]
            },
            {
             "iteration": 278,
             "learn": [
              0.3085693381
             ],
             "passed_time": 0.4759922846,
             "remaining_time": 0.03582737626,
             "test": [
              0.6938990144
             ]
            },
            {
             "iteration": 279,
             "learn": [
              0.3079800557
             ],
             "passed_time": 0.4774763692,
             "remaining_time": 0.03410545494,
             "test": [
              0.6942123949
             ]
            },
            {
             "iteration": 280,
             "learn": [
              0.3071150696
             ],
             "passed_time": 0.4789062424,
             "remaining_time": 0.03238156088,
             "test": [
              0.6939201018
             ]
            },
            {
             "iteration": 281,
             "learn": [
              0.3061639564
             ],
             "passed_time": 0.480349197,
             "remaining_time": 0.03066058704,
             "test": [
              0.6941478705
             ]
            },
            {
             "iteration": 282,
             "learn": [
              0.3058850503
             ],
             "passed_time": 0.4817933811,
             "remaining_time": 0.02894165187,
             "test": [
              0.6940409857
             ]
            },
            {
             "iteration": 283,
             "learn": [
              0.3056928685
             ],
             "passed_time": 0.483188878,
             "remaining_time": 0.02722190862,
             "test": [
              0.6940398923
             ]
            },
            {
             "iteration": 284,
             "learn": [
              0.3050221599
             ],
             "passed_time": 0.4846558196,
             "remaining_time": 0.02550820103,
             "test": [
              0.6940415933
             ]
            },
            {
             "iteration": 285,
             "learn": [
              0.3047565189
             ],
             "passed_time": 0.4860443011,
             "remaining_time": 0.02379237838,
             "test": [
              0.6939749949
             ]
            },
            {
             "iteration": 286,
             "learn": [
              0.3040544139
             ],
             "passed_time": 0.4875059386,
             "remaining_time": 0.02208215053,
             "test": [
              0.6939220939
             ]
            },
            {
             "iteration": 287,
             "learn": [
              0.3028091282
             ],
             "passed_time": 0.4889518541,
             "remaining_time": 0.02037299392,
             "test": [
              0.693463652
             ]
            },
            {
             "iteration": 288,
             "learn": [
              0.3020164077
             ],
             "passed_time": 0.49035909,
             "remaining_time": 0.01866418682,
             "test": [
              0.6939138069
             ]
            },
            {
             "iteration": 289,
             "learn": [
              0.3017573762
             ],
             "passed_time": 0.4917434584,
             "remaining_time": 0.01695667098,
             "test": [
              0.6938162867
             ]
            },
            {
             "iteration": 290,
             "learn": [
              0.3009526329
             ],
             "passed_time": 0.4931952984,
             "remaining_time": 0.01525346284,
             "test": [
              0.6943711818
             ]
            },
            {
             "iteration": 291,
             "learn": [
              0.300746818
             ],
             "passed_time": 0.4946210184,
             "remaining_time": 0.01355126078,
             "test": [
              0.6942779214
             ]
            },
            {
             "iteration": 292,
             "learn": [
              0.3006926853
             ],
             "passed_time": 0.4960475941,
             "remaining_time": 0.01185096641,
             "test": [
              0.69425779
             ]
            },
            {
             "iteration": 293,
             "learn": [
              0.3000720164
             ],
             "passed_time": 0.4975143905,
             "remaining_time": 0.01015335491,
             "test": [
              0.6944560804
             ]
            },
            {
             "iteration": 294,
             "learn": [
              0.2993953929
             ],
             "passed_time": 0.4990901853,
             "remaining_time": 0.008459155683,
             "test": [
              0.6945016428
             ]
            },
            {
             "iteration": 295,
             "learn": [
              0.2986438924
             ],
             "passed_time": 0.5006140303,
             "remaining_time": 0.006765054464,
             "test": [
              0.6947032824
             ]
            },
            {
             "iteration": 296,
             "learn": [
              0.2982117874
             ],
             "passed_time": 0.502002632,
             "remaining_time": 0.005070733656,
             "test": [
              0.6944876959
             ]
            },
            {
             "iteration": 297,
             "learn": [
              0.2978049362
             ],
             "passed_time": 0.5034132805,
             "remaining_time": 0.003378612621,
             "test": [
              0.694266401
             ]
            },
            {
             "iteration": 298,
             "learn": [
              0.2971459324
             ],
             "passed_time": 0.5048702444,
             "remaining_time": 0.001688529246,
             "test": [
              0.6945081676
             ]
            },
            {
             "iteration": 299,
             "learn": [
              0.2965524552
             ],
             "passed_time": 0.5063427702,
             "remaining_time": 0,
             "test": [
              0.6950111657
             ]
            }
           ],
           "meta": {
            "iteration_count": 300,
            "launch_mode": "Train",
            "learn_metrics": [
             {
              "best_value": "Min",
              "name": "RMSE"
             }
            ],
            "learn_sets": [
             "learn"
            ],
            "name": "experiment",
            "parameters": "",
            "test_metrics": [
             {
              "best_value": "Min",
              "name": "RMSE"
             }
            ],
            "test_sets": [
             "test"
            ]
           }
          },
          "passed_iterations": 299,
          "total_iterations": 300
         },
         "name": "catboost_info",
         "path": "catboost_info"
        }
       },
       "layout": "IPY_MODEL_b8fef0aef2eb4333b285a983ed92dd94"
      }
     },
     "4872701763ce4cdf90ea70e40ea8c839": {
      "model_module": "@jupyter-widgets/controls",
      "model_module_version": "1.5.0",
      "model_name": "HTMLModel",
      "state": {
       "layout": "IPY_MODEL_a21680d88744449794eaed5085a1d75f",
       "style": "IPY_MODEL_b5e6613601b44f4bb3f4115621db7047",
       "value": " 0/61786 [00:01&lt;?, ?it/s]"
      }
     },
     "4ac7ea524b0746a09a6589df6746516d": {
      "model_module": "@jupyter-widgets/controls",
      "model_module_version": "1.5.0",
      "model_name": "DescriptionStyleModel",
      "state": {
       "description_width": ""
      }
     },
     "4bc176ce98914842873acda08d713ae3": {
      "model_module": "@jupyter-widgets/controls",
      "model_module_version": "1.5.0",
      "model_name": "FloatProgressModel",
      "state": {
       "bar_style": "danger",
       "layout": "IPY_MODEL_cf29017469284fb68eb2030fb74ed1b5",
       "max": 61786,
       "style": "IPY_MODEL_73692df2f56a4be88f6bb975deb01ec7"
      }
     },
     "4d4a71c57c4b44d78587152b8f270840": {
      "model_module": "@jupyter-widgets/base",
      "model_module_version": "1.2.0",
      "model_name": "LayoutModel",
      "state": {}
     },
     "5445bebcd5d54414ab640f5033269601": {
      "model_module": "@jupyter-widgets/controls",
      "model_module_version": "1.5.0",
      "model_name": "HBoxModel",
      "state": {
       "children": [
        "IPY_MODEL_1c1c7aac0f75495a9d6fdc84c985ab0e",
        "IPY_MODEL_90de01a2c74640e4974cf8ebaaa494f6",
        "IPY_MODEL_dee8027ca8994167ac3c8275f416e8e1"
       ],
       "layout": "IPY_MODEL_e21203eca2a642a39d91789772547bb7"
      }
     },
     "55a4e413a96041678e64cfb7019c5577": {
      "model_module": "@jupyter-widgets/base",
      "model_module_version": "1.2.0",
      "model_name": "LayoutModel",
      "state": {}
     },
     "5795caf1bddd4e9f823baf8d726fab90": {
      "model_module": "@jupyter-widgets/controls",
      "model_module_version": "1.5.0",
      "model_name": "ProgressStyleModel",
      "state": {
       "description_width": ""
      }
     },
     "5a9a8e7abc114401857d719318c009a6": {
      "model_module": "@jupyter-widgets/controls",
      "model_module_version": "1.5.0",
      "model_name": "FloatProgressModel",
      "state": {
       "bar_style": "danger",
       "layout": "IPY_MODEL_d97cdebe33d5486ba6bc9e21bd1688f4",
       "max": 61786,
       "style": "IPY_MODEL_6d37203f037f420dbf09bf077292f03c"
      }
     },
     "5fbf3235a36542f198c6d8ceb61c33be": {
      "model_module": "@jupyter-widgets/base",
      "model_module_version": "1.2.0",
      "model_name": "LayoutModel",
      "state": {}
     },
     "684b31538d5d44d9998867dff1e90e94": {
      "model_module": "@jupyter-widgets/controls",
      "model_module_version": "1.5.0",
      "model_name": "DescriptionStyleModel",
      "state": {
       "description_width": ""
      }
     },
     "685093632c384169acb53aa2a5d8cf69": {
      "model_module": "@jupyter-widgets/controls",
      "model_module_version": "1.5.0",
      "model_name": "FloatProgressModel",
      "state": {
       "bar_style": "danger",
       "layout": "IPY_MODEL_f4e5d3136e9c4210b27d4b1d314d51ce",
       "max": 20596,
       "style": "IPY_MODEL_f60f19cc9d0d486ba0b42aba2577d14e"
      }
     },
     "6b875bb6c8ed4975af80262d1be08d4d": {
      "model_module": "@jupyter-widgets/base",
      "model_module_version": "1.2.0",
      "model_name": "LayoutModel",
      "state": {}
     },
     "6d37203f037f420dbf09bf077292f03c": {
      "model_module": "@jupyter-widgets/controls",
      "model_module_version": "1.5.0",
      "model_name": "ProgressStyleModel",
      "state": {
       "description_width": ""
      }
     },
     "6e24f7ffe7154d77a0de0fce923379fb": {
      "model_module": "@jupyter-widgets/controls",
      "model_module_version": "1.5.0",
      "model_name": "DescriptionStyleModel",
      "state": {
       "description_width": ""
      }
     },
     "6ea5e1ede6cb43f586cd02b218c69533": {
      "model_module": "@jupyter-widgets/base",
      "model_module_version": "1.2.0",
      "model_name": "LayoutModel",
      "state": {}
     },
     "73692df2f56a4be88f6bb975deb01ec7": {
      "model_module": "@jupyter-widgets/controls",
      "model_module_version": "1.5.0",
      "model_name": "ProgressStyleModel",
      "state": {
       "description_width": ""
      }
     },
     "7edfa68ae03c414cb0c31bb8db1d2f0f": {
      "model_module": "@jupyter-widgets/base",
      "model_module_version": "1.2.0",
      "model_name": "LayoutModel",
      "state": {}
     },
     "831aa90dec14421b84f3f94318cae4ec": {
      "model_module": "@jupyter-widgets/controls",
      "model_module_version": "1.5.0",
      "model_name": "HTMLModel",
      "state": {
       "layout": "IPY_MODEL_cf9af181b7334901b12d0109be3a8721",
       "style": "IPY_MODEL_b8aa33ee839d462fb141eec595512bb8",
       "value": " 0/20596 [00:00&lt;?, ?it/s]"
      }
     },
     "8620bd57efcd429ea0933be2f4d59a1e": {
      "model_module": "@jupyter-widgets/controls",
      "model_module_version": "1.5.0",
      "model_name": "DescriptionStyleModel",
      "state": {
       "description_width": ""
      }
     },
     "8737fc6d361c4d7faa6b358c527a2a51": {
      "model_module": "@jupyter-widgets/controls",
      "model_module_version": "1.5.0",
      "model_name": "HTMLModel",
      "state": {
       "layout": "IPY_MODEL_6b875bb6c8ed4975af80262d1be08d4d",
       "style": "IPY_MODEL_6e24f7ffe7154d77a0de0fce923379fb",
       "value": "  0%"
      }
     },
     "88dc4124616f4daf8758986af90cc014": {
      "model_module": "@jupyter-widgets/controls",
      "model_module_version": "1.5.0",
      "model_name": "DescriptionStyleModel",
      "state": {
       "description_width": ""
      }
     },
     "90de01a2c74640e4974cf8ebaaa494f6": {
      "model_module": "@jupyter-widgets/controls",
      "model_module_version": "1.5.0",
      "model_name": "FloatProgressModel",
      "state": {
       "bar_style": "danger",
       "layout": "IPY_MODEL_55a4e413a96041678e64cfb7019c5577",
       "max": 20596,
       "style": "IPY_MODEL_ab672eeb8bb24f7ca34d167165eee336",
       "value": 93
      }
     },
     "91d2dac2d6a64e2e931525dca3d39ec2": {
      "model_module": "@jupyter-widgets/base",
      "model_module_version": "1.2.0",
      "model_name": "LayoutModel",
      "state": {}
     },
     "951d286036c34397ae3064e4ad74f231": {
      "model_module": "@jupyter-widgets/base",
      "model_module_version": "1.2.0",
      "model_name": "LayoutModel",
      "state": {}
     },
     "9d25a560bf44434a9bb76694eedb0298": {
      "model_module": "@jupyter-widgets/controls",
      "model_module_version": "1.5.0",
      "model_name": "HTMLModel",
      "state": {
       "layout": "IPY_MODEL_dc8581bd13884850aa6435e4c99c9d59",
       "style": "IPY_MODEL_27aabceeacf9426680cd1e6b4d037e9d",
       "value": "  0%"
      }
     },
     "a21680d88744449794eaed5085a1d75f": {
      "model_module": "@jupyter-widgets/base",
      "model_module_version": "1.2.0",
      "model_name": "LayoutModel",
      "state": {}
     },
     "a7f945555d3e489286ba14d0f67ed853": {
      "model_module": "@jupyter-widgets/controls",
      "model_module_version": "1.5.0",
      "model_name": "FloatProgressModel",
      "state": {
       "bar_style": "danger",
       "layout": "IPY_MODEL_5fbf3235a36542f198c6d8ceb61c33be",
       "max": 20596,
       "style": "IPY_MODEL_f791336acdcc4c3b88c1c83ad6e62023"
      }
     },
     "a907a1b98e8e483e9e3f5ed76313cfcd": {
      "model_module": "@jupyter-widgets/base",
      "model_module_version": "1.2.0",
      "model_name": "LayoutModel",
      "state": {}
     },
     "a92bbfa087554c0995e247b6a6d295d4": {
      "model_module": "@jupyter-widgets/controls",
      "model_module_version": "1.5.0",
      "model_name": "DescriptionStyleModel",
      "state": {
       "description_width": ""
      }
     },
     "ab672eeb8bb24f7ca34d167165eee336": {
      "model_module": "@jupyter-widgets/controls",
      "model_module_version": "1.5.0",
      "model_name": "ProgressStyleModel",
      "state": {
       "description_width": ""
      }
     },
     "aebfb4baed7a4b07849843ca9fdd3c4d": {
      "model_module": "@jupyter-widgets/controls",
      "model_module_version": "1.5.0",
      "model_name": "HBoxModel",
      "state": {
       "children": [
        "IPY_MODEL_8737fc6d361c4d7faa6b358c527a2a51",
        "IPY_MODEL_0617cca8f61f4935a085810cae01c923",
        "IPY_MODEL_31e043c427a54e9583a86785437ae252"
       ],
       "layout": "IPY_MODEL_91d2dac2d6a64e2e931525dca3d39ec2"
      }
     },
     "b2afe0336a844b119d55241cf1840b0a": {
      "model_module": "@jupyter-widgets/base",
      "model_module_version": "1.2.0",
      "model_name": "LayoutModel",
      "state": {
       "align_self": "stretch",
       "height": "500px"
      }
     },
     "b5e6613601b44f4bb3f4115621db7047": {
      "model_module": "@jupyter-widgets/controls",
      "model_module_version": "1.5.0",
      "model_name": "DescriptionStyleModel",
      "state": {
       "description_width": ""
      }
     },
     "b7473d5a222c49529048a77201e343c6": {
      "model_module": "@jupyter-widgets/base",
      "model_module_version": "1.2.0",
      "model_name": "LayoutModel",
      "state": {}
     },
     "b8aa33ee839d462fb141eec595512bb8": {
      "model_module": "@jupyter-widgets/controls",
      "model_module_version": "1.5.0",
      "model_name": "DescriptionStyleModel",
      "state": {
       "description_width": ""
      }
     },
     "b8eab8f68bb74c2e9e879c2845513e3a": {
      "model_module": "@jupyter-widgets/controls",
      "model_module_version": "1.5.0",
      "model_name": "HBoxModel",
      "state": {
       "children": [
        "IPY_MODEL_1fa7c64404d0479d87f3365167d20694",
        "IPY_MODEL_5a9a8e7abc114401857d719318c009a6",
        "IPY_MODEL_f733fc09c7474c3e9385ffdaa3eb022f"
       ],
       "layout": "IPY_MODEL_202de81bde524d1eada9ec95e4e98ef5"
      }
     },
     "b8fef0aef2eb4333b285a983ed92dd94": {
      "model_module": "@jupyter-widgets/base",
      "model_module_version": "1.2.0",
      "model_name": "LayoutModel",
      "state": {
       "align_self": "stretch",
       "height": "500px"
      }
     },
     "be5e9992ec094fc686c0869374dd9645": {
      "model_module": "@jupyter-widgets/base",
      "model_module_version": "1.2.0",
      "model_name": "LayoutModel",
      "state": {}
     },
     "beead367f40b4433b6c3a10caeb52628": {
      "model_module": "@jupyter-widgets/base",
      "model_module_version": "1.2.0",
      "model_name": "LayoutModel",
      "state": {}
     },
     "cf29017469284fb68eb2030fb74ed1b5": {
      "model_module": "@jupyter-widgets/base",
      "model_module_version": "1.2.0",
      "model_name": "LayoutModel",
      "state": {}
     },
     "cf9af181b7334901b12d0109be3a8721": {
      "model_module": "@jupyter-widgets/base",
      "model_module_version": "1.2.0",
      "model_name": "LayoutModel",
      "state": {}
     },
     "d97cdebe33d5486ba6bc9e21bd1688f4": {
      "model_module": "@jupyter-widgets/base",
      "model_module_version": "1.2.0",
      "model_name": "LayoutModel",
      "state": {}
     },
     "dc8581bd13884850aa6435e4c99c9d59": {
      "model_module": "@jupyter-widgets/base",
      "model_module_version": "1.2.0",
      "model_name": "LayoutModel",
      "state": {}
     },
     "ddb5b37678634d89b2ceb40cda2ce770": {
      "model_module": "@jupyter-widgets/controls",
      "model_module_version": "1.5.0",
      "model_name": "HTMLModel",
      "state": {
       "layout": "IPY_MODEL_a907a1b98e8e483e9e3f5ed76313cfcd",
       "style": "IPY_MODEL_8620bd57efcd429ea0933be2f4d59a1e",
       "value": " 0/20596 [00:00&lt;?, ?it/s]"
      }
     },
     "dee8027ca8994167ac3c8275f416e8e1": {
      "model_module": "@jupyter-widgets/controls",
      "model_module_version": "1.5.0",
      "model_name": "HTMLModel",
      "state": {
       "layout": "IPY_MODEL_4d4a71c57c4b44d78587152b8f270840",
       "style": "IPY_MODEL_32242e86ee78415593d4637735b7d848",
       "value": " 93/20596 [00:03&lt;08:26, 40.52it/s]"
      }
     },
     "df049841a7814e8883c6bb9eaa95950d": {
      "model_module": "@jupyter-widgets/controls",
      "model_module_version": "1.5.0",
      "model_name": "HTMLModel",
      "state": {
       "layout": "IPY_MODEL_b7473d5a222c49529048a77201e343c6",
       "style": "IPY_MODEL_684b31538d5d44d9998867dff1e90e94",
       "value": "  0%"
      }
     },
     "e21203eca2a642a39d91789772547bb7": {
      "model_module": "@jupyter-widgets/base",
      "model_module_version": "1.2.0",
      "model_name": "LayoutModel",
      "state": {}
     },
     "eded8770972a462986eca66fdc0baac4": {
      "model_module": "catboost-widget",
      "model_module_version": "^1.0.0",
      "model_name": "CatboostWidgetModel",
      "state": {
       "_model_module_version": "^1.0.0",
       "_view_module_version": "^1.0.0",
       "data": {
        "catboost_info": {
         "content": {
          "data": {
           "iterations": [
            {
             "iteration": 0,
             "learn": [
              1.205373338
             ],
             "passed_time": 0.05171263604,
             "remaining_time": 15.46207818,
             "test": [
              0.92027728
             ]
            },
            {
             "iteration": 1,
             "learn": [
              1.15224132
             ],
             "passed_time": 0.05334638332,
             "remaining_time": 7.948611114,
             "test": [
              0.8896573344
             ]
            },
            {
             "iteration": 2,
             "learn": [
              1.108126214
             ],
             "passed_time": 0.05489280644,
             "remaining_time": 5.434387837,
             "test": [
              0.8684169792
             ]
            },
            {
             "iteration": 3,
             "learn": [
              1.053624238
             ],
             "passed_time": 0.05646179678,
             "remaining_time": 4.178172962,
             "test": [
              0.8321919121
             ]
            },
            {
             "iteration": 4,
             "learn": [
              1.015213779
             ],
             "passed_time": 0.05803369788,
             "remaining_time": 3.423988175,
             "test": [
              0.8128143179
             ]
            },
            {
             "iteration": 5,
             "learn": [
              0.9810406
             ],
             "passed_time": 0.05965137016,
             "remaining_time": 2.922917138,
             "test": [
              0.7951517024
             ]
            },
            {
             "iteration": 6,
             "learn": [
              0.9518993114
             ],
             "passed_time": 0.06127828644,
             "remaining_time": 2.56493399,
             "test": [
              0.7800469895
             ]
            },
            {
             "iteration": 7,
             "learn": [
              0.921082089
             ],
             "passed_time": 0.06279605207,
             "remaining_time": 2.2920559,
             "test": [
              0.7597601839
             ]
            },
            {
             "iteration": 8,
             "learn": [
              0.8902337203
             ],
             "passed_time": 0.06428852213,
             "remaining_time": 2.078662216,
             "test": [
              0.7398784359
             ]
            },
            {
             "iteration": 9,
             "learn": [
              0.8726853089
             ],
             "passed_time": 0.06585656749,
             "remaining_time": 1.909840457,
             "test": [
              0.7344177654
             ]
            },
            {
             "iteration": 10,
             "learn": [
              0.8497481447
             ],
             "passed_time": 0.06744847882,
             "remaining_time": 1.772055489,
             "test": [
              0.7257325218
             ]
            },
            {
             "iteration": 11,
             "learn": [
              0.8295202921
             ],
             "passed_time": 0.06897069693,
             "remaining_time": 1.655296726,
             "test": [
              0.7137719808
             ]
            },
            {
             "iteration": 12,
             "learn": [
              0.8073167383
             ],
             "passed_time": 0.07043455109,
             "remaining_time": 1.554978166,
             "test": [
              0.7017986051
             ]
            },
            {
             "iteration": 13,
             "learn": [
              0.7938868119
             ],
             "passed_time": 0.07197716453,
             "remaining_time": 1.470390647,
             "test": [
              0.6967448721
             ]
            },
            {
             "iteration": 14,
             "learn": [
              0.7793645169
             ],
             "passed_time": 0.07351920782,
             "remaining_time": 1.396864949,
             "test": [
              0.6925447135
             ]
            },
            {
             "iteration": 15,
             "learn": [
              0.7681215949
             ],
             "passed_time": 0.07500700693,
             "remaining_time": 1.331374373,
             "test": [
              0.6878456891
             ]
            },
            {
             "iteration": 16,
             "learn": [
              0.755337221
             ],
             "passed_time": 0.07644305118,
             "remaining_time": 1.27255197,
             "test": [
              0.6805657357
             ]
            },
            {
             "iteration": 17,
             "learn": [
              0.7407935814
             ],
             "passed_time": 0.07792949994,
             "remaining_time": 1.220895499,
             "test": [
              0.6749377258
             ]
            },
            {
             "iteration": 18,
             "learn": [
              0.7324064142
             ],
             "passed_time": 0.07938929172,
             "remaining_time": 1.174125841,
             "test": [
              0.6720198844
             ]
            },
            {
             "iteration": 19,
             "learn": [
              0.7251307739
             ],
             "passed_time": 0.0809416277,
             "remaining_time": 1.133182788,
             "test": [
              0.6708896763
             ]
            },
            {
             "iteration": 20,
             "learn": [
              0.7188398976
             ],
             "passed_time": 0.08237929369,
             "remaining_time": 1.094467759,
             "test": [
              0.6691668831
             ]
            },
            {
             "iteration": 21,
             "learn": [
              0.7093711972
             ],
             "passed_time": 0.08393861677,
             "remaining_time": 1.060678885,
             "test": [
              0.6637354018
             ]
            },
            {
             "iteration": 22,
             "learn": [
              0.7046748086
             ],
             "passed_time": 0.08552380608,
             "remaining_time": 1.030004099,
             "test": [
              0.6628408307
             ]
            },
            {
             "iteration": 23,
             "learn": [
              0.6984345876
             ],
             "passed_time": 0.08704373359,
             "remaining_time": 1.001002936,
             "test": [
              0.6614814901
             ]
            },
            {
             "iteration": 24,
             "learn": [
              0.6900377042
             ],
             "passed_time": 0.08862188633,
             "remaining_time": 0.9748407496,
             "test": [
              0.6610729721
             ]
            },
            {
             "iteration": 25,
             "learn": [
              0.6808606486
             ],
             "passed_time": 0.09013538057,
             "remaining_time": 0.9498882414,
             "test": [
              0.6578356699
             ]
            },
            {
             "iteration": 26,
             "learn": [
              0.6767477442
             ],
             "passed_time": 0.09170247568,
             "remaining_time": 0.9272139208,
             "test": [
              0.656369224
             ]
            },
            {
             "iteration": 27,
             "learn": [
              0.6735478089
             ],
             "passed_time": 0.09331290186,
             "remaining_time": 0.9064681895,
             "test": [
              0.6560023797
             ]
            },
            {
             "iteration": 28,
             "learn": [
              0.6692072826
             ],
             "passed_time": 0.09490931068,
             "remaining_time": 0.8869111447,
             "test": [
              0.6564384364
             ]
            },
            {
             "iteration": 29,
             "learn": [
              0.6633912721
             ],
             "passed_time": 0.09639977917,
             "remaining_time": 0.8675980125,
             "test": [
              0.6547662871
             ]
            },
            {
             "iteration": 30,
             "learn": [
              0.6581419735
             ],
             "passed_time": 0.09787880598,
             "remaining_time": 0.8493354455,
             "test": [
              0.6563987852
             ]
            },
            {
             "iteration": 31,
             "learn": [
              0.6551144309
             ],
             "passed_time": 0.09931529299,
             "remaining_time": 0.8317655788,
             "test": [
              0.6565186816
             ]
            },
            {
             "iteration": 32,
             "learn": [
              0.6488671483
             ],
             "passed_time": 0.1007784356,
             "remaining_time": 0.8153891611,
             "test": [
              0.6542691433
             ]
            },
            {
             "iteration": 33,
             "learn": [
              0.6415784114
             ],
             "passed_time": 0.1022379273,
             "remaining_time": 0.7998614316,
             "test": [
              0.654967269
             ]
            },
            {
             "iteration": 34,
             "learn": [
              0.6369656566
             ],
             "passed_time": 0.1037106525,
             "remaining_time": 0.7852377976,
             "test": [
              0.6535772802
             ]
            },
            {
             "iteration": 35,
             "learn": [
              0.6331925338
             ],
             "passed_time": 0.1052059236,
             "remaining_time": 0.7715101062,
             "test": [
              0.6551445537
             ]
            },
            {
             "iteration": 36,
             "learn": [
              0.6300064731
             ],
             "passed_time": 0.1067475868,
             "remaining_time": 0.758773387,
             "test": [
              0.6556213356
             ]
            },
            {
             "iteration": 37,
             "learn": [
              0.6245956124
             ],
             "passed_time": 0.1083255094,
             "remaining_time": 0.7468758809,
             "test": [
              0.6550297864
             ]
            },
            {
             "iteration": 38,
             "learn": [
              0.6194170987
             ],
             "passed_time": 0.1098770052,
             "remaining_time": 0.7353307271,
             "test": [
              0.6525398649
             ]
            },
            {
             "iteration": 39,
             "learn": [
              0.6144480599
             ],
             "passed_time": 0.111417148,
             "remaining_time": 0.724211462,
             "test": [
              0.651148376
             ]
            },
            {
             "iteration": 40,
             "learn": [
              0.6124504254
             ],
             "passed_time": 0.1129659931,
             "remaining_time": 0.713614444,
             "test": [
              0.6509191423
             ]
            },
            {
             "iteration": 41,
             "learn": [
              0.6092362988
             ],
             "passed_time": 0.114422454,
             "remaining_time": 0.7028807887,
             "test": [
              0.6509193646
             ]
            },
            {
             "iteration": 42,
             "learn": [
              0.6079589433
             ],
             "passed_time": 0.1158749238,
             "remaining_time": 0.6925547774,
             "test": [
              0.6506292929
             ]
            },
            {
             "iteration": 43,
             "learn": [
              0.6038969145
             ],
             "passed_time": 0.1173848043,
             "remaining_time": 0.6829661338,
             "test": [
              0.6489120006
             ]
            },
            {
             "iteration": 44,
             "learn": [
              0.5998565399
             ],
             "passed_time": 0.1189158655,
             "remaining_time": 0.6738565709,
             "test": [
              0.6485724397
             ]
            },
            {
             "iteration": 45,
             "learn": [
              0.5959875807
             ],
             "passed_time": 0.1205099024,
             "remaining_time": 0.6654242434,
             "test": [
              0.648797986
             ]
            },
            {
             "iteration": 46,
             "learn": [
              0.5936416552
             ],
             "passed_time": 0.1219683125,
             "remaining_time": 0.6565528309,
             "test": [
              0.6489888925
             ]
            },
            {
             "iteration": 47,
             "learn": [
              0.5883302236
             ],
             "passed_time": 0.1234716656,
             "remaining_time": 0.6482262445,
             "test": [
              0.6492932122
             ]
            },
            {
             "iteration": 48,
             "learn": [
              0.5871388743
             ],
             "passed_time": 0.1249586858,
             "remaining_time": 0.6400944928,
             "test": [
              0.6489366348
             ]
            },
            {
             "iteration": 49,
             "learn": [
              0.5857222846
             ],
             "passed_time": 0.1264871756,
             "remaining_time": 0.632435878,
             "test": [
              0.6490199876
             ]
            },
            {
             "iteration": 50,
             "learn": [
              0.5824669556
             ],
             "passed_time": 0.1281098,
             "remaining_time": 0.6254772586,
             "test": [
              0.6486203791
             ]
            },
            {
             "iteration": 51,
             "learn": [
              0.5794019059
             ],
             "passed_time": 0.1296800506,
             "remaining_time": 0.6184740876,
             "test": [
              0.648161123
             ]
            },
            {
             "iteration": 52,
             "learn": [
              0.5755291482
             ],
             "passed_time": 0.1312429294,
             "remaining_time": 0.6116415765,
             "test": [
              0.6472919255
             ]
            },
            {
             "iteration": 53,
             "learn": [
              0.5730856002
             ],
             "passed_time": 0.1327626368,
             "remaining_time": 0.6048075677,
             "test": [
              0.6468040913
             ]
            },
            {
             "iteration": 54,
             "learn": [
              0.5708438847
             ],
             "passed_time": 0.1342035937,
             "remaining_time": 0.5978160082,
             "test": [
              0.6464156911
             ]
            },
            {
             "iteration": 55,
             "learn": [
              0.5689951069
             ],
             "passed_time": 0.1357813163,
             "remaining_time": 0.5916185925,
             "test": [
              0.646676236
             ]
            },
            {
             "iteration": 56,
             "learn": [
              0.567074004
             ],
             "passed_time": 0.1373679312,
             "remaining_time": 0.5856211806,
             "test": [
              0.646937254
             ]
            },
            {
             "iteration": 57,
             "learn": [
              0.5660553737
             ],
             "passed_time": 0.1389620266,
             "remaining_time": 0.5798070764,
             "test": [
              0.6466628997
             ]
            },
            {
             "iteration": 58,
             "learn": [
              0.5627201007
             ],
             "passed_time": 0.1405210159,
             "remaining_time": 0.5739926242,
             "test": [
              0.6448219263
             ]
            },
            {
             "iteration": 59,
             "learn": [
              0.5605419678
             ],
             "passed_time": 0.1421013692,
             "remaining_time": 0.5684054768,
             "test": [
              0.644368154
             ]
            },
            {
             "iteration": 60,
             "learn": [
              0.5590800679
             ],
             "passed_time": 0.1435253516,
             "remaining_time": 0.5623370333,
             "test": [
              0.6444531278
             ]
            },
            {
             "iteration": 61,
             "learn": [
              0.557052439
             ],
             "passed_time": 0.1449600753,
             "remaining_time": 0.5564596437,
             "test": [
              0.6456278118
             ]
            },
            {
             "iteration": 62,
             "learn": [
              0.5566899572
             ],
             "passed_time": 0.1463659045,
             "remaining_time": 0.5506145931,
             "test": [
              0.6455384412
             ]
            },
            {
             "iteration": 63,
             "learn": [
              0.5552072988
             ],
             "passed_time": 0.1478813108,
             "remaining_time": 0.5453123337,
             "test": [
              0.6454763399
             ]
            },
            {
             "iteration": 64,
             "learn": [
              0.5533318038
             ],
             "passed_time": 0.1493330105,
             "remaining_time": 0.5398962687,
             "test": [
              0.6456821207
             ]
            },
            {
             "iteration": 65,
             "learn": [
              0.5507615666
             ],
             "passed_time": 0.1508760941,
             "remaining_time": 0.5349243335,
             "test": [
              0.6446832411
             ]
            },
            {
             "iteration": 66,
             "learn": [
              0.5481033188
             ],
             "passed_time": 0.1522465725,
             "remaining_time": 0.5294544983,
             "test": [
              0.6473845355
             ]
            },
            {
             "iteration": 67,
             "learn": [
              0.5443776918
             ],
             "passed_time": 0.1536794172,
             "remaining_time": 0.5243180117,
             "test": [
              0.6510099247
             ]
            },
            {
             "iteration": 68,
             "learn": [
              0.5414860053
             ],
             "passed_time": 0.1550945073,
             "remaining_time": 0.5192294375,
             "test": [
              0.6505757095
             ]
            },
            {
             "iteration": 69,
             "learn": [
              0.5389530997
             ],
             "passed_time": 0.1565569498,
             "remaining_time": 0.5144014064,
             "test": [
              0.6503525427
             ]
            },
            {
             "iteration": 70,
             "learn": [
              0.5378366405
             ],
             "passed_time": 0.1580335259,
             "remaining_time": 0.5097137668,
             "test": [
              0.649818215
             ]
            },
            {
             "iteration": 71,
             "learn": [
              0.5346892501
             ],
             "passed_time": 0.1594832251,
             "remaining_time": 0.5050302128,
             "test": [
              0.6498207225
             ]
            },
            {
             "iteration": 72,
             "learn": [
              0.533201152
             ],
             "passed_time": 0.1609118487,
             "remaining_time": 0.5003697213,
             "test": [
              0.6500908861
             ]
            },
            {
             "iteration": 73,
             "learn": [
              0.5326776891
             ],
             "passed_time": 0.1623626782,
             "remaining_time": 0.4958643954,
             "test": [
              0.650310258
             ]
            },
            {
             "iteration": 74,
             "learn": [
              0.5288700123
             ],
             "passed_time": 0.1638306421,
             "remaining_time": 0.4914919262,
             "test": [
              0.6512737473
             ]
            },
            {
             "iteration": 75,
             "learn": [
              0.528016097
             ],
             "passed_time": 0.1653244728,
             "remaining_time": 0.4872721302,
             "test": [
              0.6513829573
             ]
            },
            {
             "iteration": 76,
             "learn": [
              0.527544423
             ],
             "passed_time": 0.166709525,
             "remaining_time": 0.4828081048,
             "test": [
              0.6512780465
             ]
            },
            {
             "iteration": 77,
             "learn": [
              0.5253588096
             ],
             "passed_time": 0.1682658407,
             "remaining_time": 0.4789104697,
             "test": [
              0.6524980504
             ]
            },
            {
             "iteration": 78,
             "learn": [
              0.5233544319
             ],
             "passed_time": 0.1697977627,
             "remaining_time": 0.4750038677,
             "test": [
              0.6533155434
             ]
            },
            {
             "iteration": 79,
             "learn": [
              0.5226584945
             ],
             "passed_time": 0.1715379278,
             "remaining_time": 0.4717293014,
             "test": [
              0.6533802286
             ]
            },
            {
             "iteration": 80,
             "learn": [
              0.5206721558
             ],
             "passed_time": 0.1731576129,
             "remaining_time": 0.4681668794,
             "test": [
              0.6532647538
             ]
            },
            {
             "iteration": 81,
             "learn": [
              0.5199623432
             ],
             "passed_time": 0.1745774743,
             "remaining_time": 0.4641206024,
             "test": [
              0.6535146925
             ]
            },
            {
             "iteration": 82,
             "learn": [
              0.5183437753
             ],
             "passed_time": 0.17601393,
             "remaining_time": 0.4601809976,
             "test": [
              0.6542127942
             ]
            },
            {
             "iteration": 83,
             "learn": [
              0.5162746127
             ],
             "passed_time": 0.1774892845,
             "remaining_time": 0.4564010173,
             "test": [
              0.6556509666
             ]
            },
            {
             "iteration": 84,
             "learn": [
              0.5159606991
             ],
             "passed_time": 0.1788794781,
             "remaining_time": 0.4524598563,
             "test": [
              0.6558946964
             ]
            },
            {
             "iteration": 85,
             "learn": [
              0.5151123334
             ],
             "passed_time": 0.1803410016,
             "remaining_time": 0.4487555157,
             "test": [
              0.6558180375
             ]
            },
            {
             "iteration": 86,
             "learn": [
              0.5124209101
             ],
             "passed_time": 0.1818113448,
             "remaining_time": 0.445124327,
             "test": [
              0.6577324919
             ]
            },
            {
             "iteration": 87,
             "learn": [
              0.5098285479
             ],
             "passed_time": 0.1833321139,
             "remaining_time": 0.4416637289,
             "test": [
              0.6568501935
             ]
            },
            {
             "iteration": 88,
             "learn": [
              0.5066813836
             ],
             "passed_time": 0.1848894099,
             "remaining_time": 0.43833332,
             "test": [
              0.6571223783
             ]
            },
            {
             "iteration": 89,
             "learn": [
              0.5059180408
             ],
             "passed_time": 0.1864080068,
             "remaining_time": 0.4349520158,
             "test": [
              0.657593768
             ]
            },
            {
             "iteration": 90,
             "learn": [
              0.5034651557
             ],
             "passed_time": 0.1879045581,
             "remaining_time": 0.4315610182,
             "test": [
              0.66142709
             ]
            },
            {
             "iteration": 91,
             "learn": [
              0.5016261894
             ],
             "passed_time": 0.1893843652,
             "remaining_time": 0.4281733473,
             "test": [
              0.6627487802
             ]
            },
            {
             "iteration": 92,
             "learn": [
              0.4995498024
             ],
             "passed_time": 0.190963018,
             "remaining_time": 0.4250467176,
             "test": [
              0.6627742564
             ]
            },
            {
             "iteration": 93,
             "learn": [
              0.4973649043
             ],
             "passed_time": 0.1924377437,
             "remaining_time": 0.4217252681,
             "test": [
              0.6629536197
             ]
            },
            {
             "iteration": 94,
             "learn": [
              0.4938953399
             ],
             "passed_time": 0.1938889032,
             "remaining_time": 0.4183918438,
             "test": [
              0.6624335176
             ]
            },
            {
             "iteration": 95,
             "learn": [
              0.493430869
             ],
             "passed_time": 0.1953521259,
             "remaining_time": 0.4151232676,
             "test": [
              0.6624915321
             ]
            },
            {
             "iteration": 96,
             "learn": [
              0.4914861896
             ],
             "passed_time": 0.1968734838,
             "remaining_time": 0.4120135795,
             "test": [
              0.6620571143
             ]
            },
            {
             "iteration": 97,
             "learn": [
              0.4911817565
             ],
             "passed_time": 0.1982973962,
             "remaining_time": 0.4087354493,
             "test": [
              0.6623549247
             ]
            },
            {
             "iteration": 98,
             "learn": [
              0.4891760254
             ],
             "passed_time": 0.1997591785,
             "remaining_time": 0.4055716654,
             "test": [
              0.6630600055
             ]
            },
            {
             "iteration": 99,
             "learn": [
              0.488977575
             ],
             "passed_time": 0.2011969445,
             "remaining_time": 0.402393889,
             "test": [
              0.663323676
             ]
            },
            {
             "iteration": 100,
             "learn": [
              0.487015002
             ],
             "passed_time": 0.2026216071,
             "remaining_time": 0.3992247507,
             "test": [
              0.6633495266
             ]
            },
            {
             "iteration": 101,
             "learn": [
              0.4847568898
             ],
             "passed_time": 0.2040554121,
             "remaining_time": 0.3961075647,
             "test": [
              0.6637403761
             ]
            },
            {
             "iteration": 102,
             "learn": [
              0.4825609122
             ],
             "passed_time": 0.2055024806,
             "remaining_time": 0.3930484337,
             "test": [
              0.6653681677
             ]
            },
            {
             "iteration": 103,
             "learn": [
              0.4805011644
             ],
             "passed_time": 0.2069357154,
             "remaining_time": 0.3899942328,
             "test": [
              0.6652041183
             ]
            },
            {
             "iteration": 104,
             "learn": [
              0.4799740256
             ],
             "passed_time": 0.2083039932,
             "remaining_time": 0.3868502732,
             "test": [
              0.6656174258
             ]
            },
            {
             "iteration": 105,
             "learn": [
              0.4785773807
             ],
             "passed_time": 0.2096349013,
             "remaining_time": 0.3836714232,
             "test": [
              0.6658141064
             ]
            },
            {
             "iteration": 106,
             "learn": [
              0.4763941064
             ],
             "passed_time": 0.2111434158,
             "remaining_time": 0.3808474697,
             "test": [
              0.66560594
             ]
            },
            {
             "iteration": 107,
             "learn": [
              0.4745594231
             ],
             "passed_time": 0.2126236917,
             "remaining_time": 0.3779976741,
             "test": [
              0.6664766079
             ]
            },
            {
             "iteration": 108,
             "learn": [
              0.4741257205
             ],
             "passed_time": 0.2140795837,
             "remaining_time": 0.3751302798,
             "test": [
              0.6676540968
             ]
            },
            {
             "iteration": 109,
             "learn": [
              0.4727007912
             ],
             "passed_time": 0.215577864,
             "remaining_time": 0.3723617651,
             "test": [
              0.6674716698
             ]
            },
            {
             "iteration": 110,
             "learn": [
              0.4709951122
             ],
             "passed_time": 0.2170788881,
             "remaining_time": 0.3696208095,
             "test": [
              0.6673003139
             ]
            },
            {
             "iteration": 111,
             "learn": [
              0.4694446811
             ],
             "passed_time": 0.2186036256,
             "remaining_time": 0.3669418001,
             "test": [
              0.6683248423
             ]
            },
            {
             "iteration": 112,
             "learn": [
              0.4678255544
             ],
             "passed_time": 0.2201245647,
             "remaining_time": 0.3642769345,
             "test": [
              0.6684787931
             ]
            },
            {
             "iteration": 113,
             "learn": [
              0.4675062796
             ],
             "passed_time": 0.2215437658,
             "remaining_time": 0.3614661443,
             "test": [
              0.6690177434
             ]
            },
            {
             "iteration": 114,
             "learn": [
              0.4663533746
             ],
             "passed_time": 0.2229833824,
             "remaining_time": 0.3587123977,
             "test": [
              0.6693713103
             ]
            },
            {
             "iteration": 115,
             "learn": [
              0.4641471013
             ],
             "passed_time": 0.2244295406,
             "remaining_time": 0.355991685,
             "test": [
              0.6697401606
             ]
            },
            {
             "iteration": 116,
             "learn": [
              0.4627986696
             ],
             "passed_time": 0.2258928533,
             "remaining_time": 0.353319591,
             "test": [
              0.6692706088
             ]
            },
            {
             "iteration": 117,
             "learn": [
              0.461254741
             ],
             "passed_time": 0.2273544455,
             "remaining_time": 0.3506653312,
             "test": [
              0.6698590921
             ]
            },
            {
             "iteration": 118,
             "learn": [
              0.459816689
             ],
             "passed_time": 0.2287112704,
             "remaining_time": 0.3478717642,
             "test": [
              0.6704187196
             ]
            },
            {
             "iteration": 119,
             "learn": [
              0.4595680178
             ],
             "passed_time": 0.2301870063,
             "remaining_time": 0.3452805095,
             "test": [
              0.6703957222
             ]
            },
            {
             "iteration": 120,
             "learn": [
              0.4581654223
             ],
             "passed_time": 0.2316583211,
             "remaining_time": 0.3427011527,
             "test": [
              0.6706928176
             ]
            },
            {
             "iteration": 121,
             "learn": [
              0.4565739849
             ],
             "passed_time": 0.2332417189,
             "remaining_time": 0.3403034915,
             "test": [
              0.6721010164
             ]
            },
            {
             "iteration": 122,
             "learn": [
              0.4563404606
             ],
             "passed_time": 0.234742076,
             "remaining_time": 0.3377995728,
             "test": [
              0.6720730248
             ]
            },
            {
             "iteration": 123,
             "learn": [
              0.4545000042
             ],
             "passed_time": 0.2362126522,
             "remaining_time": 0.3352695709,
             "test": [
              0.6720061679
             ]
            },
            {
             "iteration": 124,
             "learn": [
              0.4533180293
             ],
             "passed_time": 0.2376321535,
             "remaining_time": 0.3326850148,
             "test": [
              0.6723236332
             ]
            },
            {
             "iteration": 125,
             "learn": [
              0.4515949463
             ],
             "passed_time": 0.2390899847,
             "remaining_time": 0.3301718837,
             "test": [
              0.6720506511
             ]
            },
            {
             "iteration": 126,
             "learn": [
              0.450137654
             ],
             "passed_time": 0.2405305415,
             "remaining_time": 0.32765184,
             "test": [
              0.6719901419
             ]
            },
            {
             "iteration": 127,
             "learn": [
              0.4485446269
             ],
             "passed_time": 0.2420097683,
             "remaining_time": 0.3252006262,
             "test": [
              0.6718379536
             ]
            },
            {
             "iteration": 128,
             "learn": [
              0.4465085132
             ],
             "passed_time": 0.2434605164,
             "remaining_time": 0.3227267311,
             "test": [
              0.6713374516
             ]
            },
            {
             "iteration": 129,
             "learn": [
              0.4454620605
             ],
             "passed_time": 0.2449036839,
             "remaining_time": 0.3202586635,
             "test": [
              0.6715341055
             ]
            },
            {
             "iteration": 130,
             "learn": [
              0.4441115808
             ],
             "passed_time": 0.2463422401,
             "remaining_time": 0.3178002945,
             "test": [
              0.6717371078
             ]
            },
            {
             "iteration": 131,
             "learn": [
              0.4418155967
             ],
             "passed_time": 0.2479383188,
             "remaining_time": 0.3155578603,
             "test": [
              0.672071986
             ]
            },
            {
             "iteration": 132,
             "learn": [
              0.4404180042
             ],
             "passed_time": 0.2494446165,
             "remaining_time": 0.3132124132,
             "test": [
              0.6722035076
             ]
            },
            {
             "iteration": 133,
             "learn": [
              0.4400919067
             ],
             "passed_time": 0.2508896044,
             "remaining_time": 0.3108035398,
             "test": [
              0.6722721741
             ]
            },
            {
             "iteration": 134,
             "learn": [
              0.4381599192
             ],
             "passed_time": 0.2524120726,
             "remaining_time": 0.3085036442,
             "test": [
              0.6721310734
             ]
            },
            {
             "iteration": 135,
             "learn": [
              0.4368665093
             ],
             "passed_time": 0.2539985569,
             "remaining_time": 0.3062923775,
             "test": [
              0.6726757538
             ]
            },
            {
             "iteration": 136,
             "learn": [
              0.4362721743
             ],
             "passed_time": 0.2556422974,
             "remaining_time": 0.3041583538,
             "test": [
              0.6728337881
             ]
            },
            {
             "iteration": 137,
             "learn": [
              0.4359871036
             ],
             "passed_time": 0.2570647157,
             "remaining_time": 0.3017716228,
             "test": [
              0.67289841
             ]
            },
            {
             "iteration": 138,
             "learn": [
              0.4341784308
             ],
             "passed_time": 0.2586907809,
             "remaining_time": 0.2996346456,
             "test": [
              0.6717926357
             ]
            },
            {
             "iteration": 139,
             "learn": [
              0.432929312
             ],
             "passed_time": 0.260352584,
             "remaining_time": 0.2975458103,
             "test": [
              0.6714335238
             ]
            },
            {
             "iteration": 140,
             "learn": [
              0.4327175311
             ],
             "passed_time": 0.2622970033,
             "remaining_time": 0.2957817271,
             "test": [
              0.6714016296
             ]
            },
            {
             "iteration": 141,
             "learn": [
              0.4307055082
             ],
             "passed_time": 0.2640254561,
             "remaining_time": 0.2937748033,
             "test": [
              0.671929494
             ]
            },
            {
             "iteration": 142,
             "learn": [
              0.4294168832
             ],
             "passed_time": 0.2656877946,
             "remaining_time": 0.291699187,
             "test": [
              0.6716767851
             ]
            },
            {
             "iteration": 143,
             "learn": [
              0.42789591
             ],
             "passed_time": 0.2672371161,
             "remaining_time": 0.2895068758,
             "test": [
              0.672152033
             ]
            },
            {
             "iteration": 144,
             "learn": [
              0.4269715439
             ],
             "passed_time": 0.2686992985,
             "remaining_time": 0.2872302846,
             "test": [
              0.6720589854
             ]
            },
            {
             "iteration": 145,
             "learn": [
              0.425594403
             ],
             "passed_time": 0.2702638263,
             "remaining_time": 0.2850728031,
             "test": [
              0.6720288971
             ]
            },
            {
             "iteration": 146,
             "learn": [
              0.4242289574
             ],
             "passed_time": 0.2719654127,
             "remaining_time": 0.2830660418,
             "test": [
              0.6718807077
             ]
            },
            {
             "iteration": 147,
             "learn": [
              0.4233866223
             ],
             "passed_time": 0.2733670893,
             "remaining_time": 0.280755389,
             "test": [
              0.671711193
             ]
            },
            {
             "iteration": 148,
             "learn": [
              0.4222797839
             ],
             "passed_time": 0.2759736746,
             "remaining_time": 0.2796780193,
             "test": [
              0.671732072
             ]
            },
            {
             "iteration": 149,
             "learn": [
              0.4206650879
             ],
             "passed_time": 0.2775339727,
             "remaining_time": 0.2775339727,
             "test": [
              0.6712520516
             ]
            },
            {
             "iteration": 150,
             "learn": [
              0.4194862751
             ],
             "passed_time": 0.2793534086,
             "remaining_time": 0.2756533634,
             "test": [
              0.6716934778
             ]
            },
            {
             "iteration": 151,
             "learn": [
              0.4180488507
             ],
             "passed_time": 0.281144577,
             "remaining_time": 0.2737460355,
             "test": [
              0.6718724356
             ]
            },
            {
             "iteration": 152,
             "learn": [
              0.4168905644
             ],
             "passed_time": 0.283494251,
             "remaining_time": 0.2723768294,
             "test": [
              0.6718867378
             ]
            },
            {
             "iteration": 153,
             "learn": [
              0.415692958
             ],
             "passed_time": 0.2853716688,
             "remaining_time": 0.2705471666,
             "test": [
              0.6721578513
             ]
            },
            {
             "iteration": 154,
             "learn": [
              0.4150944813
             ],
             "passed_time": 0.2868990467,
             "remaining_time": 0.2683894308,
             "test": [
              0.6726454947
             ]
            },
            {
             "iteration": 155,
             "learn": [
              0.4140777848
             ],
             "passed_time": 0.2884022014,
             "remaining_time": 0.2662174167,
             "test": [
              0.6727083364
             ]
            },
            {
             "iteration": 156,
             "learn": [
              0.412231229
             ],
             "passed_time": 0.2898752267,
             "remaining_time": 0.2640264803,
             "test": [
              0.6747830209
             ]
            },
            {
             "iteration": 157,
             "learn": [
              0.4120757918
             ],
             "passed_time": 0.2912776634,
             "remaining_time": 0.2617811912,
             "test": [
              0.6747589507
             ]
            },
            {
             "iteration": 158,
             "learn": [
              0.4114004523
             ],
             "passed_time": 0.2927542696,
             "remaining_time": 0.2596122768,
             "test": [
              0.6745439222
             ]
            },
            {
             "iteration": 159,
             "learn": [
              0.4094152853
             ],
             "passed_time": 0.2942824593,
             "remaining_time": 0.2574971519,
             "test": [
              0.674733593
             ]
            },
            {
             "iteration": 160,
             "learn": [
              0.4080925106
             ],
             "passed_time": 0.2957122119,
             "remaining_time": 0.255304332,
             "test": [
              0.6741115538
             ]
            },
            {
             "iteration": 161,
             "learn": [
              0.4075141846
             ],
             "passed_time": 0.2971419271,
             "remaining_time": 0.2531209009,
             "test": [
              0.6741321066
             ]
            },
            {
             "iteration": 162,
             "learn": [
              0.4059017107
             ],
             "passed_time": 0.2985718611,
             "remaining_time": 0.2509469017,
             "test": [
              0.6738758274
             ]
            },
            {
             "iteration": 163,
             "learn": [
              0.4045592776
             ],
             "passed_time": 0.3001349599,
             "remaining_time": 0.2488924058,
             "test": [
              0.6738799976
             ]
            },
            {
             "iteration": 164,
             "learn": [
              0.4044148316
             ],
             "passed_time": 0.3014936152,
             "remaining_time": 0.2466765943,
             "test": [
              0.6738551456
             ]
            },
            {
             "iteration": 165,
             "learn": [
              0.403287716
             ],
             "passed_time": 0.3029820845,
             "remaining_time": 0.2445758995,
             "test": [
              0.6732180837
             ]
            },
            {
             "iteration": 166,
             "learn": [
              0.4031583876
             ],
             "passed_time": 0.304395024,
             "remaining_time": 0.2424223844,
             "test": [
              0.6731933349
             ]
            },
            {
             "iteration": 167,
             "learn": [
              0.4019007914
             ],
             "passed_time": 0.3058164358,
             "remaining_time": 0.2402843424,
             "test": [
              0.6749791485
             ]
            },
            {
             "iteration": 168,
             "learn": [
              0.400274825
             ],
             "passed_time": 0.3072658048,
             "remaining_time": 0.2381764523,
             "test": [
              0.6751913855
             ]
            },
            {
             "iteration": 169,
             "learn": [
              0.3992491082
             ],
             "passed_time": 0.3087382199,
             "remaining_time": 0.2360939329,
             "test": [
              0.6754410728
             ]
            },
            {
             "iteration": 170,
             "learn": [
              0.398236233
             ],
             "passed_time": 0.3102156347,
             "remaining_time": 0.2340223209,
             "test": [
              0.6750472533
             ]
            },
            {
             "iteration": 171,
             "learn": [
              0.3981237173
             ],
             "passed_time": 0.3116753665,
             "remaining_time": 0.2319444588,
             "test": [
              0.6750251452
             ]
            },
            {
             "iteration": 172,
             "learn": [
              0.3969677849
             ],
             "passed_time": 0.3131961758,
             "remaining_time": 0.2299185799,
             "test": [
              0.6747952569
             ]
            },
            {
             "iteration": 173,
             "learn": [
              0.3956251053
             ],
             "passed_time": 0.3146483356,
             "remaining_time": 0.2278487947,
             "test": [
              0.6747739819
             ]
            },
            {
             "iteration": 174,
             "learn": [
              0.3946788708
             ],
             "passed_time": 0.3160960342,
             "remaining_time": 0.2257828816,
             "test": [
              0.6745635827
             ]
            },
            {
             "iteration": 175,
             "learn": [
              0.3935235409
             ],
             "passed_time": 0.3175217171,
             "remaining_time": 0.2237084825,
             "test": [
              0.674929925
             ]
            },
            {
             "iteration": 176,
             "learn": [
              0.3931247757
             ],
             "passed_time": 0.3189727566,
             "remaining_time": 0.2216590342,
             "test": [
              0.6749039626
             ]
            },
            {
             "iteration": 177,
             "learn": [
              0.3913512167
             ],
             "passed_time": 0.320596715,
             "remaining_time": 0.2197348271,
             "test": [
              0.6744436619
             ]
            },
            {
             "iteration": 178,
             "learn": [
              0.3901284692
             ],
             "passed_time": 0.3221856768,
             "remaining_time": 0.2177903179,
             "test": [
              0.6749512491
             ]
            },
            {
             "iteration": 179,
             "learn": [
              0.3892157103
             ],
             "passed_time": 0.324017756,
             "remaining_time": 0.2160118373,
             "test": [
              0.6752633507
             ]
            },
            {
             "iteration": 180,
             "learn": [
              0.3882348749
             ],
             "passed_time": 0.325532102,
             "remaining_time": 0.2140238682,
             "test": [
              0.6755947189
             ]
            },
            {
             "iteration": 181,
             "learn": [
              0.3868899385
             ],
             "passed_time": 0.3271145859,
             "remaining_time": 0.212085281,
             "test": [
              0.6772753839
             ]
            },
            {
             "iteration": 182,
             "learn": [
              0.3858059364
             ],
             "passed_time": 0.3285285457,
             "remaining_time": 0.2100428407,
             "test": [
              0.6774186996
             ]
            },
            {
             "iteration": 183,
             "learn": [
              0.3847383521
             ],
             "passed_time": 0.3300983047,
             "remaining_time": 0.2081054529,
             "test": [
              0.6778191927
             ]
            },
            {
             "iteration": 184,
             "learn": [
              0.3845711605
             ],
             "passed_time": 0.3315480254,
             "remaining_time": 0.2060974212,
             "test": [
              0.6777890388
             ]
            },
            {
             "iteration": 185,
             "learn": [
              0.3836836821
             ],
             "passed_time": 0.3330265621,
             "remaining_time": 0.2041130542,
             "test": [
              0.6795927224
             ]
            },
            {
             "iteration": 186,
             "learn": [
              0.3828851754
             ],
             "passed_time": 0.334483073,
             "remaining_time": 0.2021207874,
             "test": [
              0.6798750319
             ]
            },
            {
             "iteration": 187,
             "learn": [
              0.3814258761
             ],
             "passed_time": 0.3360271668,
             "remaining_time": 0.2001863973,
             "test": [
              0.6800076053
             ]
            },
            {
             "iteration": 188,
             "learn": [
              0.380144524
             ],
             "passed_time": 0.3374915298,
             "remaining_time": 0.1982093111,
             "test": [
              0.6798400871
             ]
            },
            {
             "iteration": 189,
             "learn": [
              0.3792370143
             ],
             "passed_time": 0.3389673858,
             "remaining_time": 0.196244276,
             "test": [
              0.6803162543
             ]
            },
            {
             "iteration": 190,
             "learn": [
              0.3780973855
             ],
             "passed_time": 0.3404189154,
             "remaining_time": 0.1942704805,
             "test": [
              0.6802269122
             ]
            },
            {
             "iteration": 191,
             "learn": [
              0.3768419267
             ],
             "passed_time": 0.3418634732,
             "remaining_time": 0.1922982037,
             "test": [
              0.6801457454
             ]
            },
            {
             "iteration": 192,
             "learn": [
              0.3758441637
             ],
             "passed_time": 0.343354043,
             "remaining_time": 0.1903569047,
             "test": [
              0.6793838501
             ]
            },
            {
             "iteration": 193,
             "learn": [
              0.3748134283
             ],
             "passed_time": 0.3447866677,
             "remaining_time": 0.1883885916,
             "test": [
              0.679116906
             ]
            },
            {
             "iteration": 194,
             "learn": [
              0.3738477895
             ],
             "passed_time": 0.3462267843,
             "remaining_time": 0.1864298069,
             "test": [
              0.6799720075
             ]
            },
            {
             "iteration": 195,
             "learn": [
              0.3737818857
             ],
             "passed_time": 0.3476291398,
             "remaining_time": 0.1844562783,
             "test": [
              0.6799711228
             ]
            },
            {
             "iteration": 196,
             "learn": [
              0.3728659744
             ],
             "passed_time": 0.3491278917,
             "remaining_time": 0.1825389485,
             "test": [
              0.6801798035
             ]
            },
            {
             "iteration": 197,
             "learn": [
              0.3720142054
             ],
             "passed_time": 0.3505855843,
             "remaining_time": 0.1806046949,
             "test": [
              0.6798709032
             ]
            },
            {
             "iteration": 198,
             "learn": [
              0.3711725668
             ],
             "passed_time": 0.3520648612,
             "remaining_time": 0.1786861858,
             "test": [
              0.6816943352
             ]
            },
            {
             "iteration": 199,
             "learn": [
              0.3702470164
             ],
             "passed_time": 0.3535377964,
             "remaining_time": 0.1767688982,
             "test": [
              0.6834254395
             ]
            },
            {
             "iteration": 200,
             "learn": [
              0.369859089
             ],
             "passed_time": 0.3551221492,
             "remaining_time": 0.1749109093,
             "test": [
              0.6833403152
             ]
            },
            {
             "iteration": 201,
             "learn": [
              0.3684326604
             ],
             "passed_time": 0.3567181482,
             "remaining_time": 0.1730612798,
             "test": [
              0.6834233639
             ]
            },
            {
             "iteration": 202,
             "learn": [
              0.3679290615
             ],
             "passed_time": 0.3582706942,
             "remaining_time": 0.1711933859,
             "test": [
              0.6837886433
             ]
            },
            {
             "iteration": 203,
             "learn": [
              0.3669711347
             ],
             "passed_time": 0.3599651974,
             "remaining_time": 0.169395387,
             "test": [
              0.6838934397
             ]
            },
            {
             "iteration": 204,
             "learn": [
              0.3658410019
             ],
             "passed_time": 0.3614682304,
             "remaining_time": 0.1675096678,
             "test": [
              0.6837987122
             ]
            },
            {
             "iteration": 205,
             "learn": [
              0.3647978795
             ],
             "passed_time": 0.3628676564,
             "remaining_time": 0.1655803869,
             "test": [
              0.683740923
             ]
            },
            {
             "iteration": 206,
             "learn": [
              0.3632020083
             ],
             "passed_time": 0.3643103638,
             "remaining_time": 0.1636756707,
             "test": [
              0.6835183636
             ]
            },
            {
             "iteration": 207,
             "learn": [
              0.363129113
             ],
             "passed_time": 0.3656157552,
             "remaining_time": 0.1617146609,
             "test": [
              0.6835172577
             ]
            },
            {
             "iteration": 208,
             "learn": [
              0.3621648781
             ],
             "passed_time": 0.3670497502,
             "remaining_time": 0.1598159199,
             "test": [
              0.6835757614
             ]
            },
            {
             "iteration": 209,
             "learn": [
              0.3615381497
             ],
             "passed_time": 0.3684833951,
             "remaining_time": 0.1579214551,
             "test": [
              0.6835271393
             ]
            },
            {
             "iteration": 210,
             "learn": [
              0.3606458493
             ],
             "passed_time": 0.3701283053,
             "remaining_time": 0.15612047,
             "test": [
              0.6837085815
             ]
            },
            {
             "iteration": 211,
             "learn": [
              0.3596649245
             ],
             "passed_time": 0.3716253368,
             "remaining_time": 0.1542595738,
             "test": [
              0.6833558091
             ]
            },
            {
             "iteration": 212,
             "learn": [
              0.3587475259
             ],
             "passed_time": 0.3730017068,
             "remaining_time": 0.1523528098,
             "test": [
              0.6837349495
             ]
            },
            {
             "iteration": 213,
             "learn": [
              0.3585563493
             ],
             "passed_time": 0.374443844,
             "remaining_time": 0.1504774326,
             "test": [
              0.6837744226
             ]
            },
            {
             "iteration": 214,
             "learn": [
              0.3580256313
             ],
             "passed_time": 0.3759385549,
             "remaining_time": 0.1486268705,
             "test": [
              0.6836975489
             ]
            },
            {
             "iteration": 215,
             "learn": [
              0.3573305413
             ],
             "passed_time": 0.3774057273,
             "remaining_time": 0.1467688939,
             "test": [
              0.6843341661
             ]
            },
            {
             "iteration": 216,
             "learn": [
              0.3567208313
             ],
             "passed_time": 0.378972437,
             "remaining_time": 0.1449525911,
             "test": [
              0.6844374281
             ]
            },
            {
             "iteration": 217,
             "learn": [
              0.3557384662
             ],
             "passed_time": 0.3805756413,
             "remaining_time": 0.1431523054,
             "test": [
              0.6847232729
             ]
            },
            {
             "iteration": 218,
             "learn": [
              0.3550039238
             ],
             "passed_time": 0.382111448,
             "remaining_time": 0.1413288917,
             "test": [
              0.684790113
             ]
            },
            {
             "iteration": 219,
             "learn": [
              0.3538837963
             ],
             "passed_time": 0.3848169353,
             "remaining_time": 0.139933431,
             "test": [
              0.6850128548
             ]
            },
            {
             "iteration": 220,
             "learn": [
              0.353301803
             ],
             "passed_time": 0.3863256346,
             "remaining_time": 0.1380983038,
             "test": [
              0.6849309882
             ]
            },
            {
             "iteration": 221,
             "learn": [
              0.3525506098
             ],
             "passed_time": 0.3879724058,
             "remaining_time": 0.1363146291,
             "test": [
              0.6854884839
             ]
            },
            {
             "iteration": 222,
             "learn": [
              0.3520818726
             ],
             "passed_time": 0.3895728344,
             "remaining_time": 0.1345161805,
             "test": [
              0.6854441726
             ]
            },
            {
             "iteration": 223,
             "learn": [
              0.3520355979
             ],
             "passed_time": 0.3911632253,
             "remaining_time": 0.1327160943,
             "test": [
              0.6854441773
             ]
            },
            {
             "iteration": 224,
             "learn": [
              0.3514363686
             ],
             "passed_time": 0.3927696167,
             "remaining_time": 0.1309232056,
             "test": [
              0.6853923601
             ]
            },
            {
             "iteration": 225,
             "learn": [
              0.3511621946
             ],
             "passed_time": 0.3941846268,
             "remaining_time": 0.1290693026,
             "test": [
              0.6853988594
             ]
            },
            {
             "iteration": 226,
             "learn": [
              0.34997355
             ],
             "passed_time": 0.3956724259,
             "remaining_time": 0.1272426744,
             "test": [
              0.6854849596
             ]
            },
            {
             "iteration": 227,
             "learn": [
              0.349045314
             ],
             "passed_time": 0.3971081614,
             "remaining_time": 0.1254025773,
             "test": [
              0.6850688636
             ]
            },
            {
             "iteration": 228,
             "learn": [
              0.3482212161
             ],
             "passed_time": 0.3986509536,
             "remaining_time": 0.1235992039,
             "test": [
              0.6854887546
             ]
            },
            {
             "iteration": 229,
             "learn": [
              0.3471165725
             ],
             "passed_time": 0.4002170145,
             "remaining_time": 0.1218051783,
             "test": [
              0.6855331963
             ]
            },
            {
             "iteration": 230,
             "learn": [
              0.3461902014
             ],
             "passed_time": 0.4016228921,
             "remaining_time": 0.1199652795,
             "test": [
              0.6856136808
             ]
            },
            {
             "iteration": 231,
             "learn": [
              0.3451832148
             ],
             "passed_time": 0.4031350976,
             "remaining_time": 0.1181602872,
             "test": [
              0.6855926744
             ]
            },
            {
             "iteration": 232,
             "learn": [
              0.3443533747
             ],
             "passed_time": 0.4046132937,
             "remaining_time": 0.1163480287,
             "test": [
              0.6862940568
             ]
            },
            {
             "iteration": 233,
             "learn": [
              0.3429709838
             ],
             "passed_time": 0.4062000392,
             "remaining_time": 0.1145692418,
             "test": [
              0.6862376694
             ]
            },
            {
             "iteration": 234,
             "learn": [
              0.3421700533
             ],
             "passed_time": 0.4077054629,
             "remaining_time": 0.1127695961,
             "test": [
              0.686353449
             ]
            },
            {
             "iteration": 235,
             "learn": [
              0.3413140242
             ],
             "passed_time": 0.4091731468,
             "remaining_time": 0.1109622093,
             "test": [
              0.6864744918
             ]
            },
            {
             "iteration": 236,
             "learn": [
              0.3406916236
             ],
             "passed_time": 0.4106563147,
             "remaining_time": 0.1091618052,
             "test": [
              0.6875937223
             ]
            },
            {
             "iteration": 237,
             "learn": [
              0.3401496064
             ],
             "passed_time": 0.4121254089,
             "remaining_time": 0.1073604006,
             "test": [
              0.6877059206
             ]
            },
            {
             "iteration": 238,
             "learn": [
              0.3393105531
             ],
             "passed_time": 0.4135929327,
             "remaining_time": 0.1055613761,
             "test": [
              0.687877581
             ]
            },
            {
             "iteration": 239,
             "learn": [
              0.3387649771
             ],
             "passed_time": 0.4150458327,
             "remaining_time": 0.1037614582,
             "test": [
              0.688578796
             ]
            },
            {
             "iteration": 240,
             "learn": [
              0.3383134564
             ],
             "passed_time": 0.4165284004,
             "remaining_time": 0.1019716831,
             "test": [
              0.6884380716
             ]
            },
            {
             "iteration": 241,
             "learn": [
              0.3373316504
             ],
             "passed_time": 0.4180502871,
             "remaining_time": 0.1001938705,
             "test": [
              0.688539049
             ]
            },
            {
             "iteration": 242,
             "learn": [
              0.3365362883
             ],
             "passed_time": 0.4195600933,
             "remaining_time": 0.09841533052,
             "test": [
              0.6888423658
             ]
            },
            {
             "iteration": 243,
             "learn": [
              0.3357822019
             ],
             "passed_time": 0.4209614798,
             "remaining_time": 0.09661411011,
             "test": [
              0.689317496
             ]
            },
            {
             "iteration": 244,
             "learn": [
              0.3352657675
             ],
             "passed_time": 0.4224904291,
             "remaining_time": 0.09484479021,
             "test": [
              0.6895963534
             ]
            },
            {
             "iteration": 245,
             "learn": [
              0.3342713865
             ],
             "passed_time": 0.4241000906,
             "remaining_time": 0.09309514184,
             "test": [
              0.6897687432
             ]
            },
            {
             "iteration": 246,
             "learn": [
              0.3336873534
             ],
             "passed_time": 0.4256746424,
             "remaining_time": 0.09133909331,
             "test": [
              0.68939713
             ]
            },
            {
             "iteration": 247,
             "learn": [
              0.3329965613
             ],
             "passed_time": 0.427133694,
             "remaining_time": 0.08956029068,
             "test": [
              0.6893615457
             ]
            },
            {
             "iteration": 248,
             "learn": [
              0.3325316114
             ],
             "passed_time": 0.4285972168,
             "remaining_time": 0.08778497211,
             "test": [
              0.6908394954
             ]
            },
            {
             "iteration": 249,
             "learn": [
              0.3316052021
             ],
             "passed_time": 0.4300364116,
             "remaining_time": 0.08600728232,
             "test": [
              0.6917742658
             ]
            },
            {
             "iteration": 250,
             "learn": [
              0.3304867167
             ],
             "passed_time": 0.4317145657,
             "remaining_time": 0.08427893913,
             "test": [
              0.6919613208
             ]
            },
            {
             "iteration": 251,
             "learn": [
              0.3294025279
             ],
             "passed_time": 0.4333606062,
             "remaining_time": 0.08254487738,
             "test": [
              0.6921568838
             ]
            },
            {
             "iteration": 252,
             "learn": [
              0.328485849
             ],
             "passed_time": 0.4349106179,
             "remaining_time": 0.0807936721,
             "test": [
              0.6923213136
             ]
            },
            {
             "iteration": 253,
             "learn": [
              0.3281964723
             ],
             "passed_time": 0.4364956424,
             "remaining_time": 0.07905039194,
             "test": [
              0.6924820602
             ]
            },
            {
             "iteration": 254,
             "learn": [
              0.3272884619
             ],
             "passed_time": 0.4380593414,
             "remaining_time": 0.07730458966,
             "test": [
              0.6929962663
             ]
            },
            {
             "iteration": 255,
             "learn": [
              0.326753526
             ],
             "passed_time": 0.4396319227,
             "remaining_time": 0.07556173671,
             "test": [
              0.6931123484
             ]
            },
            {
             "iteration": 256,
             "learn": [
              0.3262722851
             ],
             "passed_time": 0.4411294543,
             "remaining_time": 0.07380765189,
             "test": [
              0.6930400869
             ]
            },
            {
             "iteration": 257,
             "learn": [
              0.3255340034
             ],
             "passed_time": 0.4425976783,
             "remaining_time": 0.07205078484,
             "test": [
              0.6929685812
             ]
            },
            {
             "iteration": 258,
             "learn": [
              0.3248686945
             ],
             "passed_time": 0.4441148451,
             "remaining_time": 0.0703038944,
             "test": [
              0.6927254198
             ]
            },
            {
             "iteration": 259,
             "learn": [
              0.324004427
             ],
             "passed_time": 0.4456002836,
             "remaining_time": 0.06855388978,
             "test": [
              0.692705457
             ]
            },
            {
             "iteration": 260,
             "learn": [
              0.3235173945
             ],
             "passed_time": 0.447070118,
             "remaining_time": 0.06680358085,
             "test": [
              0.6926736029
             ]
            },
            {
             "iteration": 261,
             "learn": [
              0.3224650831
             ],
             "passed_time": 0.4484701542,
             "remaining_time": 0.06504528953,
             "test": [
              0.6932657046
             ]
            },
            {
             "iteration": 262,
             "learn": [
              0.3212640894
             ],
             "passed_time": 0.4499424492,
             "remaining_time": 0.06329988829,
             "test": [
              0.6931872764
             ]
            },
            {
             "iteration": 263,
             "learn": [
              0.3205856067
             ],
             "passed_time": 0.451364031,
             "remaining_time": 0.06154964059,
             "test": [
              0.6931902557
             ]
            },
            {
             "iteration": 264,
             "learn": [
              0.3199462394
             ],
             "passed_time": 0.4528348157,
             "remaining_time": 0.05980837188,
             "test": [
              0.693063734
             ]
            },
            {
             "iteration": 265,
             "learn": [
              0.3192481959
             ],
             "passed_time": 0.4544718575,
             "remaining_time": 0.0580903878,
             "test": [
              0.6931031615
             ]
            },
            {
             "iteration": 266,
             "learn": [
              0.3182646637
             ],
             "passed_time": 0.4560772637,
             "remaining_time": 0.0563691,
             "test": [
              0.6928456112
             ]
            },
            {
             "iteration": 267,
             "learn": [
              0.3171300794
             ],
             "passed_time": 0.457558441,
             "remaining_time": 0.0546338437,
             "test": [
              0.6932138926
             ]
            },
            {
             "iteration": 268,
             "learn": [
              0.3161415862
             ],
             "passed_time": 0.4590118911,
             "remaining_time": 0.05289728114,
             "test": [
              0.6933033639
             ]
            },
            {
             "iteration": 269,
             "learn": [
              0.3155667754
             ],
             "passed_time": 0.4605395538,
             "remaining_time": 0.05117106154,
             "test": [
              0.6934902066
             ]
            },
            {
             "iteration": 270,
             "learn": [
              0.3147130118
             ],
             "passed_time": 0.4620859188,
             "remaining_time": 0.04944830865,
             "test": [
              0.6935789443
             ]
            },
            {
             "iteration": 271,
             "learn": [
              0.3138790178
             ],
             "passed_time": 0.4636112932,
             "remaining_time": 0.04772469195,
             "test": [
              0.693207137
             ]
            },
            {
             "iteration": 272,
             "learn": [
              0.3130864443
             ],
             "passed_time": 0.4652899715,
             "remaining_time": 0.04601768949,
             "test": [
              0.693445612
             ]
            },
            {
             "iteration": 273,
             "learn": [
              0.3120551927
             ],
             "passed_time": 0.4669141578,
             "remaining_time": 0.04430572301,
             "test": [
              0.6930932219
             ]
            },
            {
             "iteration": 274,
             "learn": [
              0.3112743994
             ],
             "passed_time": 0.4683848725,
             "remaining_time": 0.04258044295,
             "test": [
              0.6932920776
             ]
            },
            {
             "iteration": 275,
             "learn": [
              0.3106571923
             ],
             "passed_time": 0.4698427738,
             "remaining_time": 0.04085589337,
             "test": [
              0.6935494807
             ]
            },
            {
             "iteration": 276,
             "learn": [
              0.3097063641
             ],
             "passed_time": 0.4712951073,
             "remaining_time": 0.03913280674,
             "test": [
              0.6935684128
             ]
            },
            {
             "iteration": 277,
             "learn": [
              0.3088396173
             ],
             "passed_time": 0.4728620734,
             "remaining_time": 0.03742073962,
             "test": [
              0.693982442
             ]
            },
            {
             "iteration": 278,
             "learn": [
              0.3085693381
             ],
             "passed_time": 0.4743013298,
             "remaining_time": 0.03570010009,
             "test": [
              0.6938990144
             ]
            },
            {
             "iteration": 279,
             "learn": [
              0.3079800557
             ],
             "passed_time": 0.4757870484,
             "remaining_time": 0.03398478917,
             "test": [
              0.6942123949
             ]
            },
            {
             "iteration": 280,
             "learn": [
              0.3071150696
             ],
             "passed_time": 0.4773084363,
             "remaining_time": 0.03227352416,
             "test": [
              0.6939201018
             ]
            },
            {
             "iteration": 281,
             "learn": [
              0.3061639564
             ],
             "passed_time": 0.4787508935,
             "remaining_time": 0.03055856767,
             "test": [
              0.6941478705
             ]
            },
            {
             "iteration": 282,
             "learn": [
              0.3058850503
             ],
             "passed_time": 0.4801241127,
             "remaining_time": 0.02884137779,
             "test": [
              0.6940409857
             ]
            },
            {
             "iteration": 283,
             "learn": [
              0.3056928685
             ],
             "passed_time": 0.4817169892,
             "remaining_time": 0.02713898531,
             "test": [
              0.6940398923
             ]
            },
            {
             "iteration": 284,
             "learn": [
              0.3050221599
             ],
             "passed_time": 0.4833042544,
             "remaining_time": 0.02543706602,
             "test": [
              0.6940415933
             ]
            },
            {
             "iteration": 285,
             "learn": [
              0.3047565189
             ],
             "passed_time": 0.484769606,
             "remaining_time": 0.02372998071,
             "test": [
              0.6939749949
             ]
            },
            {
             "iteration": 286,
             "learn": [
              0.3040544139
             ],
             "passed_time": 0.4863164321,
             "remaining_time": 0.02202827045,
             "test": [
              0.6939220939
             ]
            },
            {
             "iteration": 287,
             "learn": [
              0.3028091282
             ],
             "passed_time": 0.4877721729,
             "remaining_time": 0.02032384054,
             "test": [
              0.693463652
             ]
            },
            {
             "iteration": 288,
             "learn": [
              0.3020164077
             ],
             "passed_time": 0.4893360303,
             "remaining_time": 0.01862524683,
             "test": [
              0.6939138069
             ]
            },
            {
             "iteration": 289,
             "learn": [
              0.3017573762
             ],
             "passed_time": 0.490928392,
             "remaining_time": 0.01692856524,
             "test": [
              0.6938162867
             ]
            },
            {
             "iteration": 290,
             "learn": [
              0.3009526329
             ],
             "passed_time": 0.4926046299,
             "remaining_time": 0.01523519474,
             "test": [
              0.6943711818
             ]
            },
            {
             "iteration": 291,
             "learn": [
              0.300746818
             ],
             "passed_time": 0.4940941462,
             "remaining_time": 0.01353682592,
             "test": [
              0.6942779214
             ]
            },
            {
             "iteration": 292,
             "learn": [
              0.3006926853
             ],
             "passed_time": 0.4954481188,
             "remaining_time": 0.01183664448,
             "test": [
              0.69425779
             ]
            },
            {
             "iteration": 293,
             "learn": [
              0.3000720164
             ],
             "passed_time": 0.4968784344,
             "remaining_time": 0.01014037621,
             "test": [
              0.6944560804
             ]
            },
            {
             "iteration": 294,
             "learn": [
              0.2993953929
             ],
             "passed_time": 0.4983257129,
             "remaining_time": 0.008446198524,
             "test": [
              0.6945016428
             ]
            },
            {
             "iteration": 295,
             "learn": [
              0.2986438924
             ],
             "passed_time": 0.4998561632,
             "remaining_time": 0.006754813016,
             "test": [
              0.6947032824
             ]
            },
            {
             "iteration": 296,
             "learn": [
              0.2982117874
             ],
             "passed_time": 0.5013261376,
             "remaining_time": 0.00506390038,
             "test": [
              0.6944876959
             ]
            },
            {
             "iteration": 297,
             "learn": [
              0.2978049362
             ],
             "passed_time": 0.502849256,
             "remaining_time": 0.003374827221,
             "test": [
              0.694266401
             ]
            },
            {
             "iteration": 298,
             "learn": [
              0.2971459324
             ],
             "passed_time": 0.5043106582,
             "remaining_time": 0.00168665772,
             "test": [
              0.6945081676
             ]
            },
            {
             "iteration": 299,
             "learn": [
              0.2965524552
             ],
             "passed_time": 0.5058914416,
             "remaining_time": 0,
             "test": [
              0.6950111657
             ]
            }
           ],
           "meta": {
            "iteration_count": 300,
            "launch_mode": "Train",
            "learn_metrics": [
             {
              "best_value": "Min",
              "name": "RMSE"
             }
            ],
            "learn_sets": [
             "learn"
            ],
            "name": "experiment",
            "parameters": "",
            "test_metrics": [
             {
              "best_value": "Min",
              "name": "RMSE"
             }
            ],
            "test_sets": [
             "test"
            ]
           }
          },
          "passed_iterations": 299,
          "total_iterations": 300
         },
         "name": "catboost_info",
         "path": "catboost_info"
        }
       },
       "layout": "IPY_MODEL_b2afe0336a844b119d55241cf1840b0a"
      }
     },
     "f4e5d3136e9c4210b27d4b1d314d51ce": {
      "model_module": "@jupyter-widgets/base",
      "model_module_version": "1.2.0",
      "model_name": "LayoutModel",
      "state": {}
     },
     "f60f19cc9d0d486ba0b42aba2577d14e": {
      "model_module": "@jupyter-widgets/controls",
      "model_module_version": "1.5.0",
      "model_name": "ProgressStyleModel",
      "state": {
       "description_width": ""
      }
     },
     "f733fc09c7474c3e9385ffdaa3eb022f": {
      "model_module": "@jupyter-widgets/controls",
      "model_module_version": "1.5.0",
      "model_name": "HTMLModel",
      "state": {
       "layout": "IPY_MODEL_951d286036c34397ae3064e4ad74f231",
       "style": "IPY_MODEL_88dc4124616f4daf8758986af90cc014",
       "value": " 0/61786 [00:01&lt;?, ?it/s]"
      }
     },
     "f791336acdcc4c3b88c1c83ad6e62023": {
      "model_module": "@jupyter-widgets/controls",
      "model_module_version": "1.5.0",
      "model_name": "ProgressStyleModel",
      "state": {
       "description_width": ""
      }
     }
    },
    "version_major": 2,
    "version_minor": 0
   }
  }
 },
 "nbformat": 4,
 "nbformat_minor": 5
}
